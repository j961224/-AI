{
  "nbformat": 4,
  "nbformat_minor": 0,
  "metadata": {
    "colab": {
      "name": "Api와 번역하기.ipynb",
      "provenance": [],
      "collapsed_sections": []
    },
    "kernelspec": {
      "name": "python3",
      "display_name": "Python 3"
    },
    "language_info": {
      "name": "python"
    }
  },
  "cells": [
    {
      "cell_type": "code",
      "metadata": {
        "id": "VbmmPth1W6mc"
      },
      "source": [
        ""
      ],
      "execution_count": null,
      "outputs": []
    },
    {
      "cell_type": "markdown",
      "metadata": {
        "id": "RBl32ptYW-fC"
      },
      "source": [
        "# Api 사용\n"
      ]
    },
    {
      "cell_type": "markdown",
      "metadata": {
        "id": "ioDhByNRXH_K"
      },
      "source": [
        "client와 server를 연결하는 api\n",
        "\n",
        "f-string: 문자열 안에 원하는 변수를 넣을 수 있다.\n",
        "(ex. api=f\"~\")\n",
        "\n",
        "json은 파이썬에서 제공하고 모양은 dictionary와 유사\n",
        "-> json은 문자열(str)\n",
        "\n",
        "json.loads(str): 일반 type을 json으로 변경 시!"
      ]
    },
    {
      "cell_type": "markdown",
      "metadata": {
        "id": "t1LwfdU_XnB9"
      },
      "source": [
        "**날씨 api 받아서 쓰기**"
      ]
    },
    {
      "cell_type": "code",
      "metadata": {
        "id": "IhVOHXslXAxI"
      },
      "source": [
        "import requests\n",
        "import json\n",
        "\n",
        "city = \"Seoul\"\n",
        "apikey = \"fb3fb6378a018c2ee4ad0d21c1fbb40d\"\n",
        "api = f\"http://api.openweathermap.org/data/2.5/weather?q={city}&appid={apikey}\"\n",
        "#api에 lagn=\"kr\", units=\"metric\"하면 한국어와 화씨를 섭씨로 변경\n",
        "#-> api 끝에 &와 lang={lang}&units={units}추가!\n",
        "\n",
        "result = requests.get(api)\n",
        "print(result.text)\n",
        "\n",
        "data = json.loads(result.text)\n",
        "\n",
        "# print(type(result.text))\n",
        "# print(type(data))\n",
        "\n",
        "print(data[\"name\"],\"의 날씨입니다.\")\n",
        "print(\"날씨는 \",data[\"weather\"][0][\"main\"],\"입니다.\") -> dict의 list의 dict\n",
        "print(\"현재 온도는 \",data[\"main\"][\"temp\"],\"입니다.\") -> dict의 dict\n",
        "print(\"하지만 체감 온도는 \",data[\"main\"][\"feels_like\"],\"입니다.\")\n",
        "# 최저 기온 : main - temp_min\n",
        "print(\"최저 기온은 \",data[\"main\"][\"temp_min\"],\"입니다.\")\n",
        "# 최고 기온 : main - temp_max\n",
        "print(\"최고 기온은 \",data[\"main\"][\"temp_max\"],\"입니다.\")\n",
        "# 습도 : main - humidity\n",
        "print(\"습도는 \",data[\"main\"][\"humidity\"],\"입니다.\")\n",
        "# 기압 : main - pressure\n",
        "print(\"기압은 \",data[\"main\"][\"pressure\"],\"입니다.\")\n",
        "# 풍향 : wind - deg\n",
        "print(\"풍향은 \",data[\"wind\"][\"deg\"],\"입니다.\")\n",
        "# 풍속 : wind - speed\n",
        "print(\"풍속은 \",data[\"wind\"][\"speed\"],\"입니다.\")\n"
      ],
      "execution_count": null,
      "outputs": []
    },
    {
      "cell_type": "markdown",
      "metadata": {
        "id": "4SB1e7EKX_lb"
      },
      "source": [
        "# 번역하기"
      ]
    },
    {
      "cell_type": "code",
      "metadata": {
        "id": "g-Tr5gAbYA6n"
      },
      "source": [
        "#googletrans -> 언어 감지 및 번역 기능 있는 라이브러리\n",
        "#from googletrans import Translator\n",
        "\n",
        "#translator = Translator()\n",
        "\n",
        "#sentence = 한글문장\n",
        "#detected = traslator.detect(sentence)\n",
        "\n",
        "#print(detected) -> 결과값 -> 언어감지결과, 한국어(detected.lang)고 신뢰도는 1.0으로 100% 한국어라는 뜻\n",
        "\n",
        "#translate(text,dest,src) -> 번역하는 명령, text:문장, dest:어떤 언어로 번역, src:source text(언어 재료)(생략가능)\n",
        "\n",
        "\n",
        "from googletrans import Translator\n",
        "\n",
        "translator = Translator()\n",
        "\n",
        "# sentence = \"안녕하세요 코드라이언입니다.\"\n",
        "sentence = input(\"언어를 감지할 문장을 입력해주세요 : \")\n",
        "\n",
        "result = translator.translate(sentence,'zh-CN')\n",
        "detected = translator.detect(sentence)\n",
        "\n",
        "print(\"===========출 력 결 과===========\")\n",
        "print(detected.lang,\":\",sentence)   -> ko : 안녕하세요 코드라이언입니다.\n",
        "print(result.dest,\":\",result.text)  -> zh-cn : 중국어~~~\n",
        "print(\"=================================\")\n",
        "\n",
        "# fr: 프랑스어\n",
        "# ar: 아랍어\n",
        "# vi: 베트남어\n",
        "# de: 독일어\n",
        "# es: 스페인어\n",
        "# mn: 몽골어\n",
        "# zh-CN: 중국어\n",
        "# hi: 힌디어"
      ],
      "execution_count": null,
      "outputs": []
    }
  ]
}