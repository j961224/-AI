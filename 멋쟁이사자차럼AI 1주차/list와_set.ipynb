{
  "nbformat": 4,
  "nbformat_minor": 0,
  "metadata": {
    "colab": {
      "name": "list와 set.ipynb",
      "provenance": [],
      "collapsed_sections": []
    },
    "kernelspec": {
      "name": "python3",
      "display_name": "Python 3"
    },
    "language_info": {
      "name": "python"
    }
  },
  "cells": [
    {
      "cell_type": "markdown",
      "metadata": {
        "id": "mg8F6HxwOaHE"
      },
      "source": [
        "# list와 set"
      ]
    },
    {
      "cell_type": "markdown",
      "metadata": {
        "id": "htLNry7MOdC7"
      },
      "source": [
        "list는 [] 형태로 중복되는지 상관없이 출력\n",
        "\n",
        "\n",
        "set(집합)은 {} 형태로 중복되면 제거하고 출력"
      ]
    },
    {
      "cell_type": "markdown",
      "metadata": {
        "id": "CPxOCntOOlPB"
      },
      "source": [
        "set 2개 사이에 | 넣으면 합집합 완성\n",
        "\n",
        "set 2개 사이에 & 넣으면 교집합 완성\n",
        "\n",
        "set 2개 사이에 - 넣으면 차집합 완성"
      ]
    },
    {
      "cell_type": "markdown",
      "metadata": {
        "id": "SBALOAXlOwnS"
      },
      "source": [
        "**메뉴 자판기(list 연관)**"
      ]
    },
    {
      "cell_type": "code",
      "metadata": {
        "id": "Va0PegKIObtV"
      },
      "source": [
        "import random\n",
        "import time\n",
        "\n",
        "lunch = [\"된장찌개\",\"피자\", \"제육볶음\", \"짜장면\"]\n",
        "\n",
        "while True:\n",
        "    print(lunch)\n",
        "    item = input(\"음식을 추가해주세요: \")\n",
        "    if item==\"q\":\n",
        "        break\n",
        "    else:\n",
        "        lunch.append(item)\n",
        "\n",
        "print(lunch)\n",
        "set_lunch=set(lunch)\n",
        "\n",
        "while True:\n",
        "    print(set_lunch)\n",
        "    item=input(\"뺄 음식을 말해주세요: \")\n",
        "    if item==\"q\":\n",
        "        break\n",
        "    else:\n",
        "        set_lunch=set_lunch-set([item])\n",
        "\n",
        "print(set_lunch, \"중에서 선택합니다\")\n",
        "timer=5\n",
        "while True:\n",
        "    if timer==0:\n",
        "        print(random.choice(list(set_lunch))) #random으로 뽑으려면 집합을 list형식으로 변환해줘야한다.\n",
        "        break\n",
        "    else:\n",
        "        print(timer)\n",
        "        time.sleep(1)\n",
        "        timer=timer-1"
      ],
      "execution_count": null,
      "outputs": []
    }
  ]
}