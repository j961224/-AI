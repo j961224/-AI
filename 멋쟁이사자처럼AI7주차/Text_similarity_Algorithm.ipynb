{
  "nbformat": 4,
  "nbformat_minor": 0,
  "metadata": {
    "colab": {
      "name": "Text_similarity_Algorithm.ipynb",
      "provenance": [],
      "collapsed_sections": []
    },
    "kernelspec": {
      "name": "python3",
      "display_name": "Python 3"
    },
    "language_info": {
      "name": "python"
    }
  },
  "cells": [
    {
      "cell_type": "markdown",
      "metadata": {
        "id": "eX1ij-1xRlPy"
      },
      "source": [
        "# Text Similarity Algorithm 실습"
      ]
    },
    {
      "cell_type": "markdown",
      "metadata": {
        "id": "Qa1uxZATRrSs"
      },
      "source": [
        "## 1. n-gram"
      ]
    },
    {
      "cell_type": "markdown",
      "metadata": {
        "id": "VHFfagT6SKZM"
      },
      "source": [
        "n-gram은 주어진 문장에서 n개의 연속적인 단어 시퀀스를 의미\n",
        "\n",
        "서로 다른 문장을 n-gram으로 비교하면 단어의 출현 빈도에 기반한 유사도 계산"
      ]
    },
    {
      "cell_type": "markdown",
      "metadata": {
        "id": "px8Xl8K4WsN3"
      },
      "source": [
        "![z1.png](data:image/png;base64,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)"
      ]
    },
    {
      "cell_type": "markdown",
      "metadata": {
        "id": "soaU2o09WyoA"
      },
      "source": [
        "유사도 계산 방법"
      ]
    },
    {
      "cell_type": "code",
      "metadata": {
        "id": "OrI4HvkeRp9q"
      },
      "source": [
        "#어절 단위 n-gram\n",
        "#추출된 토큰들은 튜플 형태로 반환\n",
        "def word_ngram(bow, num_gram):\n",
        "  text = tuple(bow)\n",
        "  ngrams = [text[x:x+num_gram] for x in range(0,len(text))]\n",
        "  return tuple(ngrams)\n",
        "\n",
        "#유사도 계산\n",
        "def similarity(doc1, doc2):\n",
        "  cnt=0\n",
        "  for token in doc1:\n",
        "    if token in doc2:\n",
        "      cnt=cnt+1\n",
        "  return cnt/len(doc1)\n"
      ],
      "execution_count": 5,
      "outputs": []
    },
    {
      "cell_type": "code",
      "metadata": {
        "colab": {
          "base_uri": "https://localhost:8080/"
        },
        "id": "SBu_KyS1XUIA",
        "outputId": "f346399c-47f0-4892-9724-5becc6b4db7c"
      },
      "source": [
        "from konlpy.tag import Komoran\n",
        "\n",
        "sentence1 = '6월에 뉴턴은 선생님의 제안으로 티리니티에 입학하였다'\n",
        "sentence2 = '6월에 뉴턴은 선생님의 제안으로 대학교에 입학하였다'\n",
        "sentence3 = '나는 맛있는 밥을 뉴턴 선생님과 함께 먹었습니다'\n",
        "\n",
        "#형태소 분석기에서 명사 추출\n",
        "komoran = Komoran()\n",
        "bow1 = komoran.nouns(sentence1)\n",
        "bow2 = komoran.nouns(sentence2)\n",
        "bow3 = komoran.nouns(sentence3)\n",
        "\n",
        "#단어 n-gram 토큰 추출\n",
        "doc1 = word_ngram(bow1,2)\n",
        "doc2 = word_ngram(bow2,2)\n",
        "doc3 = word_ngram(bow3,2)\n",
        "\n",
        "#추출된 n-gram 토큰 출력\n",
        "print(doc1)\n",
        "print(doc2)\n",
        "print(doc3)\n",
        "\n"
      ],
      "execution_count": 6,
      "outputs": [
        {
          "output_type": "stream",
          "text": [
            "(('6월', '뉴턴'), ('뉴턴', '선생님'), ('선생님', '제안'), ('제안', '티'), ('티', '리'), ('리', '티에'), ('티에', '입학'), ('입학',))\n",
            "(('6월', '뉴턴'), ('뉴턴', '선생님'), ('선생님', '제안'), ('제안', '대학교'), ('대학교', '입학'), ('입학',))\n",
            "(('밥', '뉴턴'), ('뉴턴', '선생'), ('선생', '님과 함께'), ('님과 함께',))\n"
          ],
          "name": "stdout"
        }
      ]
    },
    {
      "cell_type": "code",
      "metadata": {
        "colab": {
          "base_uri": "https://localhost:8080/"
        },
        "id": "WDyElR5EYZZV",
        "outputId": "87494a58-4b4c-4cff-f671-43beb62ce8d1"
      },
      "source": [
        "pip install konlpy"
      ],
      "execution_count": 3,
      "outputs": [
        {
          "output_type": "stream",
          "text": [
            "Collecting konlpy\n",
            "\u001b[?25l  Downloading https://files.pythonhosted.org/packages/85/0e/f385566fec837c0b83f216b2da65db9997b35dd675e107752005b7d392b1/konlpy-0.5.2-py2.py3-none-any.whl (19.4MB)\n",
            "\u001b[K     |████████████████████████████████| 19.4MB 1.5MB/s \n",
            "\u001b[?25hCollecting JPype1>=0.7.0\n",
            "\u001b[?25l  Downloading https://files.pythonhosted.org/packages/cd/a5/9781e2ef4ca92d09912c4794642c1653aea7607f473e156cf4d423a881a1/JPype1-1.2.1-cp37-cp37m-manylinux2010_x86_64.whl (457kB)\n",
            "\u001b[K     |████████████████████████████████| 460kB 39.6MB/s \n",
            "\u001b[?25hRequirement already satisfied: numpy>=1.6 in /usr/local/lib/python3.7/dist-packages (from konlpy) (1.19.5)\n",
            "Collecting beautifulsoup4==4.6.0\n",
            "\u001b[?25l  Downloading https://files.pythonhosted.org/packages/9e/d4/10f46e5cfac773e22707237bfcd51bbffeaf0a576b0a847ec7ab15bd7ace/beautifulsoup4-4.6.0-py3-none-any.whl (86kB)\n",
            "\u001b[K     |████████████████████████████████| 92kB 7.6MB/s \n",
            "\u001b[?25hRequirement already satisfied: lxml>=4.1.0 in /usr/local/lib/python3.7/dist-packages (from konlpy) (4.2.6)\n",
            "Requirement already satisfied: tweepy>=3.7.0 in /usr/local/lib/python3.7/dist-packages (from konlpy) (3.10.0)\n",
            "Collecting colorama\n",
            "  Downloading https://files.pythonhosted.org/packages/44/98/5b86278fbbf250d239ae0ecb724f8572af1c91f4a11edf4d36a206189440/colorama-0.4.4-py2.py3-none-any.whl\n",
            "Requirement already satisfied: typing-extensions; python_version < \"3.8\" in /usr/local/lib/python3.7/dist-packages (from JPype1>=0.7.0->konlpy) (3.7.4.3)\n",
            "Requirement already satisfied: six>=1.10.0 in /usr/local/lib/python3.7/dist-packages (from tweepy>=3.7.0->konlpy) (1.15.0)\n",
            "Requirement already satisfied: requests[socks]>=2.11.1 in /usr/local/lib/python3.7/dist-packages (from tweepy>=3.7.0->konlpy) (2.23.0)\n",
            "Requirement already satisfied: requests-oauthlib>=0.7.0 in /usr/local/lib/python3.7/dist-packages (from tweepy>=3.7.0->konlpy) (1.3.0)\n",
            "Requirement already satisfied: urllib3!=1.25.0,!=1.25.1,<1.26,>=1.21.1 in /usr/local/lib/python3.7/dist-packages (from requests[socks]>=2.11.1->tweepy>=3.7.0->konlpy) (1.24.3)\n",
            "Requirement already satisfied: certifi>=2017.4.17 in /usr/local/lib/python3.7/dist-packages (from requests[socks]>=2.11.1->tweepy>=3.7.0->konlpy) (2020.12.5)\n",
            "Requirement already satisfied: chardet<4,>=3.0.2 in /usr/local/lib/python3.7/dist-packages (from requests[socks]>=2.11.1->tweepy>=3.7.0->konlpy) (3.0.4)\n",
            "Requirement already satisfied: idna<3,>=2.5 in /usr/local/lib/python3.7/dist-packages (from requests[socks]>=2.11.1->tweepy>=3.7.0->konlpy) (2.10)\n",
            "Requirement already satisfied: PySocks!=1.5.7,>=1.5.6; extra == \"socks\" in /usr/local/lib/python3.7/dist-packages (from requests[socks]>=2.11.1->tweepy>=3.7.0->konlpy) (1.7.1)\n",
            "Requirement already satisfied: oauthlib>=3.0.0 in /usr/local/lib/python3.7/dist-packages (from requests-oauthlib>=0.7.0->tweepy>=3.7.0->konlpy) (3.1.0)\n",
            "Installing collected packages: JPype1, beautifulsoup4, colorama, konlpy\n",
            "  Found existing installation: beautifulsoup4 4.6.3\n",
            "    Uninstalling beautifulsoup4-4.6.3:\n",
            "      Successfully uninstalled beautifulsoup4-4.6.3\n",
            "Successfully installed JPype1-1.2.1 beautifulsoup4-4.6.0 colorama-0.4.4 konlpy-0.5.2\n"
          ],
          "name": "stdout"
        }
      ]
    },
    {
      "cell_type": "code",
      "metadata": {
        "id": "nVG9y4nuYpzu"
      },
      "source": [
        "#유사도 계산\n",
        "r1 = similarity(doc1,doc2)\n",
        "r2 = similarity(doc3,doc1)"
      ],
      "execution_count": 7,
      "outputs": []
    },
    {
      "cell_type": "code",
      "metadata": {
        "colab": {
          "base_uri": "https://localhost:8080/"
        },
        "id": "wWQfk3G0YVER",
        "outputId": "4cfeeb7e-f36e-445e-b455-4d73215f56c5"
      },
      "source": [
        "print(r1, r2)"
      ],
      "execution_count": 8,
      "outputs": [
        {
          "output_type": "stream",
          "text": [
            "0.5 0.0\n"
          ],
          "name": "stdout"
        }
      ]
    },
    {
      "cell_type": "markdown",
      "metadata": {
        "id": "WIY5HhvXZRVs"
      },
      "source": [
        "n-gram은 모든 단어의 출현 빈도를 확인하는 것이 아닌, 연속되는 문장에서 일부 단어만 확인\n",
        "\n",
        "전체 문장을 고려한 언어 모델보다 정확도가 떨어질 수 있다."
      ]
    },
    {
      "cell_type": "markdown",
      "metadata": {
        "id": "Id5hKRX8Zeql"
      },
      "source": [
        "## 2. 코사인 유사도"
      ]
    },
    {
      "cell_type": "markdown",
      "metadata": {
        "id": "pcug7zncZh6V"
      },
      "source": [
        "단어나 문장을 벡터로 표현할 수 있다면 벡터 간 거리나 각도를 이용해 유사성 파악"
      ]
    },
    {
      "cell_type": "markdown",
      "metadata": {
        "id": "WwetBrtPZt8-"
      },
      "source": [
        "![z2.png](data:image/png;base64,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)"
      ]
    },
    {
      "cell_type": "code",
      "metadata": {
        "id": "AUttbtUKZE54"
      },
      "source": [
        "from konlpy.tag import Komoran\n",
        "import numpy as np\n",
        "from numpy import dot\n",
        "from numpy.linalg import norm\n",
        "\n",
        "#코사인 유사도 계산\n",
        "def cos_sim(vec1, vec2):\n",
        "  return dot(vec1, vec2)/(norm(vec1)*norm(vec2))"
      ],
      "execution_count": 9,
      "outputs": []
    },
    {
      "cell_type": "code",
      "metadata": {
        "id": "QClqR9hZdT5c"
      },
      "source": [
        "#TDM 만들기\n",
        "#비교 문장에서 추출한 단어 사전을 기준으로 문장에 해당 단어들이\n",
        "#얼마나 포함되어 있는지 보여주는 단어 문서 행렬 TDM만들기\n",
        "def make_term_doc_mat(sentence_bow, word_dics):\n",
        "  freq_mat = {}\n",
        "\n",
        "  for word in word_dics:\n",
        "    freq_mat[word]=0\n",
        "  \n",
        "  for word in word_dics:\n",
        "    if word in sentence_bow:\n",
        "      freq_mat[word]+=1\n",
        "  \n",
        "  return freq_mat\n",
        "\n",
        "#단어 벡터 만들기\n",
        "def make_vector(tdm):\n",
        "  vec = []\n",
        "  for key in tdm:\n",
        "    vec.append(tdm[key])\n",
        "  return vec"
      ],
      "execution_count": 10,
      "outputs": []
    },
    {
      "cell_type": "code",
      "metadata": {
        "colab": {
          "base_uri": "https://localhost:8080/"
        },
        "id": "pSPmU8mxeSbW",
        "outputId": "8204ead8-c76a-4e02-e50e-19ee04bb6804"
      },
      "source": [
        "from konlpy.tag import Komoran\n",
        "\n",
        "sentence1 = '6월에 뉴턴은 선생님의 제안으로 티리니티에 입학하였다'\n",
        "sentence2 = '6월에 뉴턴은 선생님의 제안으로 대학교에 입학하였다'\n",
        "sentence3 = '나는 맛있는 밥을 뉴턴 선생님과 함께 먹었습니다.'\n",
        "\n",
        "#형태소 분석기를 이용해 단어 묶음 리스트 생성\n",
        "komoran = Komoran()\n",
        "bow1 = komoran.nouns(sentence1)\n",
        "bow2 = komoran.nouns(sentence2)\n",
        "bow3 = komoran.nouns(sentence3)\n",
        "\n",
        "#단어 묶음 리스트를 하나로 합침 -> TDM을 위해서\n",
        "bow = bow1+bow2+bow3\n",
        "\n",
        "#단어 묶음에서 중복 제거하고 단어 사전 만들기\n",
        "word_dics=[]\n",
        "for token in bow:\n",
        "  if token not in word_dics:\n",
        "    word_dics.append(token)\n",
        "\n",
        "#문장 별 단어 문서 행렬 계산\n",
        "freq_list1 = make_term_doc_mat(bow1, word_dics)\n",
        "freq_list2 = make_term_doc_mat(bow2, word_dics)\n",
        "freq_list3 = make_term_doc_mat(bow3, word_dics)\n",
        "print(freq_list1)\n",
        "print(freq_list2)\n",
        "print(freq_list3)"
      ],
      "execution_count": 11,
      "outputs": [
        {
          "output_type": "stream",
          "text": [
            "{'6월': 1, '뉴턴': 1, '선생님': 1, '제안': 1, '티': 1, '리': 1, '티에': 1, '입학': 1, '대학교': 0, '밥': 0, '선생': 0, '님과 함께': 0}\n",
            "{'6월': 1, '뉴턴': 1, '선생님': 1, '제안': 1, '티': 0, '리': 0, '티에': 0, '입학': 1, '대학교': 1, '밥': 0, '선생': 0, '님과 함께': 0}\n",
            "{'6월': 0, '뉴턴': 1, '선생님': 0, '제안': 0, '티': 0, '리': 0, '티에': 0, '입학': 0, '대학교': 0, '밥': 1, '선생': 1, '님과 함께': 1}\n"
          ],
          "name": "stdout"
        }
      ]
    },
    {
      "cell_type": "code",
      "metadata": {
        "colab": {
          "base_uri": "https://localhost:8080/"
        },
        "id": "H3S4JhSFftaB",
        "outputId": "e5b353e5-8543-42d3-95f4-b9ff7ed41f32"
      },
      "source": [
        "#문장 벡터 생성\n",
        "\n",
        "doc1 = np.array(make_vector(freq_list1))\n",
        "doc2 = np.array(make_vector(freq_list2))\n",
        "doc3 = np.array(make_vector(freq_list3))\n",
        "\n",
        "#코사인 유사도 계산\n",
        "r1 = cos_sim(doc1,doc2)\n",
        "r2 = cos_sim(doc3,doc1)\n",
        "print(r1, r2)\n",
        "#r1을 보면 유사도는 n-gram보다 높은 0.72로 정확도가 더 높다.\n",
        "#그리고 r2에서는 그나마 n-gram보다 높은 0.17로 조금 연관이 있게 나왔다."
      ],
      "execution_count": 12,
      "outputs": [
        {
          "output_type": "stream",
          "text": [
            "0.7216878364870323 0.17677669529663687\n"
          ],
          "name": "stdout"
        }
      ]
    },
    {
      "cell_type": "code",
      "metadata": {
        "id": "_XjB7YITgPWI"
      },
      "source": [
        ""
      ],
      "execution_count": null,
      "outputs": []
    }
  ]
}