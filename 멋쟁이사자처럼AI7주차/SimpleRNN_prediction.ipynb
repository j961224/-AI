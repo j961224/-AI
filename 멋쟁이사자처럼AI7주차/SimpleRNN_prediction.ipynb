{
  "nbformat": 4,
  "nbformat_minor": 0,
  "metadata": {
    "colab": {
      "name": "SimpleRNN_prediction.ipynb",
      "provenance": [],
      "collapsed_sections": []
    },
    "kernelspec": {
      "name": "python3",
      "display_name": "Python 3"
    },
    "language_info": {
      "name": "python"
    },
    "accelerator": "GPU"
  },
  "cells": [
    {
      "cell_type": "markdown",
      "metadata": {
        "id": "JeDNhG-X9BJx"
      },
      "source": [
        "# 1. 간단한 simpleRNN을 이용한 숫자 예측"
      ]
    },
    {
      "cell_type": "code",
      "metadata": {
        "id": "RzhWBpIO9FN-"
      },
      "source": [
        "import tensorflow as tf\n",
        "import numpy as np"
      ],
      "execution_count": 2,
      "outputs": []
    },
    {
      "cell_type": "code",
      "metadata": {
        "colab": {
          "base_uri": "https://localhost:8080/"
        },
        "id": "kddd6_i89ITH",
        "outputId": "3b579c18-7636-4542-cb0d-20f443a57439"
      },
      "source": [
        "#시퀀스 예측 데이터 생성\n",
        "X=[]\n",
        "Y=[]\n",
        "\n",
        "#학습 데이터 만들기\n",
        "for i in range(6):\n",
        "  # [0,1,2,3] 등의 정수 시퀀스 만들기\n",
        "\n",
        "  lst = list(range(i,i+4))\n",
        "\n",
        "  #시퀀스의 숫자들을 각각 10으로 나누어 분리하여 배열에 저장\n",
        "  X.append(list(map(lambda c : [c/10],lst)))\n",
        "  #정답에 해당하는 정수 저장\n",
        "  Y.append((i+4)/10)\n",
        "\n",
        "X=np.array(X)\n",
        "Y=np.array(Y)\n",
        "for i in range(len(X)):\n",
        "  print(X[i], Y[i])\n"
      ],
      "execution_count": 3,
      "outputs": [
        {
          "output_type": "stream",
          "text": [
            "[[0. ]\n",
            " [0.1]\n",
            " [0.2]\n",
            " [0.3]] 0.4\n",
            "[[0.1]\n",
            " [0.2]\n",
            " [0.3]\n",
            " [0.4]] 0.5\n",
            "[[0.2]\n",
            " [0.3]\n",
            " [0.4]\n",
            " [0.5]] 0.6\n",
            "[[0.3]\n",
            " [0.4]\n",
            " [0.5]\n",
            " [0.6]] 0.7\n",
            "[[0.4]\n",
            " [0.5]\n",
            " [0.6]\n",
            " [0.7]] 0.8\n",
            "[[0.5]\n",
            " [0.6]\n",
            " [0.7]\n",
            " [0.8]] 0.9\n"
          ],
          "name": "stdout"
        }
      ]
    },
    {
      "cell_type": "code",
      "metadata": {
        "colab": {
          "base_uri": "https://localhost:8080/"
        },
        "id": "wb2MKpy193WX",
        "outputId": "7ed6e4cb-4186-4451-f53c-be6bad23b321"
      },
      "source": [
        "#시퀀스 예측 모델 정의\n",
        "\n",
        "#input_shape = [timesteps,input_dim]\n",
        "#return_sequence -> 다음 계층으로 보내준다.(True 할 경우)\n",
        "\n",
        "model = tf.keras.Sequential([\n",
        "                             tf.keras.layers.SimpleRNN(units=10,return_sequences=False,input_shape=[4,1]),\n",
        "                             #완전 연결 계층\n",
        "                             tf.keras.layers.Dense(1)\n",
        "])\n",
        "\n",
        "model.compile(optimizer='adam',loss='mse')\n",
        "model.summary()"
      ],
      "execution_count": 4,
      "outputs": [
        {
          "output_type": "stream",
          "text": [
            "Model: \"sequential\"\n",
            "_________________________________________________________________\n",
            "Layer (type)                 Output Shape              Param #   \n",
            "=================================================================\n",
            "simple_rnn (SimpleRNN)       (None, 10)                120       \n",
            "_________________________________________________________________\n",
            "dense (Dense)                (None, 1)                 11        \n",
            "=================================================================\n",
            "Total params: 131\n",
            "Trainable params: 131\n",
            "Non-trainable params: 0\n",
            "_________________________________________________________________\n"
          ],
          "name": "stdout"
        }
      ]
    },
    {
      "cell_type": "code",
      "metadata": {
        "colab": {
          "base_uri": "https://localhost:8080/"
        },
        "id": "YqNFJ5Pw-U-s",
        "outputId": "dc3df500-50c2-4406-df7f-448cd8011506"
      },
      "source": [
        "#X는 [1,4,1]차원의 벡터\n",
        "\n",
        "model.fit(X,Y,epochs=100,verbose=0)\n",
        "model.save('simple_rnn_1.h5')\n",
        "print(model.predict(X))"
      ],
      "execution_count": 5,
      "outputs": [
        {
          "output_type": "stream",
          "text": [
            "[[0.46169472]\n",
            " [0.5844375 ]\n",
            " [0.6628818 ]\n",
            " [0.7118065 ]\n",
            " [0.7438177 ]\n",
            " [0.7670337 ]]\n"
          ],
          "name": "stdout"
        }
      ]
    },
    {
      "cell_type": "code",
      "metadata": {
        "colab": {
          "base_uri": "https://localhost:8080/"
        },
        "id": "NqXPHn3e-vIn",
        "outputId": "de814ac8-ff97-416c-b58c-cb3e2454df40"
      },
      "source": [
        "print(model.predict(np.array([[[0.6],[0.7],[0.8],[0.9]]])))"
      ],
      "execution_count": 6,
      "outputs": [
        {
          "output_type": "stream",
          "text": [
            "[[0.7861601]]\n"
          ],
          "name": "stdout"
        }
      ]
    },
    {
      "cell_type": "code",
      "metadata": {
        "colab": {
          "base_uri": "https://localhost:8080/"
        },
        "id": "U6_kWutXAMOy",
        "outputId": "8283be81-1c68-4519-e57d-6d0afdd5341a"
      },
      "source": [
        "print(model.predict(np.array([[[-0.1],[0.0],[0.1],[0.2]]])))"
      ],
      "execution_count": 7,
      "outputs": [
        {
          "output_type": "stream",
          "text": [
            "[[0.28988278]]\n"
          ],
          "name": "stdout"
        }
      ]
    },
    {
      "cell_type": "markdown",
      "metadata": {
        "id": "r2wrD8rdAecE"
      },
      "source": [
        "훈련 결과는 그렇게 좋지 못하다는 것을 알 수 있다."
      ]
    },
    {
      "cell_type": "code",
      "metadata": {
        "id": "4IcUEOnfcQT2"
      },
      "source": [
        ""
      ],
      "execution_count": 8,
      "outputs": []
    }
  ]
}