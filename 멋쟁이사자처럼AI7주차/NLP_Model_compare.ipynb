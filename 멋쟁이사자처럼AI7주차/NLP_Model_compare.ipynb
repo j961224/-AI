{
  "nbformat": 4,
  "nbformat_minor": 0,
  "metadata": {
    "colab": {
      "name": "NLP_Model_compare.ipynb",
      "provenance": [],
      "collapsed_sections": []
    },
    "kernelspec": {
      "name": "python3",
      "display_name": "Python 3"
    },
    "language_info": {
      "name": "python"
    },
    "accelerator": "GPU"
  },
  "cells": [
    {
      "cell_type": "markdown",
      "metadata": {
        "id": "3yidKSrtdgM-"
      },
      "source": [
        "# Simple RNN, LSTM, GRU, 양방향 LSTM 성능 비교"
      ]
    },
    {
      "cell_type": "markdown",
      "metadata": {
        "id": "FEoe8dh6d57u"
      },
      "source": [
        "논문에 나온 실험 여섯개 중에 다섯 번째인 곱셈문제"
      ]
    },
    {
      "cell_type": "markdown",
      "metadata": {
        "id": "lJ5uS2_Qd92f"
      },
      "source": [
        "고려해야할 실수의 범위가 100개이고 그 중에서 마킹된 두 개의 숫자만 곱하는 문제"
      ]
    },
    {
      "cell_type": "markdown",
      "metadata": {
        "id": "mG5q_TyneHuS"
      },
      "source": [
        "여기는 신경망을 만들고 신경망 검증 시, 유명한 데이터(iris 같은 것을 사용)\n",
        "\n",
        "-> 기초적인 문제 제시 -> 이유는 데이터에 대해서 누구나 알 수 있는 것을(데이터 신뢰성 검증 안 해도 되는 것)\n",
        "\n",
        "-> 검증 안 해도 되므로\n",
        "\n",
        "도메인의 대표 데이터들이 있다."
      ]
    },
    {
      "cell_type": "markdown",
      "metadata": {
        "id": "2-N1Lb0Sdydg"
      },
      "source": [
        "## 1. Simple RNN"
      ]
    },
    {
      "cell_type": "code",
      "metadata": {
        "colab": {
          "base_uri": "https://localhost:8080/"
        },
        "id": "VKS1YzGkdvL5",
        "outputId": "2e0689e0-6f3c-40cd-8e93-d41d10faeff8"
      },
      "source": [
        "#LSTM 논문의 6가지 실험 중 다섯번째 곱셈 연산 문제 정의\n",
        "import tensorflow as tf\n",
        "import numpy as np\n",
        "\n",
        "X=[] #독립변수\n",
        "Y=[] #종속변수\n",
        "\n",
        "#3000개의 데이터 생성 / 2560개의 학습 및 검증 / 440개의 테스트 데이터\n",
        "for i in range(3000):\n",
        "  lst = np.random.rand(100)\n",
        "\n",
        "  idx = np.random.choice(100,2,replace=False)\n",
        "\n",
        "  zeros = np.zeros(100)\n",
        "\n",
        "  #문제 가정\n",
        "  zeros[idx]=1\n",
        "  X.append(np.array(list(zip(zeros, lst))))\n",
        "  Y.append(np.prod(lst[idx]))\n",
        "\n",
        "#학습 데이터의 첫번째 값\n",
        "#print(X[0])\n",
        "print(Y[0])"
      ],
      "execution_count": 4,
      "outputs": [
        {
          "output_type": "stream",
          "text": [
            "0.3540706121918213\n"
          ],
          "name": "stdout"
        }
      ]
    },
    {
      "cell_type": "code",
      "metadata": {
        "id": "kjhvR5kUeNGA"
      },
      "source": [
        "model = tf.keras.Sequential([\n",
        "                             tf.keras.layers.SimpleRNN(units=30, return_sequences=True, input_shape=[100,2]),\n",
        "                             tf.keras.layers.SimpleRNN(units=30),\n",
        "                             tf.keras.layers.Dense(1)\n",
        "])"
      ],
      "execution_count": 5,
      "outputs": []
    },
    {
      "cell_type": "code",
      "metadata": {
        "colab": {
          "base_uri": "https://localhost:8080/"
        },
        "id": "GG6znon5ejJQ",
        "outputId": "f0cf088e-cddd-4d46-8afe-b062db582cf4"
      },
      "source": [
        "model.compile(optimizer='adam',loss='mse')\n",
        "model.summary()"
      ],
      "execution_count": 6,
      "outputs": [
        {
          "output_type": "stream",
          "text": [
            "Model: \"sequential\"\n",
            "_________________________________________________________________\n",
            "Layer (type)                 Output Shape              Param #   \n",
            "=================================================================\n",
            "simple_rnn (SimpleRNN)       (None, 100, 30)           990       \n",
            "_________________________________________________________________\n",
            "simple_rnn_1 (SimpleRNN)     (None, 30)                1830      \n",
            "_________________________________________________________________\n",
            "dense (Dense)                (None, 1)                 31        \n",
            "=================================================================\n",
            "Total params: 2,851\n",
            "Trainable params: 2,851\n",
            "Non-trainable params: 0\n",
            "_________________________________________________________________\n"
          ],
          "name": "stdout"
        }
      ]
    },
    {
      "cell_type": "code",
      "metadata": {
        "colab": {
          "base_uri": "https://localhost:8080/"
        },
        "id": "VD4pf2aRepqM",
        "outputId": "91cf6b68-c8bc-4c6f-894b-bd6c5e4f0f93"
      },
      "source": [
        "X=np.array(X)\n",
        "Y=np.array(Y)\n",
        "#훈련 시에는 array화\n",
        "history = model.fit(X[:2560], Y[:2560], epochs=100, validation_split=0.2)"
      ],
      "execution_count": 7,
      "outputs": [
        {
          "output_type": "stream",
          "text": [
            "Epoch 1/100\n",
            "64/64 [==============================] - 4s 41ms/step - loss: 0.0774 - val_loss: 0.0507\n",
            "Epoch 2/100\n",
            "64/64 [==============================] - 2s 30ms/step - loss: 0.0454 - val_loss: 0.0507\n",
            "Epoch 3/100\n",
            "64/64 [==============================] - 2s 31ms/step - loss: 0.0453 - val_loss: 0.0508\n",
            "Epoch 4/100\n",
            "64/64 [==============================] - 2s 31ms/step - loss: 0.0475 - val_loss: 0.0512\n",
            "Epoch 5/100\n",
            "64/64 [==============================] - 2s 31ms/step - loss: 0.0464 - val_loss: 0.0527\n",
            "Epoch 6/100\n",
            "64/64 [==============================] - 2s 30ms/step - loss: 0.0481 - val_loss: 0.0508\n",
            "Epoch 7/100\n",
            "64/64 [==============================] - 2s 31ms/step - loss: 0.0473 - val_loss: 0.0553\n",
            "Epoch 8/100\n",
            "64/64 [==============================] - 2s 31ms/step - loss: 0.0515 - val_loss: 0.0507\n",
            "Epoch 9/100\n",
            "64/64 [==============================] - 2s 31ms/step - loss: 0.0476 - val_loss: 0.0512\n",
            "Epoch 10/100\n",
            "64/64 [==============================] - 2s 30ms/step - loss: 0.0451 - val_loss: 0.0508\n",
            "Epoch 11/100\n",
            "64/64 [==============================] - 2s 32ms/step - loss: 0.0476 - val_loss: 0.0506\n",
            "Epoch 12/100\n",
            "64/64 [==============================] - 2s 30ms/step - loss: 0.0470 - val_loss: 0.0526\n",
            "Epoch 13/100\n",
            "64/64 [==============================] - 2s 30ms/step - loss: 0.0463 - val_loss: 0.0605\n",
            "Epoch 14/100\n",
            "64/64 [==============================] - 2s 31ms/step - loss: 0.0509 - val_loss: 0.0506\n",
            "Epoch 15/100\n",
            "64/64 [==============================] - 2s 32ms/step - loss: 0.0456 - val_loss: 0.0510\n",
            "Epoch 16/100\n",
            "64/64 [==============================] - 2s 32ms/step - loss: 0.0450 - val_loss: 0.0508\n",
            "Epoch 17/100\n",
            "64/64 [==============================] - 2s 31ms/step - loss: 0.0456 - val_loss: 0.0538\n",
            "Epoch 18/100\n",
            "64/64 [==============================] - 2s 31ms/step - loss: 0.0473 - val_loss: 0.0514\n",
            "Epoch 19/100\n",
            "64/64 [==============================] - 2s 31ms/step - loss: 0.0470 - val_loss: 0.0517\n",
            "Epoch 20/100\n",
            "64/64 [==============================] - 2s 32ms/step - loss: 0.0474 - val_loss: 0.0510\n",
            "Epoch 21/100\n",
            "64/64 [==============================] - 2s 31ms/step - loss: 0.0448 - val_loss: 0.0513\n",
            "Epoch 22/100\n",
            "64/64 [==============================] - 2s 31ms/step - loss: 0.0478 - val_loss: 0.0510\n",
            "Epoch 23/100\n",
            "64/64 [==============================] - 2s 31ms/step - loss: 0.0472 - val_loss: 0.0511\n",
            "Epoch 24/100\n",
            "64/64 [==============================] - 2s 31ms/step - loss: 0.0463 - val_loss: 0.0508\n",
            "Epoch 25/100\n",
            "64/64 [==============================] - 2s 32ms/step - loss: 0.0462 - val_loss: 0.0508\n",
            "Epoch 26/100\n",
            "64/64 [==============================] - 2s 32ms/step - loss: 0.0460 - val_loss: 0.0545\n",
            "Epoch 27/100\n",
            "64/64 [==============================] - 2s 32ms/step - loss: 0.0489 - val_loss: 0.0551\n",
            "Epoch 28/100\n",
            "64/64 [==============================] - 2s 31ms/step - loss: 0.0474 - val_loss: 0.0536\n",
            "Epoch 29/100\n",
            "64/64 [==============================] - 2s 31ms/step - loss: 0.0483 - val_loss: 0.0511\n",
            "Epoch 30/100\n",
            "64/64 [==============================] - 2s 32ms/step - loss: 0.0457 - val_loss: 0.0515\n",
            "Epoch 31/100\n",
            "64/64 [==============================] - 2s 31ms/step - loss: 0.0442 - val_loss: 0.0512\n",
            "Epoch 32/100\n",
            "64/64 [==============================] - 2s 31ms/step - loss: 0.0447 - val_loss: 0.0526\n",
            "Epoch 33/100\n",
            "64/64 [==============================] - 2s 32ms/step - loss: 0.0445 - val_loss: 0.0533\n",
            "Epoch 34/100\n",
            "64/64 [==============================] - 2s 31ms/step - loss: 0.0477 - val_loss: 0.0514\n",
            "Epoch 35/100\n",
            "64/64 [==============================] - 2s 31ms/step - loss: 0.0487 - val_loss: 0.0509\n",
            "Epoch 36/100\n",
            "64/64 [==============================] - 2s 31ms/step - loss: 0.0477 - val_loss: 0.0510\n",
            "Epoch 37/100\n",
            "64/64 [==============================] - 2s 31ms/step - loss: 0.0468 - val_loss: 0.0509\n",
            "Epoch 38/100\n",
            "64/64 [==============================] - 2s 31ms/step - loss: 0.0450 - val_loss: 0.0512\n",
            "Epoch 39/100\n",
            "64/64 [==============================] - 2s 31ms/step - loss: 0.0453 - val_loss: 0.0545\n",
            "Epoch 40/100\n",
            "64/64 [==============================] - 2s 32ms/step - loss: 0.0477 - val_loss: 0.0514\n",
            "Epoch 41/100\n",
            "64/64 [==============================] - 2s 31ms/step - loss: 0.0452 - val_loss: 0.0520\n",
            "Epoch 42/100\n",
            "64/64 [==============================] - 2s 31ms/step - loss: 0.0449 - val_loss: 0.0506\n",
            "Epoch 43/100\n",
            "64/64 [==============================] - 2s 31ms/step - loss: 0.0452 - val_loss: 0.0519\n",
            "Epoch 44/100\n",
            "64/64 [==============================] - 2s 31ms/step - loss: 0.0457 - val_loss: 0.0518\n",
            "Epoch 45/100\n",
            "64/64 [==============================] - 2s 32ms/step - loss: 0.0465 - val_loss: 0.0510\n",
            "Epoch 46/100\n",
            "64/64 [==============================] - 2s 31ms/step - loss: 0.0445 - val_loss: 0.0513\n",
            "Epoch 47/100\n",
            "64/64 [==============================] - 2s 31ms/step - loss: 0.0446 - val_loss: 0.0515\n",
            "Epoch 48/100\n",
            "64/64 [==============================] - 2s 31ms/step - loss: 0.0434 - val_loss: 0.0520\n",
            "Epoch 49/100\n",
            "64/64 [==============================] - 2s 31ms/step - loss: 0.0422 - val_loss: 0.0520\n",
            "Epoch 50/100\n",
            "64/64 [==============================] - 2s 32ms/step - loss: 0.0438 - val_loss: 0.0526\n",
            "Epoch 51/100\n",
            "64/64 [==============================] - 2s 32ms/step - loss: 0.0439 - val_loss: 0.0514\n",
            "Epoch 52/100\n",
            "64/64 [==============================] - 2s 31ms/step - loss: 0.0418 - val_loss: 0.0536\n",
            "Epoch 53/100\n",
            "64/64 [==============================] - 2s 31ms/step - loss: 0.0420 - val_loss: 0.0520\n",
            "Epoch 54/100\n",
            "64/64 [==============================] - 2s 32ms/step - loss: 0.0424 - val_loss: 0.0512\n",
            "Epoch 55/100\n",
            "64/64 [==============================] - 2s 32ms/step - loss: 0.0418 - val_loss: 0.0523\n",
            "Epoch 56/100\n",
            "64/64 [==============================] - 2s 32ms/step - loss: 0.0433 - val_loss: 0.0512\n",
            "Epoch 57/100\n",
            "64/64 [==============================] - 2s 31ms/step - loss: 0.0441 - val_loss: 0.0562\n",
            "Epoch 58/100\n",
            "64/64 [==============================] - 2s 31ms/step - loss: 0.0465 - val_loss: 0.0505\n",
            "Epoch 59/100\n",
            "64/64 [==============================] - 2s 31ms/step - loss: 0.0425 - val_loss: 0.0511\n",
            "Epoch 60/100\n",
            "64/64 [==============================] - 2s 31ms/step - loss: 0.0403 - val_loss: 0.0508\n",
            "Epoch 61/100\n",
            "64/64 [==============================] - 2s 32ms/step - loss: 0.0421 - val_loss: 0.0520\n",
            "Epoch 62/100\n",
            "64/64 [==============================] - 2s 31ms/step - loss: 0.0438 - val_loss: 0.0502\n",
            "Epoch 63/100\n",
            "64/64 [==============================] - 2s 31ms/step - loss: 0.0426 - val_loss: 0.0522\n",
            "Epoch 64/100\n",
            "64/64 [==============================] - 2s 31ms/step - loss: 0.0432 - val_loss: 0.0520\n",
            "Epoch 65/100\n",
            "64/64 [==============================] - 2s 32ms/step - loss: 0.0409 - val_loss: 0.0501\n",
            "Epoch 66/100\n",
            "64/64 [==============================] - 2s 32ms/step - loss: 0.0419 - val_loss: 0.0486\n",
            "Epoch 67/100\n",
            "64/64 [==============================] - 2s 31ms/step - loss: 0.0408 - val_loss: 0.0490\n",
            "Epoch 68/100\n",
            "64/64 [==============================] - 2s 32ms/step - loss: 0.0414 - val_loss: 0.0590\n",
            "Epoch 69/100\n",
            "64/64 [==============================] - 2s 32ms/step - loss: 0.0428 - val_loss: 0.0511\n",
            "Epoch 70/100\n",
            "64/64 [==============================] - 2s 31ms/step - loss: 0.0377 - val_loss: 0.0498\n",
            "Epoch 71/100\n",
            "64/64 [==============================] - 2s 32ms/step - loss: 0.0369 - val_loss: 0.0495\n",
            "Epoch 72/100\n",
            "64/64 [==============================] - 2s 32ms/step - loss: 0.0370 - val_loss: 0.0473\n",
            "Epoch 73/100\n",
            "64/64 [==============================] - 2s 31ms/step - loss: 0.0352 - val_loss: 0.0476\n",
            "Epoch 74/100\n",
            "64/64 [==============================] - 2s 32ms/step - loss: 0.0326 - val_loss: 0.0405\n",
            "Epoch 75/100\n",
            "64/64 [==============================] - 2s 32ms/step - loss: 0.0342 - val_loss: 0.0445\n",
            "Epoch 76/100\n",
            "64/64 [==============================] - 2s 32ms/step - loss: 0.0338 - val_loss: 0.0426\n",
            "Epoch 77/100\n",
            "64/64 [==============================] - 2s 31ms/step - loss: 0.0318 - val_loss: 0.0416\n",
            "Epoch 78/100\n",
            "64/64 [==============================] - 2s 31ms/step - loss: 0.0311 - val_loss: 0.0395\n",
            "Epoch 79/100\n",
            "64/64 [==============================] - 2s 31ms/step - loss: 0.0320 - val_loss: 0.0429\n",
            "Epoch 80/100\n",
            "64/64 [==============================] - 2s 32ms/step - loss: 0.0309 - val_loss: 0.0432\n",
            "Epoch 81/100\n",
            "64/64 [==============================] - 2s 31ms/step - loss: 0.0326 - val_loss: 0.0366\n",
            "Epoch 82/100\n",
            "64/64 [==============================] - 2s 32ms/step - loss: 0.0299 - val_loss: 0.0359\n",
            "Epoch 83/100\n",
            "64/64 [==============================] - 2s 31ms/step - loss: 0.0326 - val_loss: 0.0527\n",
            "Epoch 84/100\n",
            "64/64 [==============================] - 2s 32ms/step - loss: 0.0329 - val_loss: 0.0427\n",
            "Epoch 85/100\n",
            "64/64 [==============================] - 2s 32ms/step - loss: 0.0346 - val_loss: 0.0360\n",
            "Epoch 86/100\n",
            "64/64 [==============================] - 2s 32ms/step - loss: 0.0290 - val_loss: 0.0366\n",
            "Epoch 87/100\n",
            "64/64 [==============================] - 2s 32ms/step - loss: 0.0283 - val_loss: 0.0411\n",
            "Epoch 88/100\n",
            "64/64 [==============================] - 2s 32ms/step - loss: 0.0314 - val_loss: 0.0363\n",
            "Epoch 89/100\n",
            "64/64 [==============================] - 2s 32ms/step - loss: 0.0300 - val_loss: 0.0385\n",
            "Epoch 90/100\n",
            "64/64 [==============================] - 2s 31ms/step - loss: 0.0285 - val_loss: 0.0363\n",
            "Epoch 91/100\n",
            "64/64 [==============================] - 2s 32ms/step - loss: 0.0273 - val_loss: 0.0335\n",
            "Epoch 92/100\n",
            "64/64 [==============================] - 2s 31ms/step - loss: 0.0300 - val_loss: 0.0361\n",
            "Epoch 93/100\n",
            "64/64 [==============================] - 2s 31ms/step - loss: 0.0297 - val_loss: 0.0339\n",
            "Epoch 94/100\n",
            "64/64 [==============================] - 2s 32ms/step - loss: 0.0254 - val_loss: 0.0338\n",
            "Epoch 95/100\n",
            "64/64 [==============================] - 2s 32ms/step - loss: 0.0267 - val_loss: 0.0321\n",
            "Epoch 96/100\n",
            "64/64 [==============================] - 2s 31ms/step - loss: 0.0252 - val_loss: 0.0323\n",
            "Epoch 97/100\n",
            "64/64 [==============================] - 2s 32ms/step - loss: 0.0258 - val_loss: 0.0322\n",
            "Epoch 98/100\n",
            "64/64 [==============================] - 2s 31ms/step - loss: 0.0270 - val_loss: 0.0357\n",
            "Epoch 99/100\n",
            "64/64 [==============================] - 2s 31ms/step - loss: 0.0249 - val_loss: 0.0376\n",
            "Epoch 100/100\n",
            "64/64 [==============================] - 2s 31ms/step - loss: 0.0269 - val_loss: 0.0310\n"
          ],
          "name": "stdout"
        }
      ]
    },
    {
      "cell_type": "code",
      "metadata": {
        "colab": {
          "base_uri": "https://localhost:8080/",
          "height": 279
        },
        "id": "OGsqPXVVewKB",
        "outputId": "2598f0e9-fe96-448f-8751-7a7758c58ff1"
      },
      "source": [
        "import matplotlib.pyplot as plt\n",
        "plt.plot(history.history['loss'], 'b-', label = 'loss')\n",
        "plt.plot(history.history['val_loss'], 'r--', label = 'val_loss')\n",
        "\n",
        "plt.xlabel('Epoch')\n",
        "plt.legend()\n",
        "plt.show()"
      ],
      "execution_count": 8,
      "outputs": [
        {
          "output_type": "display_data",
          "data": {
            "image/png": "[encoded data removed]",
            "text/plain": [
              "<Figure size 432x288 with 1 Axes>"
            ]
          },
          "metadata": {
            "tags": [],
            "needs_background": "light"
          }
        }
      ]
    },
    {
      "cell_type": "code",
      "metadata": {
        "colab": {
          "base_uri": "https://localhost:8080/"
        },
        "id": "fsm_HNFxe0tJ",
        "outputId": "49cdbc66-e5b9-4730-d903-d3cec53751e7"
      },
      "source": [
        "prediction = model.predict(X[2560:2560+5])\n",
        "\n",
        "for i in range(5):\n",
        "  print(Y[2560+i], '\\t', prediction[i][0], '\\tdiff:',abs(prediction[i][0] - Y[2560+i]))"
      ],
      "execution_count": 9,
      "outputs": [
        {
          "output_type": "stream",
          "text": [
            "0.7255384021192404 \t 0.62280524 \tdiff: 0.1027331643491598\n",
            "0.1712375082830756 \t 0.18282555 \tdiff: 0.01158804215389797\n",
            "0.07041481706117368 \t 0.19082706 \tdiff: 0.12041223970438265\n",
            "0.27086994081067833 \t 0.20237869 \tdiff: 0.068491250567911\n",
            "0.05753652110000815 \t 0.20126961 \tdiff: 0.1437330906162623\n"
          ],
          "name": "stdout"
        }
      ]
    },
    {
      "cell_type": "code",
      "metadata": {
        "colab": {
          "base_uri": "https://localhost:8080/"
        },
        "id": "LavEajSYe6id",
        "outputId": "68087bf1-a010-43a6-f6f6-ed4471925906"
      },
      "source": [
        "# 논문에서 언급한 실험에서는 오차가 0.04이상인 경우 오답으로 분류!\n",
        "# 단순 RNN의 경우\n",
        "prediction = model.predict(X[2560:])\n",
        "fail=0\n",
        "\n",
        "for i in range(len(prediction)):\n",
        "  if abs(prediction[i][0]-Y[2560+i]) > 0.04:\n",
        "    fail+=1\n",
        "print(\"정확도\", (440-fail)/440*100,\"%\")"
      ],
      "execution_count": 10,
      "outputs": [
        {
          "output_type": "stream",
          "text": [
            "정확도 14.545454545454545 %\n"
          ],
          "name": "stdout"
        }
      ]
    },
    {
      "cell_type": "markdown",
      "metadata": {
        "id": "JXT9QSxhfAzg"
      },
      "source": [
        "## 2. LSTM"
      ]
    },
    {
      "cell_type": "code",
      "metadata": {
        "colab": {
          "base_uri": "https://localhost:8080/"
        },
        "id": "jz33ylR9e9YV",
        "outputId": "ef610ce9-d450-4c2b-8d43-3ab03dcd41b7"
      },
      "source": [
        "import tensorflow as tf\n",
        "import numpy as np\n",
        "\n",
        "X=[] #독립변수\n",
        "Y=[] #종속변수\n",
        "\n",
        "#3000개의 데이터 생성 / 2560개의 학습 및 검증 / 440개의 테스트 데이터\n",
        "for i in range(3000):\n",
        "  lst = np.random.rand(100)\n",
        "\n",
        "  idx = np.random.choice(100,2,replace=False)\n",
        "\n",
        "  zeros = np.zeros(100)\n",
        "\n",
        "  #문제 가정\n",
        "  zeros[idx]=1\n",
        "  X.append(np.array(list(zip(zeros, lst))))\n",
        "  Y.append(np.prod(lst[idx]))\n",
        "\n",
        "model = tf.keras.Sequential([\n",
        "                             tf.keras.layers.LSTM(units=30, return_sequences=True, input_shape=[100,2]),\n",
        "                             tf.keras.layers.LSTM(units=30),\n",
        "                             tf.keras.layers.Dense(1)\n",
        "])\n",
        "\n",
        "model.compile(optimizer='adam',loss='mse')\n",
        "X=np.array(X)\n",
        "Y=np.array(Y)\n",
        "\n",
        "history = model.fit(X[:2560],Y[:2560],epochs=100, validation_split=0.2)\n",
        "\n"
      ],
      "execution_count": 11,
      "outputs": [
        {
          "output_type": "stream",
          "text": [
            "Epoch 1/100\n",
            "64/64 [==============================] - 7s 64ms/step - loss: 0.0544 - val_loss: 0.0473\n",
            "Epoch 2/100\n",
            "64/64 [==============================] - 3s 53ms/step - loss: 0.0494 - val_loss: 0.0474\n",
            "Epoch 3/100\n",
            "64/64 [==============================] - 3s 52ms/step - loss: 0.0476 - val_loss: 0.0475\n",
            "Epoch 4/100\n",
            "64/64 [==============================] - 3s 52ms/step - loss: 0.0477 - val_loss: 0.0476\n",
            "Epoch 5/100\n",
            "64/64 [==============================] - 3s 53ms/step - loss: 0.0500 - val_loss: 0.0476\n",
            "Epoch 6/100\n",
            "64/64 [==============================] - 3s 52ms/step - loss: 0.0501 - val_loss: 0.0476\n",
            "Epoch 7/100\n",
            "64/64 [==============================] - 3s 53ms/step - loss: 0.0498 - val_loss: 0.0476\n",
            "Epoch 8/100\n",
            "64/64 [==============================] - 4s 56ms/step - loss: 0.0485 - val_loss: 0.0471\n",
            "Epoch 9/100\n",
            "64/64 [==============================] - 4s 56ms/step - loss: 0.0495 - val_loss: 0.0480\n",
            "Epoch 10/100\n",
            "64/64 [==============================] - 3s 54ms/step - loss: 0.0513 - val_loss: 0.0478\n",
            "Epoch 11/100\n",
            "64/64 [==============================] - 4s 56ms/step - loss: 0.0471 - val_loss: 0.0481\n",
            "Epoch 12/100\n",
            "64/64 [==============================] - 3s 55ms/step - loss: 0.0483 - val_loss: 0.0472\n",
            "Epoch 13/100\n",
            "64/64 [==============================] - 4s 55ms/step - loss: 0.0473 - val_loss: 0.0474\n",
            "Epoch 14/100\n",
            "64/64 [==============================] - 3s 54ms/step - loss: 0.0474 - val_loss: 0.0476\n",
            "Epoch 15/100\n",
            "64/64 [==============================] - 4s 56ms/step - loss: 0.0489 - val_loss: 0.0476\n",
            "Epoch 16/100\n",
            "64/64 [==============================] - 4s 55ms/step - loss: 0.0471 - val_loss: 0.0474\n",
            "Epoch 17/100\n",
            "64/64 [==============================] - 4s 55ms/step - loss: 0.0503 - val_loss: 0.0471\n",
            "Epoch 18/100\n",
            "64/64 [==============================] - 3s 54ms/step - loss: 0.0495 - val_loss: 0.0473\n",
            "Epoch 19/100\n",
            "64/64 [==============================] - 3s 54ms/step - loss: 0.0485 - val_loss: 0.0472\n",
            "Epoch 20/100\n",
            "64/64 [==============================] - 3s 54ms/step - loss: 0.0497 - val_loss: 0.0473\n",
            "Epoch 21/100\n",
            "64/64 [==============================] - 4s 55ms/step - loss: 0.0522 - val_loss: 0.0471\n",
            "Epoch 22/100\n",
            "64/64 [==============================] - 3s 54ms/step - loss: 0.0494 - val_loss: 0.0471\n",
            "Epoch 23/100\n",
            "64/64 [==============================] - 3s 55ms/step - loss: 0.0482 - val_loss: 0.0473\n",
            "Epoch 24/100\n",
            "64/64 [==============================] - 4s 55ms/step - loss: 0.0491 - val_loss: 0.0472\n",
            "Epoch 25/100\n",
            "64/64 [==============================] - 4s 55ms/step - loss: 0.0496 - val_loss: 0.0471\n",
            "Epoch 26/100\n",
            "64/64 [==============================] - 3s 54ms/step - loss: 0.0522 - val_loss: 0.0471\n",
            "Epoch 27/100\n",
            "64/64 [==============================] - 4s 55ms/step - loss: 0.0512 - val_loss: 0.0476\n",
            "Epoch 28/100\n",
            "64/64 [==============================] - 4s 55ms/step - loss: 0.0484 - val_loss: 0.0468\n",
            "Epoch 29/100\n",
            "64/64 [==============================] - 3s 55ms/step - loss: 0.0492 - val_loss: 0.0466\n",
            "Epoch 30/100\n",
            "64/64 [==============================] - 3s 54ms/step - loss: 0.0497 - val_loss: 0.0468\n",
            "Epoch 31/100\n",
            "64/64 [==============================] - 4s 55ms/step - loss: 0.0515 - val_loss: 0.0474\n",
            "Epoch 32/100\n",
            "64/64 [==============================] - 3s 55ms/step - loss: 0.0493 - val_loss: 0.0460\n",
            "Epoch 33/100\n",
            "64/64 [==============================] - 4s 57ms/step - loss: 0.0489 - val_loss: 0.0463\n",
            "Epoch 34/100\n",
            "64/64 [==============================] - 4s 56ms/step - loss: 0.0471 - val_loss: 0.0462\n",
            "Epoch 35/100\n",
            "64/64 [==============================] - 4s 55ms/step - loss: 0.0467 - val_loss: 0.0470\n",
            "Epoch 36/100\n",
            "64/64 [==============================] - 4s 57ms/step - loss: 0.0453 - val_loss: 0.0474\n",
            "Epoch 37/100\n",
            "64/64 [==============================] - 4s 55ms/step - loss: 0.0474 - val_loss: 0.0344\n",
            "Epoch 38/100\n",
            "64/64 [==============================] - 4s 56ms/step - loss: 0.0512 - val_loss: 0.0469\n",
            "Epoch 39/100\n",
            "64/64 [==============================] - 4s 55ms/step - loss: 0.0460 - val_loss: 0.0427\n",
            "Epoch 40/100\n",
            "64/64 [==============================] - 3s 55ms/step - loss: 0.0523 - val_loss: 0.0474\n",
            "Epoch 41/100\n",
            "64/64 [==============================] - 4s 56ms/step - loss: 0.0497 - val_loss: 0.0474\n",
            "Epoch 42/100\n",
            "64/64 [==============================] - 4s 57ms/step - loss: 0.0501 - val_loss: 0.0470\n",
            "Epoch 43/100\n",
            "64/64 [==============================] - 4s 55ms/step - loss: 0.0509 - val_loss: 0.0462\n",
            "Epoch 44/100\n",
            "64/64 [==============================] - 4s 57ms/step - loss: 0.0498 - val_loss: 0.0464\n",
            "Epoch 45/100\n",
            "64/64 [==============================] - 4s 56ms/step - loss: 0.0442 - val_loss: 0.0452\n",
            "Epoch 46/100\n",
            "64/64 [==============================] - 3s 55ms/step - loss: 0.0439 - val_loss: 0.0261\n",
            "Epoch 47/100\n",
            "64/64 [==============================] - 3s 53ms/step - loss: 0.0268 - val_loss: 0.0142\n",
            "Epoch 48/100\n",
            "64/64 [==============================] - 3s 54ms/step - loss: 0.0186 - val_loss: 0.0145\n",
            "Epoch 49/100\n",
            "64/64 [==============================] - 3s 55ms/step - loss: 0.0181 - val_loss: 0.0164\n",
            "Epoch 50/100\n",
            "64/64 [==============================] - 3s 55ms/step - loss: 0.0152 - val_loss: 0.0144\n",
            "Epoch 51/100\n",
            "64/64 [==============================] - 4s 55ms/step - loss: 0.0090 - val_loss: 0.0055\n",
            "Epoch 52/100\n",
            "64/64 [==============================] - 3s 54ms/step - loss: 0.0061 - val_loss: 0.0077\n",
            "Epoch 53/100\n",
            "64/64 [==============================] - 3s 55ms/step - loss: 0.0059 - val_loss: 0.0045\n",
            "Epoch 54/100\n",
            "64/64 [==============================] - 4s 55ms/step - loss: 0.0044 - val_loss: 0.0033\n",
            "Epoch 55/100\n",
            "64/64 [==============================] - 4s 55ms/step - loss: 0.0033 - val_loss: 0.0065\n",
            "Epoch 56/100\n",
            "64/64 [==============================] - 3s 54ms/step - loss: 0.0042 - val_loss: 0.0025\n",
            "Epoch 57/100\n",
            "64/64 [==============================] - 4s 55ms/step - loss: 0.0028 - val_loss: 0.0031\n",
            "Epoch 58/100\n",
            "64/64 [==============================] - 4s 56ms/step - loss: 0.0039 - val_loss: 0.0032\n",
            "Epoch 59/100\n",
            "64/64 [==============================] - 4s 55ms/step - loss: 0.0031 - val_loss: 0.0041\n",
            "Epoch 60/100\n",
            "64/64 [==============================] - 4s 56ms/step - loss: 0.0024 - val_loss: 0.0025\n",
            "Epoch 61/100\n",
            "64/64 [==============================] - 4s 57ms/step - loss: 0.0026 - val_loss: 0.0044\n",
            "Epoch 62/100\n",
            "64/64 [==============================] - 4s 56ms/step - loss: 0.0030 - val_loss: 0.0025\n",
            "Epoch 63/100\n",
            "64/64 [==============================] - 4s 57ms/step - loss: 0.0025 - val_loss: 0.0015\n",
            "Epoch 64/100\n",
            "64/64 [==============================] - 4s 57ms/step - loss: 0.0020 - val_loss: 0.0018\n",
            "Epoch 65/100\n",
            "64/64 [==============================] - 4s 57ms/step - loss: 0.0026 - val_loss: 0.0018\n",
            "Epoch 66/100\n",
            "64/64 [==============================] - 4s 55ms/step - loss: 0.0022 - val_loss: 0.0028\n",
            "Epoch 67/100\n",
            "64/64 [==============================] - 4s 55ms/step - loss: 0.0018 - val_loss: 0.0028\n",
            "Epoch 68/100\n",
            "64/64 [==============================] - 4s 55ms/step - loss: 0.0031 - val_loss: 0.0013\n",
            "Epoch 69/100\n",
            "64/64 [==============================] - 4s 57ms/step - loss: 0.0015 - val_loss: 0.0012\n",
            "Epoch 70/100\n",
            "64/64 [==============================] - 4s 55ms/step - loss: 0.0016 - val_loss: 0.0019\n",
            "Epoch 71/100\n",
            "64/64 [==============================] - 4s 58ms/step - loss: 0.0021 - val_loss: 0.0012\n",
            "Epoch 72/100\n",
            "64/64 [==============================] - 4s 57ms/step - loss: 0.0018 - val_loss: 0.0026\n",
            "Epoch 73/100\n",
            "64/64 [==============================] - 4s 56ms/step - loss: 0.0014 - val_loss: 0.0012\n",
            "Epoch 74/100\n",
            "64/64 [==============================] - 4s 56ms/step - loss: 0.0015 - val_loss: 0.0011\n",
            "Epoch 75/100\n",
            "64/64 [==============================] - 4s 58ms/step - loss: 0.0014 - val_loss: 0.0014\n",
            "Epoch 76/100\n",
            "64/64 [==============================] - 4s 57ms/step - loss: 0.0017 - val_loss: 0.0013\n",
            "Epoch 77/100\n",
            "64/64 [==============================] - 4s 56ms/step - loss: 0.0012 - val_loss: 9.8671e-04\n",
            "Epoch 78/100\n",
            "64/64 [==============================] - 4s 59ms/step - loss: 0.0012 - val_loss: 0.0011\n",
            "Epoch 79/100\n",
            "64/64 [==============================] - 3s 55ms/step - loss: 0.0011 - val_loss: 8.8083e-04\n",
            "Epoch 80/100\n",
            "64/64 [==============================] - 4s 57ms/step - loss: 9.6298e-04 - val_loss: 0.0046\n",
            "Epoch 81/100\n",
            "64/64 [==============================] - 4s 55ms/step - loss: 0.0025 - val_loss: 0.0011\n",
            "Epoch 82/100\n",
            "64/64 [==============================] - 4s 55ms/step - loss: 0.0010 - val_loss: 8.6915e-04\n",
            "Epoch 83/100\n",
            "64/64 [==============================] - 4s 57ms/step - loss: 8.8787e-04 - val_loss: 0.0015\n",
            "Epoch 84/100\n",
            "64/64 [==============================] - 4s 56ms/step - loss: 8.8912e-04 - val_loss: 9.9582e-04\n",
            "Epoch 85/100\n",
            "64/64 [==============================] - 4s 56ms/step - loss: 8.8151e-04 - val_loss: 0.0011\n",
            "Epoch 86/100\n",
            "64/64 [==============================] - 4s 55ms/step - loss: 0.0011 - val_loss: 8.1921e-04\n",
            "Epoch 87/100\n",
            "64/64 [==============================] - 4s 55ms/step - loss: 0.0012 - val_loss: 0.0010\n",
            "Epoch 88/100\n",
            "64/64 [==============================] - 3s 54ms/step - loss: 0.0016 - val_loss: 8.0092e-04\n",
            "Epoch 89/100\n",
            "64/64 [==============================] - 3s 54ms/step - loss: 8.0745e-04 - val_loss: 7.2452e-04\n",
            "Epoch 90/100\n",
            "64/64 [==============================] - 3s 55ms/step - loss: 7.6843e-04 - val_loss: 0.0012\n",
            "Epoch 91/100\n",
            "64/64 [==============================] - 3s 54ms/step - loss: 0.0011 - val_loss: 6.4139e-04\n",
            "Epoch 92/100\n",
            "64/64 [==============================] - 4s 56ms/step - loss: 6.9453e-04 - val_loss: 6.4459e-04\n",
            "Epoch 93/100\n",
            "64/64 [==============================] - 3s 54ms/step - loss: 7.4694e-04 - val_loss: 7.0615e-04\n",
            "Epoch 94/100\n",
            "64/64 [==============================] - 3s 54ms/step - loss: 8.0581e-04 - val_loss: 0.0022\n",
            "Epoch 95/100\n",
            "64/64 [==============================] - 4s 55ms/step - loss: 0.0014 - val_loss: 0.0025\n",
            "Epoch 96/100\n",
            "64/64 [==============================] - 4s 55ms/step - loss: 0.0011 - val_loss: 9.2706e-04\n",
            "Epoch 97/100\n",
            "64/64 [==============================] - 4s 55ms/step - loss: 6.4157e-04 - val_loss: 5.7082e-04\n",
            "Epoch 98/100\n",
            "64/64 [==============================] - 3s 54ms/step - loss: 9.2505e-04 - val_loss: 0.0012\n",
            "Epoch 99/100\n",
            "64/64 [==============================] - 3s 54ms/step - loss: 8.9901e-04 - val_loss: 8.4394e-04\n",
            "Epoch 100/100\n",
            "64/64 [==============================] - 3s 54ms/step - loss: 9.3250e-04 - val_loss: 9.0779e-04\n"
          ],
          "name": "stdout"
        }
      ]
    },
    {
      "cell_type": "code",
      "metadata": {
        "colab": {
          "base_uri": "https://localhost:8080/",
          "height": 279
        },
        "id": "Dv31HX-Tf-vD",
        "outputId": "9f40f32f-d2a4-4726-8f5b-17cb84d9c027"
      },
      "source": [
        "import matplotlib.pyplot as plt\n",
        "plt.plot(history.history['loss'], 'b-', label = 'loss')\n",
        "plt.plot(history.history['val_loss'], 'r--', label = 'val_loss')\n",
        "\n",
        "plt.xlabel('Epoch')\n",
        "plt.legend()\n",
        "plt.show()"
      ],
      "execution_count": 12,
      "outputs": [
        {
          "output_type": "display_data",
          "data": {
            "image/png": "[encoded data removed]",
            "text/plain": [
              "<Figure size 432x288 with 1 Axes>"
            ]
          },
          "metadata": {
            "tags": [],
            "needs_background": "light"
          }
        }
      ]
    },
    {
      "cell_type": "code",
      "metadata": {
        "colab": {
          "base_uri": "https://localhost:8080/"
        },
        "id": "ukZKA5Kwf_D8",
        "outputId": "d111048b-92ee-4b93-d70c-22ff294facd2"
      },
      "source": [
        "#LSTM의 정확도\n",
        "prediction = model.predict(X[2560:])\n",
        "fail=0\n",
        "\n",
        "for i in range(len(prediction)):\n",
        "  if abs(prediction[i][0]-Y[2560+i]) > 0.04:\n",
        "    fail+=1\n",
        "print(\"정확도\", (440-fail)/440*100,\"%\")"
      ],
      "execution_count": 13,
      "outputs": [
        {
          "output_type": "stream",
          "text": [
            "정확도 84.54545454545455 %\n"
          ],
          "name": "stdout"
        }
      ]
    },
    {
      "cell_type": "markdown",
      "metadata": {
        "id": "x5JaYMfjgDTS"
      },
      "source": [
        "# 3. GRU"
      ]
    },
    {
      "cell_type": "code",
      "metadata": {
        "colab": {
          "base_uri": "https://localhost:8080/"
        },
        "id": "bEesq3oqgCA9",
        "outputId": "2c72be06-1923-4cf0-d859-8f33ee47f0af"
      },
      "source": [
        "import tensorflow as tf\n",
        "import numpy as np\n",
        "\n",
        "X=[] #독립변수\n",
        "Y=[] #종속변수\n",
        "\n",
        "#3000개의 데이터 생성 / 2560개의 학습 및 검증 / 440개의 테스트 데이터\n",
        "for i in range(3000):\n",
        "  lst = np.random.rand(100)\n",
        "\n",
        "  idx = np.random.choice(100,2,replace=False)\n",
        "\n",
        "  zeros = np.zeros(100)\n",
        "\n",
        "  #문제 가정\n",
        "  zeros[idx]=1\n",
        "  X.append(np.array(list(zip(zeros, lst))))\n",
        "  Y.append(np.prod(lst[idx]))\n",
        "\n",
        "model = tf.keras.Sequential([\n",
        "                             tf.keras.layers.GRU(units=30, return_sequences=True, input_shape=[100,2]),\n",
        "                             tf.keras.layers.GRU(units=30),\n",
        "                             tf.keras.layers.Dense(1)\n",
        "])\n",
        "\n",
        "model.compile(optimizer='adam',loss='mse')\n",
        "X=np.array(X)\n",
        "Y=np.array(Y)\n",
        "\n",
        "history = model.fit(X[:2560],Y[:2560],epochs=100, validation_split=0.2)\n",
        "\n"
      ],
      "execution_count": 14,
      "outputs": [
        {
          "output_type": "stream",
          "text": [
            "Epoch 1/100\n",
            "64/64 [==============================] - 6s 59ms/step - loss: 0.0563 - val_loss: 0.0508\n",
            "Epoch 2/100\n",
            "64/64 [==============================] - 3s 51ms/step - loss: 0.0467 - val_loss: 0.0496\n",
            "Epoch 3/100\n",
            "64/64 [==============================] - 3s 50ms/step - loss: 0.0450 - val_loss: 0.0496\n",
            "Epoch 4/100\n",
            "64/64 [==============================] - 3s 51ms/step - loss: 0.0476 - val_loss: 0.0496\n",
            "Epoch 5/100\n",
            "64/64 [==============================] - 3s 51ms/step - loss: 0.0485 - val_loss: 0.0489\n",
            "Epoch 6/100\n",
            "64/64 [==============================] - 3s 51ms/step - loss: 0.0471 - val_loss: 0.0491\n",
            "Epoch 7/100\n",
            "64/64 [==============================] - 3s 52ms/step - loss: 0.0458 - val_loss: 0.0489\n",
            "Epoch 8/100\n",
            "64/64 [==============================] - 3s 50ms/step - loss: 0.0479 - val_loss: 0.0491\n",
            "Epoch 9/100\n",
            "64/64 [==============================] - 3s 51ms/step - loss: 0.0482 - val_loss: 0.0491\n",
            "Epoch 10/100\n",
            "64/64 [==============================] - 3s 50ms/step - loss: 0.0460 - val_loss: 0.0500\n",
            "Epoch 11/100\n",
            "64/64 [==============================] - 3s 51ms/step - loss: 0.0467 - val_loss: 0.0485\n",
            "Epoch 12/100\n",
            "64/64 [==============================] - 3s 53ms/step - loss: 0.0501 - val_loss: 0.0485\n",
            "Epoch 13/100\n",
            "64/64 [==============================] - 3s 51ms/step - loss: 0.0443 - val_loss: 0.0482\n",
            "Epoch 14/100\n",
            "64/64 [==============================] - 3s 52ms/step - loss: 0.0449 - val_loss: 0.0490\n",
            "Epoch 15/100\n",
            "64/64 [==============================] - 3s 53ms/step - loss: 0.0454 - val_loss: 0.0483\n",
            "Epoch 16/100\n",
            "64/64 [==============================] - 3s 52ms/step - loss: 0.0434 - val_loss: 0.0480\n",
            "Epoch 17/100\n",
            "64/64 [==============================] - 3s 53ms/step - loss: 0.0467 - val_loss: 0.0497\n",
            "Epoch 18/100\n",
            "64/64 [==============================] - 3s 52ms/step - loss: 0.0446 - val_loss: 0.0463\n",
            "Epoch 19/100\n",
            "64/64 [==============================] - 3s 51ms/step - loss: 0.0440 - val_loss: 0.0473\n",
            "Epoch 20/100\n",
            "64/64 [==============================] - 3s 52ms/step - loss: 0.0431 - val_loss: 0.0449\n",
            "Epoch 21/100\n",
            "64/64 [==============================] - 3s 52ms/step - loss: 0.0410 - val_loss: 0.0144\n",
            "Epoch 22/100\n",
            "64/64 [==============================] - 3s 51ms/step - loss: 0.0064 - val_loss: 0.0030\n",
            "Epoch 23/100\n",
            "64/64 [==============================] - 3s 52ms/step - loss: 0.0024 - val_loss: 0.0034\n",
            "Epoch 24/100\n",
            "64/64 [==============================] - 3s 52ms/step - loss: 0.0019 - val_loss: 0.0017\n",
            "Epoch 25/100\n",
            "64/64 [==============================] - 3s 53ms/step - loss: 0.0015 - val_loss: 0.0015\n",
            "Epoch 26/100\n",
            "64/64 [==============================] - 3s 52ms/step - loss: 0.0016 - val_loss: 0.0019\n",
            "Epoch 27/100\n",
            "64/64 [==============================] - 3s 51ms/step - loss: 0.0012 - val_loss: 0.0011\n",
            "Epoch 28/100\n",
            "64/64 [==============================] - 3s 53ms/step - loss: 0.0013 - val_loss: 0.0013\n",
            "Epoch 29/100\n",
            "64/64 [==============================] - 3s 52ms/step - loss: 0.0011 - val_loss: 0.0013\n",
            "Epoch 30/100\n",
            "64/64 [==============================] - 3s 52ms/step - loss: 9.6732e-04 - val_loss: 0.0012\n",
            "Epoch 31/100\n",
            "64/64 [==============================] - 3s 53ms/step - loss: 8.2378e-04 - val_loss: 9.0545e-04\n",
            "Epoch 32/100\n",
            "64/64 [==============================] - 3s 52ms/step - loss: 6.9137e-04 - val_loss: 7.7636e-04\n",
            "Epoch 33/100\n",
            "64/64 [==============================] - 3s 51ms/step - loss: 7.2481e-04 - val_loss: 8.1727e-04\n",
            "Epoch 34/100\n",
            "64/64 [==============================] - 3s 52ms/step - loss: 7.3281e-04 - val_loss: 7.4385e-04\n",
            "Epoch 35/100\n",
            "64/64 [==============================] - 3s 52ms/step - loss: 5.9569e-04 - val_loss: 7.1118e-04\n",
            "Epoch 36/100\n",
            "64/64 [==============================] - 3s 52ms/step - loss: 6.8899e-04 - val_loss: 0.0010\n",
            "Epoch 37/100\n",
            "64/64 [==============================] - 3s 52ms/step - loss: 7.5482e-04 - val_loss: 5.8658e-04\n",
            "Epoch 38/100\n",
            "64/64 [==============================] - 3s 52ms/step - loss: 4.9058e-04 - val_loss: 5.6169e-04\n",
            "Epoch 39/100\n",
            "64/64 [==============================] - 3s 53ms/step - loss: 5.1548e-04 - val_loss: 4.8594e-04\n",
            "Epoch 40/100\n",
            "64/64 [==============================] - 3s 52ms/step - loss: 5.8340e-04 - val_loss: 5.0043e-04\n",
            "Epoch 41/100\n",
            "64/64 [==============================] - 3s 51ms/step - loss: 4.5778e-04 - val_loss: 4.8260e-04\n",
            "Epoch 42/100\n",
            "64/64 [==============================] - 3s 51ms/step - loss: 4.2460e-04 - val_loss: 5.5411e-04\n",
            "Epoch 43/100\n",
            "64/64 [==============================] - 3s 52ms/step - loss: 4.6675e-04 - val_loss: 6.2812e-04\n",
            "Epoch 44/100\n",
            "64/64 [==============================] - 3s 52ms/step - loss: 3.8179e-04 - val_loss: 4.1215e-04\n",
            "Epoch 45/100\n",
            "64/64 [==============================] - 3s 52ms/step - loss: 4.0839e-04 - val_loss: 3.9952e-04\n",
            "Epoch 46/100\n",
            "64/64 [==============================] - 3s 53ms/step - loss: 3.6367e-04 - val_loss: 4.9780e-04\n",
            "Epoch 47/100\n",
            "64/64 [==============================] - 3s 54ms/step - loss: 3.3566e-04 - val_loss: 4.0826e-04\n",
            "Epoch 48/100\n",
            "64/64 [==============================] - 3s 52ms/step - loss: 3.9494e-04 - val_loss: 4.8737e-04\n",
            "Epoch 49/100\n",
            "64/64 [==============================] - 3s 52ms/step - loss: 3.9334e-04 - val_loss: 3.5914e-04\n",
            "Epoch 50/100\n",
            "64/64 [==============================] - 3s 53ms/step - loss: 4.2220e-04 - val_loss: 4.1691e-04\n",
            "Epoch 51/100\n",
            "64/64 [==============================] - 3s 53ms/step - loss: 4.1362e-04 - val_loss: 3.6944e-04\n",
            "Epoch 52/100\n",
            "64/64 [==============================] - 3s 53ms/step - loss: 4.9997e-04 - val_loss: 3.3855e-04\n",
            "Epoch 53/100\n",
            "64/64 [==============================] - 3s 53ms/step - loss: 2.9696e-04 - val_loss: 3.4022e-04\n",
            "Epoch 54/100\n",
            "64/64 [==============================] - 3s 53ms/step - loss: 2.7870e-04 - val_loss: 3.8562e-04\n",
            "Epoch 55/100\n",
            "64/64 [==============================] - 3s 52ms/step - loss: 3.2756e-04 - val_loss: 4.6141e-04\n",
            "Epoch 56/100\n",
            "64/64 [==============================] - 3s 52ms/step - loss: 2.8670e-04 - val_loss: 3.5842e-04\n",
            "Epoch 57/100\n",
            "64/64 [==============================] - 3s 52ms/step - loss: 2.6650e-04 - val_loss: 3.3404e-04\n",
            "Epoch 58/100\n",
            "64/64 [==============================] - 3s 51ms/step - loss: 2.9929e-04 - val_loss: 2.6413e-04\n",
            "Epoch 59/100\n",
            "64/64 [==============================] - 3s 53ms/step - loss: 3.4937e-04 - val_loss: 2.9391e-04\n",
            "Epoch 60/100\n",
            "64/64 [==============================] - 3s 53ms/step - loss: 2.6212e-04 - val_loss: 4.1925e-04\n",
            "Epoch 61/100\n",
            "64/64 [==============================] - 3s 53ms/step - loss: 3.0722e-04 - val_loss: 2.9554e-04\n",
            "Epoch 62/100\n",
            "64/64 [==============================] - 3s 53ms/step - loss: 2.7890e-04 - val_loss: 3.4215e-04\n",
            "Epoch 63/100\n",
            "64/64 [==============================] - 3s 52ms/step - loss: 2.9250e-04 - val_loss: 2.4291e-04\n",
            "Epoch 64/100\n",
            "64/64 [==============================] - 3s 53ms/step - loss: 2.3928e-04 - val_loss: 4.9830e-04\n",
            "Epoch 65/100\n",
            "64/64 [==============================] - 3s 53ms/step - loss: 2.5812e-04 - val_loss: 3.0759e-04\n",
            "Epoch 66/100\n",
            "64/64 [==============================] - 3s 53ms/step - loss: 2.2626e-04 - val_loss: 2.1713e-04\n",
            "Epoch 67/100\n",
            "64/64 [==============================] - 3s 53ms/step - loss: 2.6141e-04 - val_loss: 2.1006e-04\n",
            "Epoch 68/100\n",
            "64/64 [==============================] - 3s 53ms/step - loss: 2.1732e-04 - val_loss: 2.1491e-04\n",
            "Epoch 69/100\n",
            "64/64 [==============================] - 3s 52ms/step - loss: 2.5962e-04 - val_loss: 5.7833e-04\n",
            "Epoch 70/100\n",
            "64/64 [==============================] - 3s 52ms/step - loss: 2.9666e-04 - val_loss: 5.6923e-04\n",
            "Epoch 71/100\n",
            "64/64 [==============================] - 3s 53ms/step - loss: 4.2878e-04 - val_loss: 4.4390e-04\n",
            "Epoch 72/100\n",
            "64/64 [==============================] - 3s 53ms/step - loss: 2.6081e-04 - val_loss: 4.2041e-04\n",
            "Epoch 73/100\n",
            "64/64 [==============================] - 3s 53ms/step - loss: 2.3534e-04 - val_loss: 2.0877e-04\n",
            "Epoch 74/100\n",
            "64/64 [==============================] - 3s 54ms/step - loss: 2.0889e-04 - val_loss: 2.0812e-04\n",
            "Epoch 75/100\n",
            "64/64 [==============================] - 3s 54ms/step - loss: 1.7254e-04 - val_loss: 2.1022e-04\n",
            "Epoch 76/100\n",
            "64/64 [==============================] - 3s 52ms/step - loss: 2.1950e-04 - val_loss: 2.2224e-04\n",
            "Epoch 77/100\n",
            "64/64 [==============================] - 3s 53ms/step - loss: 2.0342e-04 - val_loss: 1.9295e-04\n",
            "Epoch 78/100\n",
            "64/64 [==============================] - 3s 53ms/step - loss: 2.4492e-04 - val_loss: 2.1050e-04\n",
            "Epoch 79/100\n",
            "64/64 [==============================] - 3s 54ms/step - loss: 1.8361e-04 - val_loss: 1.7091e-04\n",
            "Epoch 80/100\n",
            "64/64 [==============================] - 3s 54ms/step - loss: 1.6426e-04 - val_loss: 2.2592e-04\n",
            "Epoch 81/100\n",
            "64/64 [==============================] - 3s 53ms/step - loss: 1.7798e-04 - val_loss: 2.1637e-04\n",
            "Epoch 82/100\n",
            "64/64 [==============================] - 3s 53ms/step - loss: 1.8142e-04 - val_loss: 1.8267e-04\n",
            "Epoch 83/100\n",
            "64/64 [==============================] - 3s 52ms/step - loss: 2.0734e-04 - val_loss: 2.3541e-04\n",
            "Epoch 84/100\n",
            "64/64 [==============================] - 3s 53ms/step - loss: 1.6068e-04 - val_loss: 1.5809e-04\n",
            "Epoch 85/100\n",
            "64/64 [==============================] - 3s 53ms/step - loss: 1.8015e-04 - val_loss: 1.7800e-04\n",
            "Epoch 86/100\n",
            "64/64 [==============================] - 3s 53ms/step - loss: 1.4295e-04 - val_loss: 1.9863e-04\n",
            "Epoch 87/100\n",
            "64/64 [==============================] - 3s 52ms/step - loss: 2.1889e-04 - val_loss: 1.6509e-04\n",
            "Epoch 88/100\n",
            "64/64 [==============================] - 3s 53ms/step - loss: 1.4876e-04 - val_loss: 2.1090e-04\n",
            "Epoch 89/100\n",
            "64/64 [==============================] - 3s 52ms/step - loss: 1.4128e-04 - val_loss: 1.6691e-04\n",
            "Epoch 90/100\n",
            "64/64 [==============================] - 3s 53ms/step - loss: 1.3069e-04 - val_loss: 2.5598e-04\n",
            "Epoch 91/100\n",
            "64/64 [==============================] - 3s 52ms/step - loss: 1.5272e-04 - val_loss: 2.1663e-04\n",
            "Epoch 92/100\n",
            "64/64 [==============================] - 3s 53ms/step - loss: 1.6942e-04 - val_loss: 3.4734e-04\n",
            "Epoch 93/100\n",
            "64/64 [==============================] - 3s 53ms/step - loss: 1.9388e-04 - val_loss: 1.9686e-04\n",
            "Epoch 94/100\n",
            "64/64 [==============================] - 3s 53ms/step - loss: 1.4327e-04 - val_loss: 2.7493e-04\n",
            "Epoch 95/100\n",
            "64/64 [==============================] - 4s 55ms/step - loss: 1.6131e-04 - val_loss: 3.5925e-04\n",
            "Epoch 96/100\n",
            "64/64 [==============================] - 3s 53ms/step - loss: 2.4691e-04 - val_loss: 1.5936e-04\n",
            "Epoch 97/100\n",
            "64/64 [==============================] - 3s 54ms/step - loss: 1.3702e-04 - val_loss: 1.5492e-04\n",
            "Epoch 98/100\n",
            "64/64 [==============================] - 3s 53ms/step - loss: 1.2990e-04 - val_loss: 1.4709e-04\n",
            "Epoch 99/100\n",
            "64/64 [==============================] - 3s 53ms/step - loss: 2.5165e-04 - val_loss: 3.0832e-04\n",
            "Epoch 100/100\n",
            "64/64 [==============================] - 3s 53ms/step - loss: 2.2604e-04 - val_loss: 2.2399e-04\n"
          ],
          "name": "stdout"
        }
      ]
    },
    {
      "cell_type": "code",
      "metadata": {
        "colab": {
          "base_uri": "https://localhost:8080/",
          "height": 279
        },
        "id": "E6L7yxbigMNB",
        "outputId": "c4868f81-58dd-4586-a499-52a5c7fc8529"
      },
      "source": [
        "import matplotlib.pyplot as plt\n",
        "plt.plot(history.history['loss'], 'b-', label = 'loss')\n",
        "plt.plot(history.history['val_loss'], 'r--', label = 'val_loss')\n",
        "\n",
        "plt.xlabel('Epoch')\n",
        "plt.legend()\n",
        "plt.show()"
      ],
      "execution_count": 15,
      "outputs": [
        {
          "output_type": "display_data",
          "data": {
            "image/png": "[encoded data removed]",
            "text/plain": [
              "<Figure size 432x288 with 1 Axes>"
            ]
          },
          "metadata": {
            "tags": [],
            "needs_background": "light"
          }
        }
      ]
    },
    {
      "cell_type": "code",
      "metadata": {
        "colab": {
          "base_uri": "https://localhost:8080/"
        },
        "id": "7kxYdtxugMam",
        "outputId": "ecec1ac3-8ec3-4a0f-e42e-c639a40a8962"
      },
      "source": [
        "#GRU의 정확도\n",
        "prediction = model.predict(X[2560:])\n",
        "fail=0\n",
        "\n",
        "for i in range(len(prediction)):\n",
        "  if abs(prediction[i][0]-Y[2560+i]) > 0.04:\n",
        "    fail+=1\n",
        "print(\"정확도\", (440-fail)/440*100,\"%\")"
      ],
      "execution_count": 16,
      "outputs": [
        {
          "output_type": "stream",
          "text": [
            "정확도 98.86363636363636 %\n"
          ],
          "name": "stdout"
        }
      ]
    },
    {
      "cell_type": "markdown",
      "metadata": {
        "id": "5-JSpfzxgSY3"
      },
      "source": [
        "## 4. 양방향 LSTM"
      ]
    },
    {
      "cell_type": "code",
      "metadata": {
        "id": "xodrKfFHgXP-"
      },
      "source": [
        "#뒤에 있는 정보 또한 가운데 정보를 예측하는데 도움이 된다.\n",
        "#뒷부분에 중요한 정보가 있을 수 있다.\n",
        "\n",
        "#-> 그래서 역방향 lstm도 추가했다."
      ],
      "execution_count": 17,
      "outputs": []
    },
    {
      "cell_type": "code",
      "metadata": {
        "id": "m52Y6fKKgN96"
      },
      "source": [
        "#Sequential을 선언 후에 add로 추가할 수 있다.\n",
        "#Bidirectional을 추가하여 양방향을 다룰 수 있다."
      ],
      "execution_count": 18,
      "outputs": []
    },
    {
      "cell_type": "code",
      "metadata": {
        "colab": {
          "base_uri": "https://localhost:8080/"
        },
        "id": "0g49_GvegYHX",
        "outputId": "dd3d976d-ce8f-493a-f17e-81277b4290d3"
      },
      "source": [
        "import tensorflow as tf\n",
        "import numpy as np\n",
        "\n",
        "X=[] #독립변수\n",
        "Y=[] #종속변수\n",
        "\n",
        "#3000개의 데이터 생성 / 2560개의 학습 및 검증 / 440개의 테스트 데이터\n",
        "for i in range(3000):\n",
        "  lst = np.random.rand(100)\n",
        "\n",
        "  idx = np.random.choice(100,2,replace=False)\n",
        "\n",
        "  zeros = np.zeros(100)\n",
        "\n",
        "  #문제 가정\n",
        "  zeros[idx]=1\n",
        "  X.append(np.array(list(zip(zeros, lst))))\n",
        "  Y.append(np.prod(lst[idx]))\n",
        "\n",
        "from keras.models import Sequential\n",
        "from keras.layers import Dense, Activation, Bidirectional, LSTM\n",
        "\n",
        "model = Sequential()\n",
        "model.add(Bidirectional(LSTM(30,return_sequences=True),input_shape=[100,2]))\n",
        "model.add(Bidirectional(LSTM(30)))\n",
        "model.add(Dense(1)) #1개 예측\n",
        "\n",
        "model.compile(optimizer='adam',loss='mse')\n",
        "\n",
        "X=np.array(X)\n",
        "Y=np.array(Y)\n",
        "\n",
        "history = model.fit(X[:2560],Y[:2560],epochs=100, validation_split=0.2)\n",
        "\n"
      ],
      "execution_count": 19,
      "outputs": [
        {
          "output_type": "stream",
          "text": [
            "Epoch 1/100\n",
            "64/64 [==============================] - 12s 110ms/step - loss: 0.0560 - val_loss: 0.0474\n",
            "Epoch 2/100\n",
            "64/64 [==============================] - 6s 90ms/step - loss: 0.0486 - val_loss: 0.0475\n",
            "Epoch 3/100\n",
            "64/64 [==============================] - 6s 87ms/step - loss: 0.0465 - val_loss: 0.0475\n",
            "Epoch 4/100\n",
            "64/64 [==============================] - 5s 86ms/step - loss: 0.0441 - val_loss: 0.0476\n",
            "Epoch 5/100\n",
            "64/64 [==============================] - 5s 85ms/step - loss: 0.0457 - val_loss: 0.0473\n",
            "Epoch 6/100\n",
            "64/64 [==============================] - 5s 86ms/step - loss: 0.0460 - val_loss: 0.0481\n",
            "Epoch 7/100\n",
            "64/64 [==============================] - 6s 87ms/step - loss: 0.0428 - val_loss: 0.0498\n",
            "Epoch 8/100\n",
            "64/64 [==============================] - 6s 87ms/step - loss: 0.0484 - val_loss: 0.0473\n",
            "Epoch 9/100\n",
            "64/64 [==============================] - 6s 87ms/step - loss: 0.0439 - val_loss: 0.0473\n",
            "Epoch 10/100\n",
            "64/64 [==============================] - 6s 87ms/step - loss: 0.0465 - val_loss: 0.0473\n",
            "Epoch 11/100\n",
            "64/64 [==============================] - 6s 87ms/step - loss: 0.0458 - val_loss: 0.0472\n",
            "Epoch 12/100\n",
            "64/64 [==============================] - 5s 86ms/step - loss: 0.0484 - val_loss: 0.0476\n",
            "Epoch 13/100\n",
            "64/64 [==============================] - 6s 86ms/step - loss: 0.0463 - val_loss: 0.0477\n",
            "Epoch 14/100\n",
            "64/64 [==============================] - 5s 86ms/step - loss: 0.0455 - val_loss: 0.0472\n",
            "Epoch 15/100\n",
            "64/64 [==============================] - 6s 87ms/step - loss: 0.0455 - val_loss: 0.0471\n",
            "Epoch 16/100\n",
            "64/64 [==============================] - 5s 86ms/step - loss: 0.0460 - val_loss: 0.0471\n",
            "Epoch 17/100\n",
            "64/64 [==============================] - 6s 87ms/step - loss: 0.0468 - val_loss: 0.0473\n",
            "Epoch 18/100\n",
            "64/64 [==============================] - 6s 88ms/step - loss: 0.0446 - val_loss: 0.0473\n",
            "Epoch 19/100\n",
            "64/64 [==============================] - 6s 88ms/step - loss: 0.0471 - val_loss: 0.0470\n",
            "Epoch 20/100\n",
            "64/64 [==============================] - 6s 87ms/step - loss: 0.0471 - val_loss: 0.0469\n",
            "Epoch 21/100\n",
            "64/64 [==============================] - 6s 87ms/step - loss: 0.0450 - val_loss: 0.0468\n",
            "Epoch 22/100\n",
            "64/64 [==============================] - 6s 86ms/step - loss: 0.0442 - val_loss: 0.0480\n",
            "Epoch 23/100\n",
            "64/64 [==============================] - 6s 87ms/step - loss: 0.0430 - val_loss: 0.0460\n",
            "Epoch 24/100\n",
            "64/64 [==============================] - 6s 87ms/step - loss: 0.0504 - val_loss: 0.0466\n",
            "Epoch 25/100\n",
            "64/64 [==============================] - 6s 86ms/step - loss: 0.0451 - val_loss: 0.0460\n",
            "Epoch 26/100\n",
            "64/64 [==============================] - 6s 89ms/step - loss: 0.0441 - val_loss: 0.0477\n",
            "Epoch 27/100\n",
            "64/64 [==============================] - 6s 87ms/step - loss: 0.0451 - val_loss: 0.0463\n",
            "Epoch 28/100\n",
            "64/64 [==============================] - 6s 87ms/step - loss: 0.0418 - val_loss: 0.0415\n",
            "Epoch 29/100\n",
            "64/64 [==============================] - 6s 88ms/step - loss: 0.0435 - val_loss: 0.0421\n",
            "Epoch 30/100\n",
            "64/64 [==============================] - 6s 87ms/step - loss: 0.0333 - val_loss: 0.0293\n",
            "Epoch 31/100\n",
            "64/64 [==============================] - 6s 88ms/step - loss: 0.0229 - val_loss: 0.0110\n",
            "Epoch 32/100\n",
            "64/64 [==============================] - 6s 87ms/step - loss: 0.0180 - val_loss: 0.0059\n",
            "Epoch 33/100\n",
            "64/64 [==============================] - 6s 87ms/step - loss: 0.0056 - val_loss: 0.0038\n",
            "Epoch 34/100\n",
            "64/64 [==============================] - 6s 88ms/step - loss: 0.0035 - val_loss: 0.0034\n",
            "Epoch 35/100\n",
            "64/64 [==============================] - 6s 88ms/step - loss: 0.0027 - val_loss: 0.0025\n",
            "Epoch 36/100\n",
            "64/64 [==============================] - 6s 88ms/step - loss: 0.0033 - val_loss: 0.0033\n",
            "Epoch 37/100\n",
            "64/64 [==============================] - 6s 88ms/step - loss: 0.0026 - val_loss: 0.0047\n",
            "Epoch 38/100\n",
            "64/64 [==============================] - 6s 87ms/step - loss: 0.0022 - val_loss: 0.0018\n",
            "Epoch 39/100\n",
            "64/64 [==============================] - 6s 88ms/step - loss: 0.0015 - val_loss: 0.0023\n",
            "Epoch 40/100\n",
            "64/64 [==============================] - 6s 88ms/step - loss: 0.0014 - val_loss: 0.0022\n",
            "Epoch 41/100\n",
            "64/64 [==============================] - 6s 87ms/step - loss: 0.0015 - val_loss: 0.0012\n",
            "Epoch 42/100\n",
            "64/64 [==============================] - 6s 87ms/step - loss: 0.0011 - val_loss: 0.0013\n",
            "Epoch 43/100\n",
            "64/64 [==============================] - 6s 87ms/step - loss: 0.0011 - val_loss: 0.0024\n",
            "Epoch 44/100\n",
            "64/64 [==============================] - 6s 87ms/step - loss: 0.0019 - val_loss: 9.4915e-04\n",
            "Epoch 45/100\n",
            "64/64 [==============================] - 6s 87ms/step - loss: 7.9518e-04 - val_loss: 0.0021\n",
            "Epoch 46/100\n",
            "64/64 [==============================] - 6s 89ms/step - loss: 0.0013 - val_loss: 0.0011\n",
            "Epoch 47/100\n",
            "64/64 [==============================] - 6s 88ms/step - loss: 0.0010 - val_loss: 0.0015\n",
            "Epoch 48/100\n",
            "64/64 [==============================] - 6s 87ms/step - loss: 0.0010 - val_loss: 6.8113e-04\n",
            "Epoch 49/100\n",
            "64/64 [==============================] - 6s 87ms/step - loss: 8.7979e-04 - val_loss: 0.0012\n",
            "Epoch 50/100\n",
            "64/64 [==============================] - 6s 88ms/step - loss: 0.0011 - val_loss: 7.3705e-04\n",
            "Epoch 51/100\n",
            "64/64 [==============================] - 6s 87ms/step - loss: 9.1940e-04 - val_loss: 9.2510e-04\n",
            "Epoch 52/100\n",
            "64/64 [==============================] - 6s 88ms/step - loss: 0.0014 - val_loss: 0.0013\n",
            "Epoch 53/100\n",
            "64/64 [==============================] - 6s 87ms/step - loss: 0.0011 - val_loss: 6.5620e-04\n",
            "Epoch 54/100\n",
            "64/64 [==============================] - 6s 88ms/step - loss: 6.3970e-04 - val_loss: 8.9211e-04\n",
            "Epoch 55/100\n",
            "64/64 [==============================] - 6s 87ms/step - loss: 6.0872e-04 - val_loss: 8.3248e-04\n",
            "Epoch 56/100\n",
            "64/64 [==============================] - 6s 89ms/step - loss: 6.3198e-04 - val_loss: 7.7301e-04\n",
            "Epoch 57/100\n",
            "64/64 [==============================] - 6s 88ms/step - loss: 5.6870e-04 - val_loss: 4.1950e-04\n",
            "Epoch 58/100\n",
            "64/64 [==============================] - 6s 88ms/step - loss: 4.4175e-04 - val_loss: 3.6971e-04\n",
            "Epoch 59/100\n",
            "64/64 [==============================] - 6s 87ms/step - loss: 4.0558e-04 - val_loss: 7.2218e-04\n",
            "Epoch 60/100\n",
            "64/64 [==============================] - 6s 86ms/step - loss: 5.9983e-04 - val_loss: 5.3158e-04\n",
            "Epoch 61/100\n",
            "64/64 [==============================] - 6s 88ms/step - loss: 4.9647e-04 - val_loss: 0.0011\n",
            "Epoch 62/100\n",
            "64/64 [==============================] - 6s 87ms/step - loss: 9.1313e-04 - val_loss: 9.2304e-04\n",
            "Epoch 63/100\n",
            "64/64 [==============================] - 6s 88ms/step - loss: 4.9801e-04 - val_loss: 4.3195e-04\n",
            "Epoch 64/100\n",
            "64/64 [==============================] - 6s 88ms/step - loss: 4.0410e-04 - val_loss: 2.7369e-04\n",
            "Epoch 65/100\n",
            "64/64 [==============================] - 6s 87ms/step - loss: 3.0608e-04 - val_loss: 3.1033e-04\n",
            "Epoch 66/100\n",
            "64/64 [==============================] - 6s 87ms/step - loss: 3.5663e-04 - val_loss: 5.9148e-04\n",
            "Epoch 67/100\n",
            "64/64 [==============================] - 6s 88ms/step - loss: 6.8226e-04 - val_loss: 2.7589e-04\n",
            "Epoch 68/100\n",
            "64/64 [==============================] - 6s 87ms/step - loss: 2.2861e-04 - val_loss: 5.2227e-04\n",
            "Epoch 69/100\n",
            "64/64 [==============================] - 6s 88ms/step - loss: 3.3872e-04 - val_loss: 2.8118e-04\n",
            "Epoch 70/100\n",
            "64/64 [==============================] - 6s 87ms/step - loss: 2.6262e-04 - val_loss: 4.0511e-04\n",
            "Epoch 71/100\n",
            "64/64 [==============================] - 6s 86ms/step - loss: 5.2736e-04 - val_loss: 2.9761e-04\n",
            "Epoch 72/100\n",
            "64/64 [==============================] - 6s 88ms/step - loss: 3.3602e-04 - val_loss: 3.6822e-04\n",
            "Epoch 73/100\n",
            "64/64 [==============================] - 6s 87ms/step - loss: 3.8780e-04 - val_loss: 2.8748e-04\n",
            "Epoch 74/100\n",
            "64/64 [==============================] - 6s 87ms/step - loss: 5.0002e-04 - val_loss: 3.2034e-04\n",
            "Epoch 75/100\n",
            "64/64 [==============================] - 6s 87ms/step - loss: 4.9162e-04 - val_loss: 4.1094e-04\n",
            "Epoch 76/100\n",
            "64/64 [==============================] - 6s 88ms/step - loss: 2.9298e-04 - val_loss: 2.4762e-04\n",
            "Epoch 77/100\n",
            "64/64 [==============================] - 6s 88ms/step - loss: 4.6615e-04 - val_loss: 3.0211e-04\n",
            "Epoch 78/100\n",
            "64/64 [==============================] - 6s 88ms/step - loss: 3.4706e-04 - val_loss: 2.2860e-04\n",
            "Epoch 79/100\n",
            "64/64 [==============================] - 6s 87ms/step - loss: 0.0017 - val_loss: 4.7042e-04\n",
            "Epoch 80/100\n",
            "64/64 [==============================] - 6s 89ms/step - loss: 4.1496e-04 - val_loss: 3.8094e-04\n",
            "Epoch 81/100\n",
            "64/64 [==============================] - 6s 90ms/step - loss: 4.7027e-04 - val_loss: 2.3447e-04\n",
            "Epoch 82/100\n",
            "64/64 [==============================] - 6s 90ms/step - loss: 2.4638e-04 - val_loss: 2.1330e-04\n",
            "Epoch 83/100\n",
            "64/64 [==============================] - 6s 89ms/step - loss: 2.1234e-04 - val_loss: 2.6153e-04\n",
            "Epoch 84/100\n",
            "64/64 [==============================] - 6s 88ms/step - loss: 3.5366e-04 - val_loss: 4.3587e-04\n",
            "Epoch 85/100\n",
            "64/64 [==============================] - 6s 89ms/step - loss: 2.7585e-04 - val_loss: 2.5719e-04\n",
            "Epoch 86/100\n",
            "64/64 [==============================] - 6s 89ms/step - loss: 2.7240e-04 - val_loss: 2.7448e-04\n",
            "Epoch 87/100\n",
            "64/64 [==============================] - 6s 89ms/step - loss: 3.0364e-04 - val_loss: 1.9483e-04\n",
            "Epoch 88/100\n",
            "64/64 [==============================] - 6s 87ms/step - loss: 3.6129e-04 - val_loss: 3.3711e-04\n",
            "Epoch 89/100\n",
            "64/64 [==============================] - 6s 89ms/step - loss: 6.8173e-04 - val_loss: 7.4066e-04\n",
            "Epoch 90/100\n",
            "64/64 [==============================] - 6s 91ms/step - loss: 3.0300e-04 - val_loss: 4.6229e-04\n",
            "Epoch 91/100\n",
            "64/64 [==============================] - 6s 88ms/step - loss: 0.0010 - val_loss: 2.4406e-04\n",
            "Epoch 92/100\n",
            "64/64 [==============================] - 6s 87ms/step - loss: 2.5793e-04 - val_loss: 2.3838e-04\n",
            "Epoch 93/100\n",
            "64/64 [==============================] - 6s 87ms/step - loss: 4.0589e-04 - val_loss: 5.5891e-04\n",
            "Epoch 94/100\n",
            "64/64 [==============================] - 6s 88ms/step - loss: 5.6333e-04 - val_loss: 2.4743e-04\n",
            "Epoch 95/100\n",
            "64/64 [==============================] - 6s 87ms/step - loss: 2.1295e-04 - val_loss: 1.9438e-04\n",
            "Epoch 96/100\n",
            "64/64 [==============================] - 6s 89ms/step - loss: 3.3217e-04 - val_loss: 2.3814e-04\n",
            "Epoch 97/100\n",
            "64/64 [==============================] - 6s 88ms/step - loss: 2.5614e-04 - val_loss: 3.0691e-04\n",
            "Epoch 98/100\n",
            "64/64 [==============================] - 6s 88ms/step - loss: 5.2666e-04 - val_loss: 1.9075e-04\n",
            "Epoch 99/100\n",
            "64/64 [==============================] - 6s 89ms/step - loss: 1.7498e-04 - val_loss: 1.7509e-04\n",
            "Epoch 100/100\n",
            "64/64 [==============================] - 6s 88ms/step - loss: 2.0142e-04 - val_loss: 4.7433e-04\n"
          ],
          "name": "stdout"
        }
      ]
    },
    {
      "cell_type": "code",
      "metadata": {
        "colab": {
          "base_uri": "https://localhost:8080/",
          "height": 279
        },
        "id": "OGKkzHMVgaey",
        "outputId": "84707f5f-2942-447c-9722-865815760bfb"
      },
      "source": [
        "#GRU보다는 성능이 낮다.\n",
        "import matplotlib.pyplot as plt\n",
        "plt.plot(history.history['loss'], 'b-', label = 'loss')\n",
        "plt.plot(history.history['val_loss'], 'r--', label = 'val_loss')\n",
        "\n",
        "plt.xlabel('Epoch')\n",
        "plt.legend()\n",
        "plt.show()"
      ],
      "execution_count": 20,
      "outputs": [
        {
          "output_type": "display_data",
          "data": {
            "image/png": "[encoded data removed]",
            "text/plain": [
              "<Figure size 432x288 with 1 Axes>"
            ]
          },
          "metadata": {
            "tags": [],
            "needs_background": "light"
          }
        }
      ]
    },
    {
      "cell_type": "code",
      "metadata": {
        "colab": {
          "base_uri": "https://localhost:8080/"
        },
        "id": "wmuOd8yhgcTI",
        "outputId": "bd867d10-bce1-495a-e39e-f5bc4a022102"
      },
      "source": [
        "prediction = model.predict(X[2560:])\n",
        "fail=0\n",
        "\n",
        "for i in range(len(prediction)):\n",
        "  if abs(prediction[i][0]-Y[2560+i]) > 0.04:\n",
        "    fail+=1\n",
        "print(\"정확도\", (440-fail)/440*100,\"%\")"
      ],
      "execution_count": 21,
      "outputs": [
        {
          "output_type": "stream",
          "text": [
            "정확도 93.86363636363636 %\n"
          ],
          "name": "stdout"
        }
      ]
    },
    {
      "cell_type": "markdown",
      "metadata": {
        "id": "r1HJdvRgh-Ju"
      },
      "source": [
        "LSTM이 SimpleRNN보다 확실히 좋음을 알 수 있다.\n",
        "\n",
        "SimpleRNN<LSTM<GRU -> LSTM가 GRU보다 높거나 비슷해야되는데 여기서는 GRU가 높게 나옴"
      ]
    },
    {
      "cell_type": "markdown",
      "metadata": {
        "id": "5SZJV6lIge2L"
      },
      "source": [
        "각 모델 비교시, 실험환경(ex. Colab GPU), 연산 결과, 학습 시간도 측정해야한다!"
      ]
    },
    {
      "cell_type": "code",
      "metadata": {
        "id": "RfTEcpUkgeXX"
      },
      "source": [
        ""
      ],
      "execution_count": null,
      "outputs": []
    }
  ]
}