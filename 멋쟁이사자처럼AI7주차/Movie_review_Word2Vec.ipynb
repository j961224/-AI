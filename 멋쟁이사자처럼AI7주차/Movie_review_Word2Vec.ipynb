{
  "nbformat": 4,
  "nbformat_minor": 0,
  "metadata": {
    "colab": {
      "name": "Movie_review_Word2Vec.ipynb",
      "provenance": [],
      "collapsed_sections": []
    },
    "kernelspec": {
      "name": "python3",
      "display_name": "Python 3"
    },
    "language_info": {
      "name": "python"
    }
  },
  "cells": [
    {
      "cell_type": "markdown",
      "metadata": {
        "id": "vHVNeJyJPw4g"
      },
      "source": [
        "# 영화 리뷰 데이터 Word2Vec로 분석"
      ]
    },
    {
      "cell_type": "code",
      "metadata": {
        "colab": {
          "base_uri": "https://localhost:8080/"
        },
        "id": "76zH_quoPzi6",
        "outputId": "94573ecc-acfa-491e-b21a-b60fd00bef81"
      },
      "source": [
        "pip install Konlpy"
      ],
      "execution_count": 1,
      "outputs": [
        {
          "output_type": "stream",
          "text": [
            "Collecting Konlpy\n",
            "\u001b[?25l  Downloading https://files.pythonhosted.org/packages/85/0e/f385566fec837c0b83f216b2da65db9997b35dd675e107752005b7d392b1/konlpy-0.5.2-py2.py3-none-any.whl (19.4MB)\n",
            "\u001b[K     |████████████████████████████████| 19.4MB 43.1MB/s \n",
            "\u001b[?25hRequirement already satisfied: lxml>=4.1.0 in /usr/local/lib/python3.7/dist-packages (from Konlpy) (4.2.6)\n",
            "Requirement already satisfied: tweepy>=3.7.0 in /usr/local/lib/python3.7/dist-packages (from Konlpy) (3.10.0)\n",
            "Collecting JPype1>=0.7.0\n",
            "\u001b[?25l  Downloading https://files.pythonhosted.org/packages/cd/a5/9781e2ef4ca92d09912c4794642c1653aea7607f473e156cf4d423a881a1/JPype1-1.2.1-cp37-cp37m-manylinux2010_x86_64.whl (457kB)\n",
            "\u001b[K     |████████████████████████████████| 460kB 37.7MB/s \n",
            "\u001b[?25hCollecting colorama\n",
            "  Downloading https://files.pythonhosted.org/packages/44/98/5b86278fbbf250d239ae0ecb724f8572af1c91f4a11edf4d36a206189440/colorama-0.4.4-py2.py3-none-any.whl\n",
            "Requirement already satisfied: numpy>=1.6 in /usr/local/lib/python3.7/dist-packages (from Konlpy) (1.19.5)\n",
            "Collecting beautifulsoup4==4.6.0\n",
            "\u001b[?25l  Downloading https://files.pythonhosted.org/packages/9e/d4/10f46e5cfac773e22707237bfcd51bbffeaf0a576b0a847ec7ab15bd7ace/beautifulsoup4-4.6.0-py3-none-any.whl (86kB)\n",
            "\u001b[K     |████████████████████████████████| 92kB 5.8MB/s \n",
            "\u001b[?25hRequirement already satisfied: requests[socks]>=2.11.1 in /usr/local/lib/python3.7/dist-packages (from tweepy>=3.7.0->Konlpy) (2.23.0)\n",
            "Requirement already satisfied: requests-oauthlib>=0.7.0 in /usr/local/lib/python3.7/dist-packages (from tweepy>=3.7.0->Konlpy) (1.3.0)\n",
            "Requirement already satisfied: six>=1.10.0 in /usr/local/lib/python3.7/dist-packages (from tweepy>=3.7.0->Konlpy) (1.15.0)\n",
            "Requirement already satisfied: typing-extensions; python_version < \"3.8\" in /usr/local/lib/python3.7/dist-packages (from JPype1>=0.7.0->Konlpy) (3.7.4.3)\n",
            "Requirement already satisfied: chardet<4,>=3.0.2 in /usr/local/lib/python3.7/dist-packages (from requests[socks]>=2.11.1->tweepy>=3.7.0->Konlpy) (3.0.4)\n",
            "Requirement already satisfied: certifi>=2017.4.17 in /usr/local/lib/python3.7/dist-packages (from requests[socks]>=2.11.1->tweepy>=3.7.0->Konlpy) (2020.12.5)\n",
            "Requirement already satisfied: urllib3!=1.25.0,!=1.25.1,<1.26,>=1.21.1 in /usr/local/lib/python3.7/dist-packages (from requests[socks]>=2.11.1->tweepy>=3.7.0->Konlpy) (1.24.3)\n",
            "Requirement already satisfied: idna<3,>=2.5 in /usr/local/lib/python3.7/dist-packages (from requests[socks]>=2.11.1->tweepy>=3.7.0->Konlpy) (2.10)\n",
            "Requirement already satisfied: PySocks!=1.5.7,>=1.5.6; extra == \"socks\" in /usr/local/lib/python3.7/dist-packages (from requests[socks]>=2.11.1->tweepy>=3.7.0->Konlpy) (1.7.1)\n",
            "Requirement already satisfied: oauthlib>=3.0.0 in /usr/local/lib/python3.7/dist-packages (from requests-oauthlib>=0.7.0->tweepy>=3.7.0->Konlpy) (3.1.0)\n",
            "Installing collected packages: JPype1, colorama, beautifulsoup4, Konlpy\n",
            "  Found existing installation: beautifulsoup4 4.6.3\n",
            "    Uninstalling beautifulsoup4-4.6.3:\n",
            "      Successfully uninstalled beautifulsoup4-4.6.3\n",
            "Successfully installed JPype1-1.2.1 Konlpy-0.5.2 beautifulsoup4-4.6.0 colorama-0.4.4\n"
          ],
          "name": "stdout"
        }
      ]
    },
    {
      "cell_type": "code",
      "metadata": {
        "id": "9qOQZBQlP3xt"
      },
      "source": [
        "from konlpy.tag import Komoran\n",
        "import time #얼마나 학습 시간이 걸릴지"
      ],
      "execution_count": 2,
      "outputs": []
    },
    {
      "cell_type": "code",
      "metadata": {
        "id": "OYs5NcEVQAhc"
      },
      "source": [
        "#네이버 영화 리뷰 데이터 읽어옴\n",
        "def read_review_data(filename):\n",
        "  with open(filename,'r') as f:\n",
        "    #tab으로 구분\n",
        "    data=[line.split('\\t') for line in f.read().splitlines()]\n",
        "    data=data[1:] #next역할\n",
        "  \n",
        "  return data\n"
      ],
      "execution_count": 3,
      "outputs": []
    },
    {
      "cell_type": "code",
      "metadata": {
        "id": "9QMTIxWoRFNy"
      },
      "source": [
        "review_data=read_review_data('/content/ratings.txt')"
      ],
      "execution_count": 4,
      "outputs": []
    },
    {
      "cell_type": "code",
      "metadata": {
        "colab": {
          "base_uri": "https://localhost:8080/"
        },
        "id": "Of03Yv4CRFfN",
        "outputId": "a01b67a2-9db9-42cf-d64a-a7035b62ebe8"
      },
      "source": [
        "len(review_data)"
      ],
      "execution_count": 5,
      "outputs": [
        {
          "output_type": "execute_result",
          "data": {
            "text/plain": [
              "200000"
            ]
          },
          "metadata": {
            "tags": []
          },
          "execution_count": 5
        }
      ]
    },
    {
      "cell_type": "code",
      "metadata": {
        "colab": {
          "base_uri": "https://localhost:8080/"
        },
        "id": "T4EGPhokRG4U",
        "outputId": "937004e8-a2f2-4a16-f4a6-98b3cd973630"
      },
      "source": [
        "#명사만 추출해 학습 입력 데이터 만들기\n",
        "start = time.time()\n",
        "print(\"형태소에서 명사만 추출 시작\")\n",
        "komoran = Komoran()\n",
        "#한 줄식 받아 sentence[1]로 받아 추출 - nouns:명사만 추출\n",
        "docs = [komoran.nouns(sentence[1]) for sentence in review_data]\n",
        "print(\"형태소에서 명사만 추출 완료 : \",time.time() - start)"
      ],
      "execution_count": 6,
      "outputs": [
        {
          "output_type": "stream",
          "text": [
            "형태소에서 명사만 추출 시작\n",
            "형태소에서 명사만 추출 완료 :  137.05464053153992\n"
          ],
          "name": "stdout"
        }
      ]
    },
    {
      "cell_type": "code",
      "metadata": {
        "colab": {
          "base_uri": "https://localhost:8080/"
        },
        "id": "Cj0TocC6RQG5",
        "outputId": "d3e2f80d-03af-4a39-a141-aebb2d34f9f8"
      },
      "source": [
        "#word2vec 모델 학습 과정\n",
        "from gensim.models import Word2Vec\n",
        "\n",
        "#size는 단어임베딩의 차원의 크기 -> 보통 100~200\n",
        "#text는 단어의 출연 빈도도 중요하다! -> min_count로 최소 2번은 나와야 포함한다.\n",
        "#sg는 0과 1을 쓸 수 있는데 0은 CBOW, 1은 skip-gram\n",
        "start = time.time()\n",
        "print(\"모델학습 시작\")\n",
        "model=Word2Vec(sentences = docs, size=200, window=4, min_count=2, sg=0)\n",
        "print(\"학습 소요 시간 : \",time.time()-start)\n",
        "#backofwords를 사용하면 skip보다 학습속도가 빠르므로 16초 걸림"
      ],
      "execution_count": 7,
      "outputs": [
        {
          "output_type": "stream",
          "text": [
            "모델학습 시작\n",
            "학습 소요 시간 :  16.886305332183838\n"
          ],
          "name": "stdout"
        }
      ]
    },
    {
      "cell_type": "code",
      "metadata": {
        "colab": {
          "base_uri": "https://localhost:8080/"
        },
        "id": "BtoR6eX2Rh0v",
        "outputId": "892e0eac-6de6-417c-d438-32ee33fff974"
      },
      "source": [
        "start = time.time()\n",
        "print(\"모델학습 시작\")\n",
        "model=Word2Vec(sentences = docs, size=200, window=4, min_count=2, sg=1)\n",
        "print(\"학습 소요 시간 : \",time.time()-start)"
      ],
      "execution_count": 8,
      "outputs": [
        {
          "output_type": "stream",
          "text": [
            "모델학습 시작\n",
            "학습 소요 시간 :  29.9112069606781\n"
          ],
          "name": "stdout"
        }
      ]
    },
    {
      "cell_type": "code",
      "metadata": {
        "id": "UugcSV54RlpE"
      },
      "source": [
        "#모델 저장\n",
        "model.save('/content/nvmc.model')"
      ],
      "execution_count": 9,
      "outputs": []
    },
    {
      "cell_type": "code",
      "metadata": {
        "colab": {
          "base_uri": "https://localhost:8080/"
        },
        "id": "Y2I2lYbBRqpE",
        "outputId": "0448d3b5-c8bd-407d-b597-7a8456b7ac1b"
      },
      "source": [
        "#학습된 말뭉치 개수\n",
        "print(\"model.corpus_count: \", model.corpus_count)\n",
        "#corpus 내 전체 단어 개수us_count)\n",
        "#corpus 내 전체 단어 개수\n",
        "print(\"model.corpus_total_words : \",model.corpus_total_words)\n",
        "print(\"model.corpus_total_words : \",model.corpus_total_words)"
      ],
      "execution_count": 10,
      "outputs": [
        {
          "output_type": "stream",
          "text": [
            "model.corpus_count:  200000\n",
            "model.corpus_total_words :  1076896\n",
            "model.corpus_total_words :  1076896\n"
          ],
          "name": "stdout"
        }
      ]
    },
    {
      "cell_type": "code",
      "metadata": {
        "id": "DYuSa5uZR6Ej"
      },
      "source": [
        "#유사도 측정 방식\n",
        "#단어 임베딩된 값과 벡터 공간상의 유사한 단어들을 확인\n",
        "\n",
        "#모델 불러오기\n",
        "model=Word2Vec.load('/content/nvmc.model')"
      ],
      "execution_count": 11,
      "outputs": []
    },
    {
      "cell_type": "code",
      "metadata": {
        "colab": {
          "base_uri": "https://localhost:8080/"
        },
        "id": "cfSRW5yhR6ZU",
        "outputId": "42012124-cc2a-4892-89ed-47e032c09af4"
      },
      "source": [
        "#학습 잘 되었는지 확인\n",
        "print(\"model.corpus_total_words: \",model.corpus_total_words)\n",
        "#잘 되었다."
      ],
      "execution_count": 12,
      "outputs": [
        {
          "output_type": "stream",
          "text": [
            "model.corpus_total_words:  1076896\n"
          ],
          "name": "stdout"
        }
      ]
    },
    {
      "cell_type": "code",
      "metadata": {
        "colab": {
          "base_uri": "https://localhost:8080/"
        },
        "id": "4khJOpCOixrW",
        "outputId": "98aee127-2e26-4abb-b30e-5dd68211f40f"
      },
      "source": [
        "print(\"사랑: \",model.wv['사랑'])\n",
        "#얼추 200차원\n",
        "#'사랑'이라는 단어의 벡터값을 출력"
      ],
      "execution_count": 13,
      "outputs": [
        {
          "output_type": "stream",
          "text": [
            "사랑:  [-0.4494772   0.456713   -0.47581106 -0.31735265 -0.08028495  0.2008743\n",
            " -0.00826496  0.14172262 -0.20021088  0.61448616  0.12031204  0.3562782\n",
            "  0.6517951   0.41913086 -0.03490618  0.07787826  0.20880531  0.2013377\n",
            "  0.00831773 -0.15666388  0.00175046 -0.02192963 -0.35989916  0.49388754\n",
            "  0.1989361   0.07872412  0.04692243 -0.25156918 -0.02271424  0.3339236\n",
            "  0.27113008  0.05537645  0.06206968  0.14147854 -0.00163235 -0.03187301\n",
            "  0.06406411 -0.12247082 -0.37928206 -0.17455384  0.06576696 -0.07320766\n",
            " -0.05637597 -0.2395867  -0.13843271  0.09295412  0.03385063 -0.38770947\n",
            " -0.41767296 -0.3320322  -0.07067724 -0.01505921  0.08960607  0.16911177\n",
            "  0.09139112 -0.06784994 -0.10870817 -0.12559067  0.2734048  -0.3734546\n",
            "  0.0393755  -0.19306381  0.23761386  0.46850422 -0.25429764 -0.35232186\n",
            " -0.07603183  0.18129249  0.23963277 -0.20655312  0.00360907 -0.05253289\n",
            " -0.2899965   0.03448891  0.29845694  0.08349055 -0.12344032  0.08705919\n",
            "  0.45427364  0.15579578 -0.30650204 -0.19587788 -0.14602831 -0.3200541\n",
            " -0.09298434 -0.28729877 -0.03313815  0.4290791   0.05617018  0.21294537\n",
            " -0.2759531   0.22911395  0.04486337 -0.28787112 -0.04360624  0.09338693\n",
            " -0.2703823  -0.5591439   0.14531228 -0.21405411  0.11640134 -0.09176406\n",
            "  0.2304846  -0.26455674  0.27406317  0.13225712 -0.3361684  -0.25030863\n",
            "  0.06787262  0.48337466  0.13241269 -0.0143662  -0.08393031  0.04521418\n",
            " -0.15478984  0.16395082  0.01516775  0.30335978 -0.21438143  0.02134758\n",
            "  0.3102778  -0.1507494  -0.22345927  0.19760491  0.1388214  -0.16773288\n",
            " -0.382421    0.30475295  0.13741742 -0.15564969 -0.1374558  -0.40063477\n",
            " -0.06086329 -0.31534204  0.13483885 -0.29026654  0.08543086  0.04209162\n",
            "  0.05485442 -0.09051129  0.01349336 -0.10521487  0.384234    0.0729694\n",
            " -0.10467998  0.1278818   0.0626063  -0.04907077 -0.38080826 -0.45556778\n",
            " -0.21573001 -0.4807184  -0.41778743 -0.2274571  -0.18607877  0.02502748\n",
            "  0.04533814 -0.28133512  0.1152328   0.26656175  0.38520417  0.06991044\n",
            "  0.27832645 -0.33286902 -0.16954827 -0.39530677 -0.29092452  0.21823029\n",
            " -0.12694746  0.0972622   0.05689341  0.35561958 -0.03105687  0.10341187\n",
            " -0.05549554 -0.06541057 -0.2273436  -0.0975968  -0.2209773  -0.4486032\n",
            " -0.55074495 -0.09566503 -0.06159385  0.5115693   0.06345101 -0.0833725\n",
            " -0.16969417  0.25777394  0.151164   -0.36349618 -0.23525319 -0.1038156\n",
            " -0.13566269  0.11959655 -0.08628658 -0.11589731  0.31843615 -0.18898174\n",
            "  0.12741704  0.2137883 ]\n"
          ],
          "name": "stdout"
        }
      ]
    },
    {
      "cell_type": "code",
      "metadata": {
        "colab": {
          "base_uri": "https://localhost:8080/"
        },
        "id": "J1mePg24i_UH",
        "outputId": "8ffd315b-5bd4-45d9-d068-4b3e127775b4"
      },
      "source": [
        "#유사도 체크\n",
        "#코사인 기반\n",
        "#월요일과 일요일은 큰 유사도를 보여준다\n",
        "print(\"일요일과 월요일의 유사도 : \",model.wv.similarity(w1=\"일요일\", w2=\"월요일\"))"
      ],
      "execution_count": 14,
      "outputs": [
        {
          "output_type": "stream",
          "text": [
            "일요일과 월요일의 유사도 :  0.9173818\n"
          ],
          "name": "stdout"
        }
      ]
    },
    {
      "cell_type": "code",
      "metadata": {
        "colab": {
          "base_uri": "https://localhost:8080/"
        },
        "id": "z1vhOfg7jrUU",
        "outputId": "31b868e0-bf37-4dde-c568-2312b97d91f3"
      },
      "source": [
        "print(\"사랑과 거짓말의 유사도 : \",model.wv.similarity(w1=\"사랑\", w2=\"거짓말\"))"
      ],
      "execution_count": 15,
      "outputs": [
        {
          "output_type": "stream",
          "text": [
            "사랑과 거짓말의 유사도 :  0.5350769\n"
          ],
          "name": "stdout"
        }
      ]
    },
    {
      "cell_type": "code",
      "metadata": {
        "colab": {
          "base_uri": "https://localhost:8080/"
        },
        "id": "nHk3BASCj5Rb",
        "outputId": "6744aef3-5b5e-4be5-e667-96f0a74a910a"
      },
      "source": [
        "#wv-> Word2Vec\n",
        "#topn -> 상위 몇 개 출력\n",
        "print(model.wv.most_similar(\"일요일\",topn=5))"
      ],
      "execution_count": 16,
      "outputs": [
        {
          "output_type": "stream",
          "text": [
            "[('출근', 0.9615507125854492), ('오전', 0.9524146914482117), ('금요일', 0.9439491033554077), ('밤새', 0.9352575540542603), ('회차', 0.9269595146179199)]\n"
          ],
          "name": "stdout"
        }
      ]
    },
    {
      "cell_type": "code",
      "metadata": {
        "colab": {
          "base_uri": "https://localhost:8080/"
        },
        "id": "i14hAF17kJRb",
        "outputId": "f1a709b7-2dc9-4db4-ca27-4520659673f4"
      },
      "source": [
        "print(model.wv.most_similar(\"사랑\",topn=5))"
      ],
      "execution_count": 17,
      "outputs": [
        {
          "output_type": "stream",
          "text": [
            "[('사랑은', 0.7429064512252808), ('치유', 0.7143785357475281), ('사랑으로', 0.7124640941619873), ('사람과', 0.7105830907821655), ('순수', 0.7080665826797485)]\n"
          ],
          "name": "stdout"
        }
      ]
    },
    {
      "cell_type": "code",
      "metadata": {
        "colab": {
          "base_uri": "https://localhost:8080/"
        },
        "id": "2-AFuIKTkTWm",
        "outputId": "caae4874-32db-4f81-8a88-83059c02a9ec"
      },
      "source": [
        "print(model.wv.most_similar(\"거짓말\",topn=5)) #코사인유사도 기반"
      ],
      "execution_count": 18,
      "outputs": [
        {
          "output_type": "stream",
          "text": [
            "[('안다', 0.8880045413970947), ('연락', 0.8822548389434814), ('다짐', 0.8820714950561523), ('나도', 0.8734508752822876), ('약속', 0.8732163906097412)]\n"
          ],
          "name": "stdout"
        }
      ]
    },
    {
      "cell_type": "code",
      "metadata": {
        "id": "izEd2muhR7h1"
      },
      "source": [
        "#유사도가 1에 가까울수록 좋다.\n",
        "\n",
        "#이해하기 힘든 결과가 출력되는 경우는 주제에 맞는 말뭉치 데이터가 부족해서\n",
        "#생길 수 있다. -> 품질 좋은 말뭉치 데이터를 학습하면 임베딩 성능 높아짐"
      ],
      "execution_count": null,
      "outputs": []
    }
  ]
}