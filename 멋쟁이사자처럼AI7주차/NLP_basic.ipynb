{
  "nbformat": 4,
  "nbformat_minor": 0,
  "metadata": {
    "colab": {
      "name": "NLP_basic.ipynb",
      "provenance": [],
      "collapsed_sections": [],
      "toc_visible": true
    },
    "kernelspec": {
      "name": "python3",
      "display_name": "Python 3"
    },
    "language_info": {
      "name": "python"
    }
  },
  "cells": [
    {
      "cell_type": "markdown",
      "metadata": {
        "id": "9uA-A9dQtziP"
      },
      "source": [
        "# **NLP basic**"
      ]
    },
    {
      "cell_type": "code",
      "metadata": {
        "id": "tZkyFBpst1ur"
      },
      "source": [
        "#token -> 가장 작인 단위\n",
        "#token을 만들어 내는 것이 toeknizing\n",
        "\n",
        "#한국어 tokenizing이 많이 어렵다.\n",
        "\n",
        "#대표적인 KoNLPy자연어처리 토크나이징 지원 모듈\n",
        "\n",
        "#형태소 의미를 고려해서 형태소를 분석한다.(품사 표현한 단어oken -> 가장 작인 단위\n",
        "#token을 만들어 내는 것이 toeknizing\n",
        "\n",
        "#한국어 tokenizing이 많이 어렵다.\n",
        "\n",
        "#대표적인 KoNLPy자연어처리 토크나이징 지원 모듈\n",
        "\n",
        "#형태소 의미를 고려해서 형태소를 분석한다.(품사 표현한 단어)\n",
        "\n",
        "#Kkma 라이센스 -> KoNLPy에서 불러서 사용해야한다.\n",
        "#꼬꼬마 한국어 형태소 분석기 사이트 품사 태그표 즐겨찾기 하기!!\n",
        "\n",
        "#반환 형태가 list인지 list의 list인지 잘 봐야한다."
      ],
      "execution_count": 1,
      "outputs": []
    },
    {
      "cell_type": "markdown",
      "metadata": {
        "id": "-4lQbozBmEKw"
      },
      "source": [
        "토큰화사용"
      ]
    },
    {
      "cell_type": "code",
      "metadata": {
        "colab": {
          "base_uri": "https://localhost:8080/"
        },
        "id": "bUFX_rgjmWbU",
        "outputId": "9775fe52-5978-4557-8003-076ec2cf775f"
      },
      "source": [
        "pip install konlpy"
      ],
      "execution_count": 2,
      "outputs": [
        {
          "output_type": "stream",
          "text": [
            "Collecting konlpy\n",
            "\u001b[?25l  Downloading https://files.pythonhosted.org/packages/85/0e/f385566fec837c0b83f216b2da65db9997b35dd675e107752005b7d392b1/konlpy-0.5.2-py2.py3-none-any.whl (19.4MB)\n",
            "\u001b[K     |████████████████████████████████| 19.4MB 1.4MB/s \n",
            "\u001b[?25hCollecting beautifulsoup4==4.6.0\n",
            "\u001b[?25l  Downloading https://files.pythonhosted.org/packages/9e/d4/10f46e5cfac773e22707237bfcd51bbffeaf0a576b0a847ec7ab15bd7ace/beautifulsoup4-4.6.0-py3-none-any.whl (86kB)\n",
            "\u001b[K     |████████████████████████████████| 92kB 8.8MB/s \n",
            "\u001b[?25hCollecting colorama\n",
            "  Downloading https://files.pythonhosted.org/packages/44/98/5b86278fbbf250d239ae0ecb724f8572af1c91f4a11edf4d36a206189440/colorama-0.4.4-py2.py3-none-any.whl\n",
            "Requirement already satisfied: tweepy>=3.7.0 in /usr/local/lib/python3.7/dist-packages (from konlpy) (3.10.0)\n",
            "Requirement already satisfied: numpy>=1.6 in /usr/local/lib/python3.7/dist-packages (from konlpy) (1.19.5)\n",
            "Collecting JPype1>=0.7.0\n",
            "\u001b[?25l  Downloading https://files.pythonhosted.org/packages/cd/a5/9781e2ef4ca92d09912c4794642c1653aea7607f473e156cf4d423a881a1/JPype1-1.2.1-cp37-cp37m-manylinux2010_x86_64.whl (457kB)\n",
            "\u001b[K     |████████████████████████████████| 460kB 42.0MB/s \n",
            "\u001b[?25hRequirement already satisfied: lxml>=4.1.0 in /usr/local/lib/python3.7/dist-packages (from konlpy) (4.2.6)\n",
            "Requirement already satisfied: requests-oauthlib>=0.7.0 in /usr/local/lib/python3.7/dist-packages (from tweepy>=3.7.0->konlpy) (1.3.0)\n",
            "Requirement already satisfied: requests[socks]>=2.11.1 in /usr/local/lib/python3.7/dist-packages (from tweepy>=3.7.0->konlpy) (2.23.0)\n",
            "Requirement already satisfied: six>=1.10.0 in /usr/local/lib/python3.7/dist-packages (from tweepy>=3.7.0->konlpy) (1.15.0)\n",
            "Requirement already satisfied: typing-extensions; python_version < \"3.8\" in /usr/local/lib/python3.7/dist-packages (from JPype1>=0.7.0->konlpy) (3.7.4.3)\n",
            "Requirement already satisfied: oauthlib>=3.0.0 in /usr/local/lib/python3.7/dist-packages (from requests-oauthlib>=0.7.0->tweepy>=3.7.0->konlpy) (3.1.0)\n",
            "Requirement already satisfied: urllib3!=1.25.0,!=1.25.1,<1.26,>=1.21.1 in /usr/local/lib/python3.7/dist-packages (from requests[socks]>=2.11.1->tweepy>=3.7.0->konlpy) (1.24.3)\n",
            "Requirement already satisfied: certifi>=2017.4.17 in /usr/local/lib/python3.7/dist-packages (from requests[socks]>=2.11.1->tweepy>=3.7.0->konlpy) (2020.12.5)\n",
            "Requirement already satisfied: chardet<4,>=3.0.2 in /usr/local/lib/python3.7/dist-packages (from requests[socks]>=2.11.1->tweepy>=3.7.0->konlpy) (3.0.4)\n",
            "Requirement already satisfied: idna<3,>=2.5 in /usr/local/lib/python3.7/dist-packages (from requests[socks]>=2.11.1->tweepy>=3.7.0->konlpy) (2.10)\n",
            "Requirement already satisfied: PySocks!=1.5.7,>=1.5.6; extra == \"socks\" in /usr/local/lib/python3.7/dist-packages (from requests[socks]>=2.11.1->tweepy>=3.7.0->konlpy) (1.7.1)\n",
            "Installing collected packages: beautifulsoup4, colorama, JPype1, konlpy\n",
            "  Found existing installation: beautifulsoup4 4.6.3\n",
            "    Uninstalling beautifulsoup4-4.6.3:\n",
            "      Successfully uninstalled beautifulsoup4-4.6.3\n",
            "Successfully installed JPype1-1.2.1 beautifulsoup4-4.6.0 colorama-0.4.4 konlpy-0.5.2\n"
          ],
          "name": "stdout"
        }
      ]
    },
    {
      "cell_type": "markdown",
      "metadata": {
        "id": "wAthRznlt8hp"
      },
      "source": [
        "**1. Kkma 사용**"
      ]
    },
    {
      "cell_type": "code",
      "metadata": {
        "id": "gFgPLSvjmDUj"
      },
      "source": [
        "from konlpy.tag import Kkma\n",
        "\n",
        "kkma = Kkma()\n"
      ],
      "execution_count": 3,
      "outputs": []
    },
    {
      "cell_type": "code",
      "metadata": {
        "id": "G5XYKkrNmMPP"
      },
      "source": [
        "text=\"코스피 지수가 3200을 돌파하였다.\""
      ],
      "execution_count": 4,
      "outputs": []
    },
    {
      "cell_type": "code",
      "metadata": {
        "colab": {
          "base_uri": "https://localhost:8080/"
        },
        "id": "PcJkxhADmhZD",
        "outputId": "71742a56-b88b-4d69-bece-ecce35dd516e"
      },
      "source": [
        "#형태소 추출 method -> 토큰나이징 하는 함수\n",
        "morphs = kkma.morphs(text)\n",
        "print(morphs)"
      ],
      "execution_count": 5,
      "outputs": [
        {
          "output_type": "stream",
          "text": [
            "['코스', '피', '지수', '가', '3200', '을', '돌파', '하', '였', '다', '.']\n"
          ],
          "name": "stdout"
        }
      ]
    },
    {
      "cell_type": "code",
      "metadata": {
        "colab": {
          "base_uri": "https://localhost:8080/"
        },
        "id": "U0yMgpkmmnI4",
        "outputId": "a2714894-8c34-49c1-a79d-7a92084bca35"
      },
      "source": [
        "#각 형태소마다 품사 추출(tagging)\n",
        "pos = kkma.pos(text)\n",
        "print(pos)"
      ],
      "execution_count": 6,
      "outputs": [
        {
          "output_type": "stream",
          "text": [
            "[('코스', 'NNG'), ('피', 'NNG'), ('지수', 'NNG'), ('가', 'JKS'), ('3200', 'NR'), ('을', 'JKO'), ('돌파', 'NNG'), ('하', 'XSV'), ('였', 'EPT'), ('다', 'EFN'), ('.', 'SF')]\n"
          ],
          "name": "stdout"
        }
      ]
    },
    {
      "cell_type": "code",
      "metadata": {
        "id": "5zQn70bZmuOR"
      },
      "source": [
        "text = \"코스피 지수가 3200을 돌파하였다! 내 계좌가 행복하다.\""
      ],
      "execution_count": 7,
      "outputs": []
    },
    {
      "cell_type": "code",
      "metadata": {
        "colab": {
          "base_uri": "https://localhost:8080/"
        },
        "id": "h2B-un95nE7M",
        "outputId": "b01cf9e7-c8c6-4db7-aeaa-c276325cccc4"
      },
      "source": [
        "#문장 분리 추출(sentences)\n",
        "#첫번째 문장 마무리 기호(!,. 등) 안 넣어주면 안 나뉘넹\n",
        "sent = kkma.sentences(text)\n",
        "print(sent)"
      ],
      "execution_count": 8,
      "outputs": [
        {
          "output_type": "stream",
          "text": [
            "['코스 피 지수가 3200을 돌파하였다!', '내 계좌가 행복하다.']\n"
          ],
          "name": "stdout"
        }
      ]
    },
    {
      "cell_type": "markdown",
      "metadata": {
        "id": "FxyJGkN5uXIP"
      },
      "source": [
        "**2. Komoran**"
      ]
    },
    {
      "cell_type": "code",
      "metadata": {
        "id": "bGpXRkf5nKuz"
      },
      "source": [
        "#Komoran 불러오기\n",
        "\n",
        "#코모란 java 기반 형태소 분석\n",
        "#https://www.shineware.co.kr/products/komoran/#demo?utm_source=komoran-kr&utm_medium=Referral&utm_campaign=github-demo\n",
        "\n",
        "from konlpy.tag import Komoran\n",
        "komoran=Komoran()\n",
        "\n",
        "text = \"최고의 코딩 프로그램 코드라이언.\"\n",
        "\n"
      ],
      "execution_count": 9,
      "outputs": []
    },
    {
      "cell_type": "code",
      "metadata": {
        "colab": {
          "base_uri": "https://localhost:8080/"
        },
        "id": "s89gQfumoiK8",
        "outputId": "f901c9b9-0c46-4a48-cc63-938f0f8dd3bf"
      },
      "source": [
        "sent_=komoran.morphs(text)\n",
        "print(\"morphs() : \",sent_)\n",
        "\n",
        "nouns_ = komoran.nouns(text)\n",
        "print(\"nouns() : \",nouns_)\n",
        "\n",
        "pos_ = komoran.pos(text)\n",
        "print(\"pos() : \",pos_)"
      ],
      "execution_count": 10,
      "outputs": [
        {
          "output_type": "stream",
          "text": [
            "morphs() :  ['최고', '의', '코', '딩', '프로그램', '코드', '라이언', '.']\n",
            "nouns() :  ['최고', '코', '프로그램', '코드', '라이언']\n",
            "pos() :  [('최고', 'NNG'), ('의', 'JKG'), ('코', 'NNG'), ('딩', 'MAG'), ('프로그램', 'NNG'), ('코드', 'NNP'), ('라이언', 'NNP'), ('.', 'SF')]\n"
          ],
          "name": "stdout"
        }
      ]
    },
    {
      "cell_type": "code",
      "metadata": {
        "id": "7n2DkcLpo60s"
      },
      "source": [
        "#코모란은 사전을 추가할 수 있는 기능이 있음\n",
        "from konlpy.tag import Komoran\n",
        "#tsv는 메모장을 만들어서 해도 됨\n",
        "#tsv 파일은 tap을 기반으로 나뉨\n",
        "komoran=Komoran(userdic='/content/user_dic.tsv') #이 tsv파일에서 코드라이언을 하나의 NNG로 보라고 설정\n",
        "\n",
        "text = \"최고의 코딩 프로그램 코드라이언.\""
      ],
      "execution_count": 13,
      "outputs": []
    },
    {
      "cell_type": "code",
      "metadata": {
        "colab": {
          "base_uri": "https://localhost:8080/"
        },
        "id": "zC3a6sGIpvlj",
        "outputId": "185ace7c-baab-4a58-e2e4-f259d373cee1"
      },
      "source": [
        "#코드라이언 등이 붙어서 나온다. -> 노가다라 힘든 것이 있음\n",
        "sent_=komoran.morphs(text)\n",
        "print(\"morphs() : \",sent_)\n",
        "\n",
        "nouns_ = komoran.nouns(text)\n",
        "print(\"nouns() : \",nouns_)\n",
        "\n",
        "pos_ = komoran.pos(text)\n",
        "print(\"pos() : \",pos_)\n",
        "#'코드라이언'을 하나의 NNG로 보고 있다."
      ],
      "execution_count": 14,
      "outputs": [
        {
          "output_type": "stream",
          "text": [
            "morphs() :  ['최고', '의', '코딩', '프로그램', '코드라이언', '.']\n",
            "nouns() :  ['최고', '코딩', '프로그램', '코드라이언']\n",
            "pos() :  [('최고', 'NNG'), ('의', 'JKG'), ('코딩', 'NNG'), ('프로그램', 'NNG'), ('코드라이언', 'NNG'), ('.', 'SF')]\n"
          ],
          "name": "stdout"
        }
      ]
    },
    {
      "cell_type": "markdown",
      "metadata": {
        "id": "yb0txmnlu4pf"
      },
      "source": [
        "**3. Okt**"
      ]
    },
    {
      "cell_type": "code",
      "metadata": {
        "id": "cfpy9bGgpxLR"
      },
      "source": [
        "#구어체를 받으면 많은 변수가 있는데 -> normalize으로 처리한다.\n",
        "#기능이 그렇게 좋지는 않다.\n",
        "\n",
        "#phrases -> 어구를 추출\n",
        "#Okt는 속도가 빠르고 normalize로 일정단위로 전처리가 가능하다.\n",
        "#-> 단어 추가 기능이 없다.\n",
        "\n",
        "#사전을 추가하고 싶다면 하드코딩하는 method 2개 붙여주는 함수를 만들어 준다.\n"
      ],
      "execution_count": 15,
      "outputs": []
    },
    {
      "cell_type": "code",
      "metadata": {
        "id": "zPgF_Rqqrg4O"
      },
      "source": [
        "from konlpy.tag import Okt\n",
        "okt = Okt()"
      ],
      "execution_count": 16,
      "outputs": []
    },
    {
      "cell_type": "code",
      "metadata": {
        "colab": {
          "base_uri": "https://localhost:8080/"
        },
        "id": "8JHOiiPWrmNf",
        "outputId": "1be6b9b0-8952-4ff5-c5b1-9cc98e6932e3"
      },
      "source": [
        "text = \"게임 한판 할랙? ㅋㅋㅋㅋ. 사랑햌ㅋㅋㅋ, 뭐햄ㅋ\"\n",
        "morphs=okt.morphs(text)\n",
        "print(\"morphs() : \", morphs)\n",
        "\n",
        "normalize = okt.normalize(text)\n",
        "print(\"normalize () : \",normalize)"
      ],
      "execution_count": 17,
      "outputs": [
        {
          "output_type": "stream",
          "text": [
            "morphs() :  ['게임', '한판', '할랙', '?', 'ㅋㅋㅋㅋ', '.', '사랑', '햌', 'ㅋㅋㅋ', ',', '뭐햄', 'ㅋ']\n",
            "normalize () :  게임 한판 할랙? ㅋㅋㅋ. 사랑해ㅋㅋㅋ, 뭐햄ㅋ\n"
          ],
          "name": "stdout"
        }
      ]
    },
    {
      "cell_type": "markdown",
      "metadata": {
        "id": "_fysboadvGpB"
      },
      "source": [
        "**4. 챗봇에서도 위와같이 Komoran을 이용해 형태소 분석하는 경우가 많다.**"
      ]
    },
    {
      "cell_type": "markdown",
      "metadata": {
        "id": "--QBV8wOvaBx"
      },
      "source": [
        "**5. 임베딩**"
      ]
    },
    {
      "cell_type": "code",
      "metadata": {
        "colab": {
          "base_uri": "https://localhost:8080/"
        },
        "id": "hU0Pu0nUuY0n",
        "outputId": "ef50bb87-b330-4160-d24a-5de54545a33f"
      },
      "source": [
        "from konlpy.tag import Komoran\n",
        "import numpy as np\n",
        "komoran = Komoran(userdic='/content/user_dic.tsv')\n",
        "text = \"코드라이언 채널 좋아요 구독 알림설정까지\"\n",
        "\n",
        "#위의 text에서 명사만 추출\n",
        "nouns = komoran.nouns(text)\n",
        "print(nouns)\n",
        "\n",
        "#단어 사전 구축 및 단어별 인덱스 부여\n",
        "#단어별로 인덱스를 부여해 dictionary의 key와 value에 저장\n",
        "#이미 저정한 것은 다시 사전에 저장 X\n",
        "dics={}\n",
        "for word in nouns:\n",
        "  if word not in dics.keys():\n",
        "    dics[word]=len(dics)\n",
        "print(dics)"
      ],
      "execution_count": 18,
      "outputs": [
        {
          "output_type": "stream",
          "text": [
            "['코드라이언', '채널', '구독', '설정']\n",
            "{'코드라이언': 0, '채널': 1, '구독': 2, '설정': 3}\n"
          ],
          "name": "stdout"
        }
      ]
    },
    {
      "cell_type": "code",
      "metadata": {
        "colab": {
          "base_uri": "https://localhost:8080/"
        },
        "id": "wDMZumfawLt4",
        "outputId": "f7dba404-9199-4242-993b-67a26186e3e5"
      },
      "source": [
        "#원-핫 인코딩\n",
        "#dictionary type을 list 형태로 변환\n",
        "nb_classes = len(dics)\n",
        "targets = list(dics.values())\n",
        "#np.eye() 함수를 통해 단위행렬을 만들어준다.\n",
        "one_hot_targets = np.eye(nb_classes)[targets]\n",
        "print(one_hot_targets)"
      ],
      "execution_count": 19,
      "outputs": [
        {
          "output_type": "stream",
          "text": [
            "[[1. 0. 0. 0.]\n",
            " [0. 1. 0. 0.]\n",
            " [0. 0. 1. 0.]\n",
            " [0. 0. 0. 1.]]\n"
          ],
          "name": "stdout"
        }
      ]
    },
    {
      "cell_type": "code",
      "metadata": {
        "id": "9S6Ta_JtwveO"
      },
      "source": [
        ""
      ],
      "execution_count": null,
      "outputs": []
    }
  ]
}