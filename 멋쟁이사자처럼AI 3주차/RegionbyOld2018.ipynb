{
  "nbformat": 4,
  "nbformat_minor": 0,
  "metadata": {
    "colab": {
      "name": "RegionbyOld2018.ipynb",
      "provenance": [],
      "collapsed_sections": []
    },
    "kernelspec": {
      "name": "python3",
      "display_name": "Python 3"
    },
    "language_info": {
      "name": "python"
    }
  },
  "cells": [
    {
      "cell_type": "code",
      "metadata": {
        "id": "N-QMAxhZ1bRB"
      },
      "source": [
        ""
      ],
      "execution_count": null,
      "outputs": []
    },
    {
      "cell_type": "markdown",
      "metadata": {
        "id": "v-vUxLmL1wsY"
      },
      "source": [
        "# 2018년 우리나라의 지역별 인구 증가율과 고령 인구비율 사이의 경향성을 선형회귀로 예측"
      ]
    },
    {
      "cell_type": "code",
      "metadata": {
        "id": "dEYH4MPV14la"
      },
      "source": [
        "import numpy as np\n",
        "import matplotlib.pyplot  as plt\n",
        "X = [0.3, -0.78, 1.26, 0.03, 1.11, 15.17, 0.24, -0.24,\n",
        "-0.47, -0.77, -0.37, -0.85, -0.41, -0.27, 0.02, -0.76, 2.66]\n",
        "Y = [12.27, 14.44, 11.87, 18.75, 17.52, 9.29,\n",
        "16.37, 19.78, 19.51, 12.65, 14.74, 10.72, 21.94, 12.83, 15.51, 17.14, 14.42]"
      ],
      "execution_count": 5,
      "outputs": []
    },
    {
      "cell_type": "code",
      "metadata": {
        "colab": {
          "base_uri": "https://localhost:8080/",
          "height": 297
        },
        "id": "pHdvQNhL15Bk",
        "outputId": "ba76a251-b3e5-4587-a6bc-23755b1cff7f"
      },
      "source": [
        "#X와 Y의 평균을 구하는 과정\n",
        "x_bar=sum(X)/len(X)\n",
        "y_bar=sum(Y)/len(Y)\n",
        "\n",
        "#a와 b를 구하는 과정 -> 최소제곱법\n",
        "a = sum([(y-y_bar)*(x-x_bar) for y,x in list(zip(Y,X))])\n",
        "a/=sum([(x-x_bar)**2 for x in X])\n",
        "b = y_bar - a*x_bar\n",
        "print(\"a : \",a,\"b : \",b)\n",
        "\n",
        "# 그래프를 그리기 위한 회귀선의 x, y 데이터 추출 과정\n",
        "line_x = np.arange(min(X), max(X), 0.01)\n",
        "line_y = a*line_x+b\n",
        "\n",
        "# 붉은색 실선으로 회귀선 그리기\n",
        "plt.plot(line_x, line_y, 'r--')\n",
        "\n",
        "# 기존 데이터를 점으로 표시\n",
        "plt.plot(X,Y,'bo')\n",
        "plt.xlabel(\"Population Growth Rate (%)\")\n",
        "plt.ylabel(\"Elderly Population Rate (%)\")\n",
        "plt.show()"
      ],
      "execution_count": 6,
      "outputs": [
        {
          "output_type": "stream",
          "text": [
            "a :  -0.41696972205601757 b :  15.668665264060529\n"
          ],
          "name": "stdout"
        },
        {
          "output_type": "display_data",
          "data": {
            "image/png": "[encoded data removed]",
            "text/plain": [
              "<Figure size 432x288 with 1 Axes>"
            ]
          },
          "metadata": {
            "tags": [],
            "needs_background": "light"
          }
        }
      ]
    },
    {
      "cell_type": "code",
      "metadata": {
        "colab": {
          "base_uri": "https://localhost:8080/",
          "height": 492
        },
        "id": "o1L7jVVo1_d5",
        "outputId": "0eea2fc1-8b61-4399-b214-ecbca0eec249"
      },
      "source": [
        "import tensorflow as tf\n",
        "import numpy as np \n",
        "import matplotlib.pyplot as plt\n",
        "import random\n",
        "\n",
        "X = [0.3, -0.78, 1.26, 0.03, 1.11, 15.17, 0.24, -0.24,\n",
        "-0.47, -0.77, -0.37, -0.85, -0.41, -0.27, 0.02, -0.76, 2.66]\n",
        "Y = [12.27, 14.44, 11.87, 18.75, 17.52, 9.29,\n",
        "16.37, 19.78, 19.51, 12.65, 14.74, 10.72, 21.94, 12.83, 15.51, 17.14, 14.42]\n",
        "\n",
        "#하나의 변수를 만들 때 나온다.\n",
        "a=tf.Variable(random.random())\n",
        "b=tf.Variable(random.random())\n",
        "print(\"초기 a값: \",a.numpy())\n",
        "print(\"초기 b값: \",b.numpy()) #편향값\n",
        "\n",
        "#잔차의 제곱의 평균을 구하는 과정\n",
        "def compute_loss():\n",
        "  y_pred = a*X+b\n",
        "  loss = tf.reduce_mean((Y-y_pred)**2)\n",
        "  return loss\n",
        "\n",
        "# 옵티마이저 단계\n",
        "optimizer=tf.keras.optimizers.Adam(lr=0.07)\n",
        "\n",
        "# 학습 단계\n",
        "for i in range(1000):\n",
        "  # 잔차의 제곱의 평균을 최소화 시켜주기 위한 과정\n",
        "  optimizer.minimize(compute_loss, var_list=[a,b])\n",
        "\n",
        "  if i%100 == 99:\n",
        "    print(i, \"a : \", a.numpy(), \"b : \",b.numpy(), \"loss:\", compute_loss().numpy())\n",
        "\n",
        "line_x=np.arange(min(X),max(X),0.01)\n",
        "line_y=a*line_x+b\n",
        "\n",
        "plt.plot(line_x,line_y,'r--')\n",
        "\n",
        "plt.plot(X,Y,'bo')\n",
        "plt.xlabel(\"Population Growth Rate (%)\")\n",
        "plt.ylabel(\"Elderly Growth Rate (%)\")\n",
        "plt.show()"
      ],
      "execution_count": 8,
      "outputs": [
        {
          "output_type": "stream",
          "text": [
            "초기 a값:  0.48462775\n",
            "초기 b값:  0.6391204\n",
            "99 a :  0.14926279 b :  7.003661 loss: 79.71949\n",
            "199 a :  -0.14039183 b :  11.432849 loss: 26.058275\n",
            "299 a :  -0.30528703 b :  13.958202 loss: 11.95609\n",
            "399 a :  -0.3802457 b :  15.10622 loss: 9.505618\n",
            "499 a :  -0.40718475 b :  15.518803 loss: 9.229627\n",
            "599 a :  -0.41486734 b :  15.636466 loss: 9.20951\n",
            "699 a :  -0.41660875 b :  15.6631365 loss: 9.208563\n",
            "799 a :  -0.41692108 b :  15.667919 loss: 9.208537\n",
            "899 a :  -0.41696468 b :  15.668587 loss: 9.208534\n",
            "999 a :  -0.41696864 b :  15.66865 loss: 9.208535\n"
          ],
          "name": "stdout"
        },
        {
          "output_type": "display_data",
          "data": {
            "image/png": "[encoded data removed]",
            "text/plain": [
              "<Figure size 432x288 with 1 Axes>"
            ]
          },
          "metadata": {
            "tags": [],
            "needs_background": "light"
          }
        }
      ]
    },
    {
      "cell_type": "markdown",
      "metadata": {
        "id": "eL_1_WKH4Ra8"
      },
      "source": [
        "데이터 경향성을 좀 더 파악해보자!"
      ]
    },
    {
      "cell_type": "code",
      "metadata": {
        "colab": {
          "base_uri": "https://localhost:8080/",
          "height": 528
        },
        "id": "WD0gPnT12mOv",
        "outputId": "1620fbab-676b-40fe-e205-df6460cbf3a3"
      },
      "source": [
        "import tensorflow as tf\n",
        "import numpy as np \n",
        "import matplotlib.pyplot as plt\n",
        "import random\n",
        "\n",
        "X = [0.3, -0.78, 1.26, 0.03, 1.11, 15.17, 0.24, -0.24,\n",
        "-0.47, -0.77, -0.37, -0.85, -0.41, -0.27, 0.02, -0.76, 2.66]\n",
        "Y = [12.27, 14.44, 11.87, 18.75, 17.52, 9.29,\n",
        "16.37, 19.78, 19.51, 12.65, 14.74, 10.72, 21.94, 12.83, 15.51, 17.14, 14.42]\n",
        "\n",
        "#하나의 변수를 만들 때 나온다.\n",
        "a=tf.Variable(random.random())\n",
        "b=tf.Variable(random.random())\n",
        "c=tf.Variable(random.random())\n",
        "d=tf.Variable(random.random())\n",
        "print(\"초기 a값: \",a.numpy())\n",
        "print(\"초기 b값: \",b.numpy()) #편향값\n",
        "print(\"초기 c값: \",c.numpy())\n",
        "print(\"초기 c값: \",d.numpy())\n",
        "#잔차의 제곱의 평균을 구하는 과정\n",
        "def compute_loss():\n",
        "  y_pred = a*X*X*X+b*X*X+c*X+d\n",
        "  loss = tf.reduce_mean((Y-y_pred)**2)\n",
        "  return loss\n",
        "\n",
        "# 옵티마이저 단계\n",
        "optimizer=tf.keras.optimizers.Adam(lr=0.07)\n",
        "\n",
        "# 학습 단계\n",
        "for i in range(1000):\n",
        "  # 잔차ㅢ 제곱의 평균을 최소화 시켜주기 위한 과정\n",
        "  optimizer.minimize(compute_loss, var_list=[a,b,c,d])\n",
        "\n",
        "  if i%100 == 99:\n",
        "    print(i, \"a : \", a.numpy(), \"b : \",b.numpy(), \"c:\",c.numpy(),\"d:\",d.numpy(), \"loss:\", compute_loss().numpy())\n",
        "\n",
        "line_x=np.arange(min(X),max(X),0.01)\n",
        "line_y=a*line_x*line_x*line_x+b*line_x*line_x+c*line_x+d\n",
        "\n",
        "plt.plot(line_x,line_y,'r--')\n",
        "\n",
        "plt.plot(X,Y,'bo')\n",
        "plt.xlabel(\"Population Growth Rate (%)\")\n",
        "plt.ylabel(\"Elderly Growth Rate (%)\")\n",
        "plt.show()"
      ],
      "execution_count": 9,
      "outputs": [
        {
          "output_type": "stream",
          "text": [
            "초기 a값:  0.66003644\n",
            "초기 b값:  0.16126521\n",
            "초기 c값:  0.81699365\n",
            "초기 c값:  0.12759617\n",
            "99 a :  0.034220573 b :  -0.4572311 c: 0.1969927 d: 1.7528849 loss: 204.89151\n",
            "199 a :  0.030054528 b :  -0.44991672 c: 0.20181337 d: 4.9968925 loss: 122.37997\n",
            "299 a :  0.028487898 b :  -0.44014817 c: 0.20884675 d: 8.060871 loss: 67.78839\n",
            "399 a :  0.027184159 b :  -0.4319357 c: 0.21435797 d: 10.6054735 loss: 35.938984\n",
            "499 a :  0.026203599 b :  -0.4258156 c: 0.21792637 d: 12.541355 loss: 19.9076\n",
            "599 a :  0.02553339 b :  -0.4217614 c: 0.21960793 d: 13.905276 loss: 12.8668585\n",
            "699 a :  0.025121532 b :  -0.4194503 c: 0.21971105 d: 14.798429 loss: 10.161191\n",
            "799 a :  0.024902789 b :  -0.41845647 c: 0.21863128 d: 15.342906 loss: 9.250867\n",
            "899 a :  0.024815993 b :  -0.41837597 c: 0.21674544 d: 15.652194 loss: 8.982582\n",
            "999 a :  0.024812566 b :  -0.4188872 c: 0.21435955 d: 15.816027 loss: 8.913048\n"
          ],
          "name": "stdout"
        },
        {
          "output_type": "display_data",
          "data": {
            "image/png": "[encoded data removed]",
            "text/plain": [
              "<Figure size 432x288 with 1 Axes>"
            ]
          },
          "metadata": {
            "tags": [],
            "needs_background": "light"
          }
        }
      ]
    },
    {
      "cell_type": "markdown",
      "metadata": {
        "id": "ixqGTbVN5mKN"
      },
      "source": [
        "적절한 회귀식이라고 말하기는 어렵다. -> 최적의 회귀식을 찾도록 노력해야한다."
      ]
    },
    {
      "cell_type": "markdown",
      "metadata": {
        "id": "5L8qpby-68W0"
      },
      "source": [
        "앞에서 AND, OR, XOR 연산에서 사용한 네트워크처럼 사용"
      ]
    },
    {
      "cell_type": "code",
      "metadata": {
        "colab": {
          "base_uri": "https://localhost:8080/"
        },
        "id": "g8PIPCUz53RL",
        "outputId": "5d47c6ce-2fb7-4456-bb69-9f8c150ce733"
      },
      "source": [
        "import tensorflow as tf\n",
        "import numpy as np \n",
        "import matplotlib.pyplot as plt\n",
        "import random\n",
        "\n",
        "X = [0.3, -0.78, 1.26, 0.03, 1.11, 15.17, 0.24, -0.24,\n",
        "-0.47, -0.77, -0.37, -0.85, -0.41, -0.27, 0.02, -0.76, 2.66]\n",
        "Y = [12.27, 14.44, 11.87, 18.75, 17.52, 9.29,\n",
        "16.37, 19.78, 19.51, 12.65, 14.74, 10.72, 21.94, 12.83, 15.51, 17.14, 14.42]\n",
        "\n",
        "#tanh -> -1~1사이\n",
        "model = tf.keras.Sequential([\n",
        "                             tf.keras.layers.Dense(units=6, activation='tanh',input_shape=(1,)),\n",
        "                             tf.keras.layers.Dense(units=1)\n",
        "                             ])\n",
        "model.compile(optimizer=tf.keras.optimizers.SGD(lr=0.1), loss='mse')\n",
        "\n",
        "model.summary()"
      ],
      "execution_count": 10,
      "outputs": [
        {
          "output_type": "stream",
          "text": [
            "Model: \"sequential\"\n",
            "_________________________________________________________________\n",
            "Layer (type)                 Output Shape              Param #   \n",
            "=================================================================\n",
            "dense (Dense)                (None, 6)                 12        \n",
            "_________________________________________________________________\n",
            "dense_1 (Dense)              (None, 1)                 7         \n",
            "=================================================================\n",
            "Total params: 19\n",
            "Trainable params: 19\n",
            "Non-trainable params: 0\n",
            "_________________________________________________________________\n"
          ],
          "name": "stdout"
        }
      ]
    },
    {
      "cell_type": "code",
      "metadata": {
        "colab": {
          "base_uri": "https://localhost:8080/"
        },
        "id": "S0jQ5-7D75HQ",
        "outputId": "ebd384dc-8c1b-43a3-f284-faa69aee78d9"
      },
      "source": [
        "model.fit(X,Y,epochs=10)"
      ],
      "execution_count": 11,
      "outputs": [
        {
          "output_type": "stream",
          "text": [
            "Epoch 1/10\n",
            "1/1 [==============================] - 0s 384ms/step - loss: 244.6797\n",
            "Epoch 2/10\n",
            "1/1 [==============================] - 0s 5ms/step - loss: 108.9416\n",
            "Epoch 3/10\n",
            "1/1 [==============================] - 0s 5ms/step - loss: 10.5868\n",
            "Epoch 4/10\n",
            "1/1 [==============================] - 0s 8ms/step - loss: 9.1954\n",
            "Epoch 5/10\n",
            "1/1 [==============================] - 0s 4ms/step - loss: 8.6540\n",
            "Epoch 6/10\n",
            "1/1 [==============================] - 0s 4ms/step - loss: 8.6171\n",
            "Epoch 7/10\n",
            "1/1 [==============================] - 0s 4ms/step - loss: 8.6082\n",
            "Epoch 8/10\n",
            "1/1 [==============================] - 0s 4ms/step - loss: 8.5389\n",
            "Epoch 9/10\n",
            "1/1 [==============================] - 0s 5ms/step - loss: 8.4648\n",
            "Epoch 10/10\n",
            "1/1 [==============================] - 0s 4ms/step - loss: 8.4276\n"
          ],
          "name": "stdout"
        },
        {
          "output_type": "execute_result",
          "data": {
            "text/plain": [
              "<tensorflow.python.keras.callbacks.History at 0x7fb15544f350>"
            ]
          },
          "metadata": {
            "tags": []
          },
          "execution_count": 11
        }
      ]
    },
    {
      "cell_type": "code",
      "metadata": {
        "colab": {
          "base_uri": "https://localhost:8080/"
        },
        "id": "V1w1Np8m81pL",
        "outputId": "ddbb8561-379a-4bb9-f6f5-eb668687e1f9"
      },
      "source": [
        "model.predict(X)\n",
        "#데이터가 적고, 모델 견고 X\n",
        "#거의 15부근으로 값을 출력"
      ],
      "execution_count": 12,
      "outputs": [
        {
          "output_type": "execute_result",
          "data": {
            "text/plain": [
              "array([[16.167397 ],\n",
              "       [15.203353 ],\n",
              "       [15.0073   ],\n",
              "       [16.238052 ],\n",
              "       [15.205605 ],\n",
              "       [ 9.12589  ],\n",
              "       [16.198479 ],\n",
              "       [16.11736  ],\n",
              "       [15.8462305],\n",
              "       [15.22938  ],\n",
              "       [15.9843445],\n",
              "       [15.011194 ],\n",
              "       [15.93294  ],\n",
              "       [16.091183 ],\n",
              "       [16.237125 ],\n",
              "       [15.25505  ],\n",
              "       [13.955223 ]], dtype=float32)"
            ]
          },
          "metadata": {
            "tags": []
          },
          "execution_count": 12
        }
      ]
    },
    {
      "cell_type": "code",
      "metadata": {
        "colab": {
          "base_uri": "https://localhost:8080/",
          "height": 279
        },
        "id": "YIrrrxhM8342",
        "outputId": "fc1e2ecf-55f9-45f1-b067-8e3ba02fe614"
      },
      "source": [
        "#2차 함수와 비슷한 곡선이 나옴\n",
        "line_x=np.arange(min(X),max(X),0.01)\n",
        "line_y=model.predict(line_x)\n",
        "\n",
        "plt.plot(line_x,line_y,'r--')\n",
        "\n",
        "plt.plot(X,Y,'bo')\n",
        "plt.xlabel(\"Population Growth Rate (%)\")\n",
        "plt.ylabel(\"Elderly Growth Rate (%)\")\n",
        "plt.show()"
      ],
      "execution_count": 13,
      "outputs": [
        {
          "output_type": "display_data",
          "data": {
            "image/png": "[encoded data removed]",
            "text/plain": [
              "<Figure size 432x288 with 1 Axes>"
            ]
          },
          "metadata": {
            "tags": [],
            "needs_background": "light"
          }
        }
      ]
    },
    {
      "cell_type": "code",
      "metadata": {
        "id": "evj5EM5p87Q3"
      },
      "source": [
        ""
      ],
      "execution_count": null,
      "outputs": []
    }
  ]
}