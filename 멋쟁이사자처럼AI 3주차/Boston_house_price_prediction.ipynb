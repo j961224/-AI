{
  "nbformat": 4,
  "nbformat_minor": 0,
  "metadata": {
    "colab": {
      "name": "Boston_house_price_prediction.ipynb",
      "provenance": [],
      "collapsed_sections": []
    },
    "kernelspec": {
      "name": "python3",
      "display_name": "Python 3"
    },
    "language_info": {
      "name": "python"
    }
  },
  "cells": [
    {
      "cell_type": "markdown",
      "metadata": {
        "id": "szOGQskz9wXS"
      },
      "source": [
        "# 회귀를 통한 보스턴 주택 가격 예측"
      ]
    },
    {
      "cell_type": "code",
      "metadata": {
        "colab": {
          "base_uri": "https://localhost:8080/"
        },
        "id": "ja_mU5l890TZ",
        "outputId": "66b780f2-ffb5-49d5-ddcf-c05824c8f32a"
      },
      "source": [
        "import tensorflow as tf\n",
        "from tensorflow.keras.datasets import boston_housing\n",
        "(train_X, train_Y), (test_X,test_Y) = boston_housing.load_data()\n",
        "\n",
        "print(len(train_X), len(test_X))\n",
        "print(train_X[0])"
      ],
      "execution_count": 11,
      "outputs": [
        {
          "output_type": "stream",
          "text": [
            "404 102\n",
            "[  1.23247   0.        8.14      0.        0.538     6.142    91.7\n",
            "   3.9769    4.      307.       21.      396.9      18.72   ]\n"
          ],
          "name": "stdout"
        }
      ]
    },
    {
      "cell_type": "markdown",
      "metadata": {
        "id": "EzeVI-lR-Pap"
      },
      "source": [
        "이 데이터 속성들은 다 단위가 다르다.\n",
        "\n",
        "이와 같은 경우는 전처리에서 Standardization해야 학습 효율이 좋다."
      ]
    },
    {
      "cell_type": "code",
      "metadata": {
        "colab": {
          "base_uri": "https://localhost:8080/"
        },
        "id": "q0SHuWxc-Gwp",
        "outputId": "9b3b3072-6cdf-4fa8-e548-3a40f1276bbf"
      },
      "source": [
        "#데이터 전처리(정규화)\n",
        "\n",
        "x_mean = train_X.mean(axis=0)\n",
        "x_std = train_X.std(axis=0)\n",
        "\n",
        "train_X-=x_mean\n",
        "train_X/=x_std\n",
        "test_X-=x_mean\n",
        "test_X/=x_std\n",
        "\n",
        "y_mean=train_Y.mean(axis=0)\n",
        "y_std=train_Y.std(axis=0)\n",
        "train_Y-=y_mean\n",
        "train_Y/=y_std\n",
        "test_Y-=y_mean\n",
        "test_Y/=y_std\n",
        "\n",
        "print(train_X[0])\n",
        "print(train_Y[0])"
      ],
      "execution_count": 12,
      "outputs": [
        {
          "output_type": "stream",
          "text": [
            "[-0.27224633 -0.48361547 -0.43576161 -0.25683275 -0.1652266  -0.1764426\n",
            "  0.81306188  0.1166983  -0.62624905 -0.59517003  1.14850044  0.44807713\n",
            "  0.8252202 ]\n",
            "-0.7821526033779157\n"
          ],
          "name": "stdout"
        }
      ]
    },
    {
      "cell_type": "code",
      "metadata": {
        "colab": {
          "base_uri": "https://localhost:8080/"
        },
        "id": "F5gFUaU--fHD",
        "outputId": "eda7ffd4-9962-4264-ca05-7e757b9624f9"
      },
      "source": [
        "# 회귀 모델 만들기[신경망]\n",
        "\n",
        "#unit값을 정할 때, 처음에는 많은 units값이 좋음 -> 신경망층 깊어질수록 조금씩 줄이기\n",
        "model=tf.keras.Sequential([\n",
        "                     tf.keras.layers.Dense(units=52, activation='relu',input_shape=(13, )),\n",
        "                     tf.keras.layers.Dense(units=39, activation='relu'),\n",
        "                     tf.keras.layers.Dense(units=26, activation='relu'),\n",
        "                     tf.keras.layers.Dense(units=1)\n",
        "])\n",
        "\n",
        "model.compile(optimizer = tf.keras.optimizers.Adam(lr=0.07), loss='mse')\n",
        "\n",
        "model.summary()"
      ],
      "execution_count": 13,
      "outputs": [
        {
          "output_type": "stream",
          "text": [
            "Model: \"sequential_2\"\n",
            "_________________________________________________________________\n",
            "Layer (type)                 Output Shape              Param #   \n",
            "=================================================================\n",
            "dense_10 (Dense)             (None, 52)                728       \n",
            "_________________________________________________________________\n",
            "dense_11 (Dense)             (None, 39)                2067      \n",
            "_________________________________________________________________\n",
            "dense_12 (Dense)             (None, 26)                1040      \n",
            "_________________________________________________________________\n",
            "dense_13 (Dense)             (None, 1)                 27        \n",
            "=================================================================\n",
            "Total params: 3,862\n",
            "Trainable params: 3,862\n",
            "Non-trainable params: 0\n",
            "_________________________________________________________________\n"
          ],
          "name": "stdout"
        }
      ]
    },
    {
      "cell_type": "code",
      "metadata": {
        "colab": {
          "base_uri": "https://localhost:8080/"
        },
        "id": "Whyto0Nd-7Ir",
        "outputId": "95ceaae6-03b4-43e9-d097-cde20dd458ca"
      },
      "source": [
        "#val_loss: 검증 데이터를 활용한 loss값\n",
        "history=model.fit(train_X, train_Y, epochs=100, batch_size=32, validation_split=0.25)"
      ],
      "execution_count": 14,
      "outputs": [
        {
          "output_type": "stream",
          "text": [
            "Epoch 1/100\n",
            "10/10 [==============================] - 1s 18ms/step - loss: 3.9866 - val_loss: 1.1202\n",
            "Epoch 2/100\n",
            "10/10 [==============================] - 0s 5ms/step - loss: 0.6633 - val_loss: 1.0136\n",
            "Epoch 3/100\n",
            "10/10 [==============================] - 0s 5ms/step - loss: 0.5437 - val_loss: 0.6047\n",
            "Epoch 4/100\n",
            "10/10 [==============================] - 0s 6ms/step - loss: 0.2444 - val_loss: 0.4482\n",
            "Epoch 5/100\n",
            "10/10 [==============================] - 0s 5ms/step - loss: 0.2834 - val_loss: 0.3746\n",
            "Epoch 6/100\n",
            "10/10 [==============================] - 0s 6ms/step - loss: 0.2454 - val_loss: 0.4491\n",
            "Epoch 7/100\n",
            "10/10 [==============================] - 0s 6ms/step - loss: 0.2274 - val_loss: 0.2737\n",
            "Epoch 8/100\n",
            "10/10 [==============================] - 0s 6ms/step - loss: 0.1545 - val_loss: 0.3032\n",
            "Epoch 9/100\n",
            "10/10 [==============================] - 0s 5ms/step - loss: 0.1542 - val_loss: 0.3041\n",
            "Epoch 10/100\n",
            "10/10 [==============================] - 0s 5ms/step - loss: 0.1373 - val_loss: 0.3127\n",
            "Epoch 11/100\n",
            "10/10 [==============================] - 0s 6ms/step - loss: 0.1746 - val_loss: 0.2003\n",
            "Epoch 12/100\n",
            "10/10 [==============================] - 0s 6ms/step - loss: 0.1535 - val_loss: 0.2637\n",
            "Epoch 13/100\n",
            "10/10 [==============================] - 0s 6ms/step - loss: 0.1452 - val_loss: 0.1976\n",
            "Epoch 14/100\n",
            "10/10 [==============================] - 0s 5ms/step - loss: 0.1676 - val_loss: 0.3068\n",
            "Epoch 15/100\n",
            "10/10 [==============================] - 0s 6ms/step - loss: 0.1314 - val_loss: 0.2458\n",
            "Epoch 16/100\n",
            "10/10 [==============================] - 0s 6ms/step - loss: 0.2064 - val_loss: 0.2114\n",
            "Epoch 17/100\n",
            "10/10 [==============================] - 0s 7ms/step - loss: 0.1309 - val_loss: 0.2246\n",
            "Epoch 18/100\n",
            "10/10 [==============================] - 0s 6ms/step - loss: 0.1211 - val_loss: 0.1660\n",
            "Epoch 19/100\n",
            "10/10 [==============================] - 0s 6ms/step - loss: 0.0970 - val_loss: 0.1526\n",
            "Epoch 20/100\n",
            "10/10 [==============================] - 0s 5ms/step - loss: 0.0678 - val_loss: 0.1706\n",
            "Epoch 21/100\n",
            "10/10 [==============================] - 0s 5ms/step - loss: 0.0831 - val_loss: 0.1384\n",
            "Epoch 22/100\n",
            "10/10 [==============================] - 0s 6ms/step - loss: 0.0919 - val_loss: 0.1602\n",
            "Epoch 23/100\n",
            "10/10 [==============================] - 0s 6ms/step - loss: 0.0951 - val_loss: 0.1890\n",
            "Epoch 24/100\n",
            "10/10 [==============================] - 0s 5ms/step - loss: 0.0959 - val_loss: 0.1439\n",
            "Epoch 25/100\n",
            "10/10 [==============================] - 0s 6ms/step - loss: 0.0864 - val_loss: 0.1294\n",
            "Epoch 26/100\n",
            "10/10 [==============================] - 0s 6ms/step - loss: 0.0950 - val_loss: 0.1276\n",
            "Epoch 27/100\n",
            "10/10 [==============================] - 0s 5ms/step - loss: 0.0807 - val_loss: 0.1459\n",
            "Epoch 28/100\n",
            "10/10 [==============================] - 0s 5ms/step - loss: 0.0935 - val_loss: 0.1500\n",
            "Epoch 29/100\n",
            "10/10 [==============================] - 0s 6ms/step - loss: 0.0722 - val_loss: 0.1543\n",
            "Epoch 30/100\n",
            "10/10 [==============================] - 0s 6ms/step - loss: 0.0975 - val_loss: 0.1772\n",
            "Epoch 31/100\n",
            "10/10 [==============================] - 0s 5ms/step - loss: 0.0916 - val_loss: 0.2589\n",
            "Epoch 32/100\n",
            "10/10 [==============================] - 0s 6ms/step - loss: 0.1677 - val_loss: 0.2241\n",
            "Epoch 33/100\n",
            "10/10 [==============================] - 0s 6ms/step - loss: 0.1243 - val_loss: 0.1846\n",
            "Epoch 34/100\n",
            "10/10 [==============================] - 0s 5ms/step - loss: 0.0874 - val_loss: 0.1324\n",
            "Epoch 35/100\n",
            "10/10 [==============================] - 0s 5ms/step - loss: 0.0573 - val_loss: 0.1602\n",
            "Epoch 36/100\n",
            "10/10 [==============================] - 0s 6ms/step - loss: 0.0688 - val_loss: 0.1527\n",
            "Epoch 37/100\n",
            "10/10 [==============================] - 0s 6ms/step - loss: 0.0617 - val_loss: 0.1525\n",
            "Epoch 38/100\n",
            "10/10 [==============================] - 0s 6ms/step - loss: 0.0599 - val_loss: 0.1423\n",
            "Epoch 39/100\n",
            "10/10 [==============================] - 0s 6ms/step - loss: 0.0529 - val_loss: 0.1492\n",
            "Epoch 40/100\n",
            "10/10 [==============================] - 0s 6ms/step - loss: 0.0581 - val_loss: 0.1380\n",
            "Epoch 41/100\n",
            "10/10 [==============================] - 0s 5ms/step - loss: 0.0631 - val_loss: 0.1214\n",
            "Epoch 42/100\n",
            "10/10 [==============================] - 0s 5ms/step - loss: 0.0888 - val_loss: 0.2082\n",
            "Epoch 43/100\n",
            "10/10 [==============================] - 0s 6ms/step - loss: 0.1038 - val_loss: 0.1834\n",
            "Epoch 44/100\n",
            "10/10 [==============================] - 0s 5ms/step - loss: 0.0982 - val_loss: 0.1894\n",
            "Epoch 45/100\n",
            "10/10 [==============================] - 0s 5ms/step - loss: 0.1054 - val_loss: 0.1130\n",
            "Epoch 46/100\n",
            "10/10 [==============================] - 0s 7ms/step - loss: 0.0821 - val_loss: 0.2105\n",
            "Epoch 47/100\n",
            "10/10 [==============================] - 0s 5ms/step - loss: 0.0760 - val_loss: 0.1325\n",
            "Epoch 48/100\n",
            "10/10 [==============================] - 0s 5ms/step - loss: 0.0565 - val_loss: 0.1638\n",
            "Epoch 49/100\n",
            "10/10 [==============================] - 0s 6ms/step - loss: 0.0681 - val_loss: 0.1276\n",
            "Epoch 50/100\n",
            "10/10 [==============================] - 0s 5ms/step - loss: 0.0468 - val_loss: 0.1049\n",
            "Epoch 51/100\n",
            "10/10 [==============================] - 0s 5ms/step - loss: 0.0373 - val_loss: 0.0973\n",
            "Epoch 52/100\n",
            "10/10 [==============================] - 0s 5ms/step - loss: 0.0428 - val_loss: 0.1164\n",
            "Epoch 53/100\n",
            "10/10 [==============================] - 0s 5ms/step - loss: 0.0497 - val_loss: 0.1433\n",
            "Epoch 54/100\n",
            "10/10 [==============================] - 0s 5ms/step - loss: 0.0812 - val_loss: 0.1032\n",
            "Epoch 55/100\n",
            "10/10 [==============================] - 0s 5ms/step - loss: 0.1178 - val_loss: 0.1208\n",
            "Epoch 56/100\n",
            "10/10 [==============================] - 0s 5ms/step - loss: 0.1385 - val_loss: 0.1545\n",
            "Epoch 57/100\n",
            "10/10 [==============================] - 0s 5ms/step - loss: 0.1074 - val_loss: 0.1586\n",
            "Epoch 58/100\n",
            "10/10 [==============================] - 0s 5ms/step - loss: 0.1006 - val_loss: 0.1312\n",
            "Epoch 59/100\n",
            "10/10 [==============================] - 0s 6ms/step - loss: 0.1134 - val_loss: 0.1814\n",
            "Epoch 60/100\n",
            "10/10 [==============================] - 0s 6ms/step - loss: 0.0974 - val_loss: 0.1454\n",
            "Epoch 61/100\n",
            "10/10 [==============================] - 0s 5ms/step - loss: 0.0785 - val_loss: 0.1254\n",
            "Epoch 62/100\n",
            "10/10 [==============================] - 0s 5ms/step - loss: 0.0575 - val_loss: 0.1195\n",
            "Epoch 63/100\n",
            "10/10 [==============================] - 0s 6ms/step - loss: 0.0480 - val_loss: 0.1031\n",
            "Epoch 64/100\n",
            "10/10 [==============================] - 0s 7ms/step - loss: 0.0399 - val_loss: 0.1262\n",
            "Epoch 65/100\n",
            "10/10 [==============================] - 0s 6ms/step - loss: 0.0434 - val_loss: 0.1085\n",
            "Epoch 66/100\n",
            "10/10 [==============================] - 0s 6ms/step - loss: 0.0453 - val_loss: 0.1280\n",
            "Epoch 67/100\n",
            "10/10 [==============================] - 0s 6ms/step - loss: 0.0599 - val_loss: 0.1467\n",
            "Epoch 68/100\n",
            "10/10 [==============================] - 0s 5ms/step - loss: 0.0672 - val_loss: 0.1353\n",
            "Epoch 69/100\n",
            "10/10 [==============================] - 0s 6ms/step - loss: 0.0697 - val_loss: 0.1077\n",
            "Epoch 70/100\n",
            "10/10 [==============================] - 0s 5ms/step - loss: 0.0418 - val_loss: 0.1016\n",
            "Epoch 71/100\n",
            "10/10 [==============================] - 0s 5ms/step - loss: 0.0499 - val_loss: 0.1242\n",
            "Epoch 72/100\n",
            "10/10 [==============================] - 0s 6ms/step - loss: 0.0445 - val_loss: 0.1119\n",
            "Epoch 73/100\n",
            "10/10 [==============================] - 0s 6ms/step - loss: 0.0380 - val_loss: 0.0967\n",
            "Epoch 74/100\n",
            "10/10 [==============================] - 0s 5ms/step - loss: 0.0369 - val_loss: 0.1500\n",
            "Epoch 75/100\n",
            "10/10 [==============================] - 0s 5ms/step - loss: 0.0437 - val_loss: 0.1157\n",
            "Epoch 76/100\n",
            "10/10 [==============================] - 0s 6ms/step - loss: 0.0307 - val_loss: 0.1111\n",
            "Epoch 77/100\n",
            "10/10 [==============================] - 0s 5ms/step - loss: 0.0345 - val_loss: 0.1008\n",
            "Epoch 78/100\n",
            "10/10 [==============================] - 0s 6ms/step - loss: 0.0318 - val_loss: 0.1278\n",
            "Epoch 79/100\n",
            "10/10 [==============================] - 0s 5ms/step - loss: 0.0377 - val_loss: 0.1111\n",
            "Epoch 80/100\n",
            "10/10 [==============================] - 0s 6ms/step - loss: 0.0283 - val_loss: 0.1212\n",
            "Epoch 81/100\n",
            "10/10 [==============================] - 0s 6ms/step - loss: 0.0320 - val_loss: 0.1160\n",
            "Epoch 82/100\n",
            "10/10 [==============================] - 0s 5ms/step - loss: 0.0437 - val_loss: 0.1100\n",
            "Epoch 83/100\n",
            "10/10 [==============================] - 0s 6ms/step - loss: 0.0365 - val_loss: 0.1222\n",
            "Epoch 84/100\n",
            "10/10 [==============================] - 0s 6ms/step - loss: 0.0539 - val_loss: 0.1123\n",
            "Epoch 85/100\n",
            "10/10 [==============================] - 0s 6ms/step - loss: 0.0579 - val_loss: 0.1197\n",
            "Epoch 86/100\n",
            "10/10 [==============================] - 0s 5ms/step - loss: 0.0961 - val_loss: 0.1891\n",
            "Epoch 87/100\n",
            "10/10 [==============================] - 0s 5ms/step - loss: 0.1322 - val_loss: 0.2053\n",
            "Epoch 88/100\n",
            "10/10 [==============================] - 0s 5ms/step - loss: 0.1293 - val_loss: 0.2703\n",
            "Epoch 89/100\n",
            "10/10 [==============================] - 0s 6ms/step - loss: 0.1129 - val_loss: 0.1411\n",
            "Epoch 90/100\n",
            "10/10 [==============================] - 0s 6ms/step - loss: 0.0966 - val_loss: 0.1361\n",
            "Epoch 91/100\n",
            "10/10 [==============================] - 0s 6ms/step - loss: 0.0908 - val_loss: 0.1918\n",
            "Epoch 92/100\n",
            "10/10 [==============================] - 0s 6ms/step - loss: 0.1009 - val_loss: 0.1388\n",
            "Epoch 93/100\n",
            "10/10 [==============================] - 0s 5ms/step - loss: 0.0555 - val_loss: 0.1581\n",
            "Epoch 94/100\n",
            "10/10 [==============================] - 0s 5ms/step - loss: 0.0487 - val_loss: 0.1459\n",
            "Epoch 95/100\n",
            "10/10 [==============================] - 0s 6ms/step - loss: 0.0609 - val_loss: 0.2129\n",
            "Epoch 96/100\n",
            "10/10 [==============================] - 0s 6ms/step - loss: 0.0590 - val_loss: 0.1600\n",
            "Epoch 97/100\n",
            "10/10 [==============================] - 0s 6ms/step - loss: 0.1777 - val_loss: 0.3944\n",
            "Epoch 98/100\n",
            "10/10 [==============================] - 0s 6ms/step - loss: 0.2093 - val_loss: 0.4325\n",
            "Epoch 99/100\n",
            "10/10 [==============================] - 0s 6ms/step - loss: 0.2273 - val_loss: 0.2343\n",
            "Epoch 100/100\n",
            "10/10 [==============================] - 0s 6ms/step - loss: 0.2611 - val_loss: 0.3100\n"
          ],
          "name": "stdout"
        }
      ]
    },
    {
      "cell_type": "markdown",
      "metadata": {
        "id": "Rhu6h_z__Phj"
      },
      "source": [
        "val_loss가 항상 감소하지 않는 모습을 확인했다."
      ]
    },
    {
      "cell_type": "code",
      "metadata": {
        "colab": {
          "base_uri": "https://localhost:8080/",
          "height": 279
        },
        "id": "BkVS2PDa_JNQ",
        "outputId": "094b9434-201f-4654-ea12-490354d48cf9"
      },
      "source": [
        "import matplotlib.pyplot as plt\n",
        "\n",
        "plt.plot(history.history['loss'], 'b-', label='train_loss')\n",
        "plt.plot(history.history['val_loss'], 'r--', label='val_loss')\n",
        "plt.xlabel('Epoch')\n",
        "#legend는 범례 -> 아무것도 설정 안하고 그냥 하면 최적으로 알아서 그림\n",
        "plt.legend()\n",
        "plt.show()"
      ],
      "execution_count": 15,
      "outputs": [
        {
          "output_type": "display_data",
          "data": {
            "image/png": "[encoded data removed]",
            "text/plain": [
              "<Figure size 432x288 with 1 Axes>"
            ]
          },
          "metadata": {
            "tags": [],
            "needs_background": "light"
          }
        }
      ]
    },
    {
      "cell_type": "code",
      "metadata": {
        "colab": {
          "base_uri": "https://localhost:8080/"
        },
        "id": "UNN69Eky_TgT",
        "outputId": "ab69a3ec-3a9b-48a8-f5fa-f0e3e4513c0f"
      },
      "source": [
        "model.evaluate(test_X, test_Y)\n",
        "#좋은 성적이 아니다."
      ],
      "execution_count": 16,
      "outputs": [
        {
          "output_type": "stream",
          "text": [
            "4/4 [==============================] - 0s 4ms/step - loss: 0.3252\n"
          ],
          "name": "stdout"
        },
        {
          "output_type": "execute_result",
          "data": {
            "text/plain": [
              "0.3252488672733307"
            ]
          },
          "metadata": {
            "tags": []
          },
          "execution_count": 16
        }
      ]
    },
    {
      "cell_type": "code",
      "metadata": {
        "colab": {
          "base_uri": "https://localhost:8080/"
        },
        "id": "iO6_ra3U_XFW",
        "outputId": "2e4fec3f-4247-49c8-eedd-a9ebcbb52c78"
      },
      "source": [
        "# 회귀 모델 만들기[신경망] -> 중간에 중단하는 방법\n",
        "\n",
        "#unit값을 정할 때, 처음에는 많은 units값이 좋음 -> 신경망층 깊어질수록 조금씩 줄이기\n",
        "model=tf.keras.Sequential([\n",
        "                     tf.keras.layers.Dense(units=100, activation='relu',input_shape=(13, )),\n",
        "                     tf.keras.layers.Dense(units=52, activation='relu'),\n",
        "                     tf.keras.layers.Dense(units=32, activation='relu'),\n",
        "                     tf.keras.layers.Dense(units=26, activation='relu'),\n",
        "                     tf.keras.layers.Dense(units=13, activation='relu'),\n",
        "                     tf.keras.layers.Dense(units=1)\n",
        "])\n",
        "\n",
        "model.compile(optimizer = tf.keras.optimizers.Adam(lr=0.001), loss='mse')\n",
        "\n",
        "model.summary()"
      ],
      "execution_count": 17,
      "outputs": [
        {
          "output_type": "stream",
          "text": [
            "Model: \"sequential_3\"\n",
            "_________________________________________________________________\n",
            "Layer (type)                 Output Shape              Param #   \n",
            "=================================================================\n",
            "dense_14 (Dense)             (None, 100)               1400      \n",
            "_________________________________________________________________\n",
            "dense_15 (Dense)             (None, 52)                5252      \n",
            "_________________________________________________________________\n",
            "dense_16 (Dense)             (None, 32)                1696      \n",
            "_________________________________________________________________\n",
            "dense_17 (Dense)             (None, 26)                858       \n",
            "_________________________________________________________________\n",
            "dense_18 (Dense)             (None, 13)                351       \n",
            "_________________________________________________________________\n",
            "dense_19 (Dense)             (None, 1)                 14        \n",
            "=================================================================\n",
            "Total params: 9,571\n",
            "Trainable params: 9,571\n",
            "Non-trainable params: 0\n",
            "_________________________________________________________________\n"
          ],
          "name": "stdout"
        }
      ]
    },
    {
      "cell_type": "code",
      "metadata": {
        "colab": {
          "base_uri": "https://localhost:8080/"
        },
        "id": "nblHxCnY_w9Y",
        "outputId": "8060ca20-8819-43e5-9a16-95ef861404cb"
      },
      "source": [
        "#epoch값이 5개가 진행되는동안 나아진 것이 없으면 중단(대상: val_loss)\n",
        "history=model.fit(train_X, train_Y, epochs=500, batch_size=32, validation_split=0.25,\n",
        "                  callbacks=[tf.keras.callbacks.EarlyStopping(patience=5,monitor='val_loss')])"
      ],
      "execution_count": 18,
      "outputs": [
        {
          "output_type": "stream",
          "text": [
            "Epoch 1/500\n",
            "10/10 [==============================] - 1s 20ms/step - loss: 0.8788 - val_loss: 1.0050\n",
            "Epoch 2/500\n",
            "10/10 [==============================] - 0s 6ms/step - loss: 0.6850 - val_loss: 0.7649\n",
            "Epoch 3/500\n",
            "10/10 [==============================] - 0s 6ms/step - loss: 0.4454 - val_loss: 0.5555\n",
            "Epoch 4/500\n",
            "10/10 [==============================] - 0s 5ms/step - loss: 0.2558 - val_loss: 0.3714\n",
            "Epoch 5/500\n",
            "10/10 [==============================] - 0s 6ms/step - loss: 0.1844 - val_loss: 0.2677\n",
            "Epoch 6/500\n",
            "10/10 [==============================] - 0s 6ms/step - loss: 0.1897 - val_loss: 0.2325\n",
            "Epoch 7/500\n",
            "10/10 [==============================] - 0s 6ms/step - loss: 0.1442 - val_loss: 0.2131\n",
            "Epoch 8/500\n",
            "10/10 [==============================] - 0s 6ms/step - loss: 0.1247 - val_loss: 0.1963\n",
            "Epoch 9/500\n",
            "10/10 [==============================] - 0s 6ms/step - loss: 0.1536 - val_loss: 0.1838\n",
            "Epoch 10/500\n",
            "10/10 [==============================] - 0s 6ms/step - loss: 0.1124 - val_loss: 0.1703\n",
            "Epoch 11/500\n",
            "10/10 [==============================] - 0s 6ms/step - loss: 0.0763 - val_loss: 0.1651\n",
            "Epoch 12/500\n",
            "10/10 [==============================] - 0s 6ms/step - loss: 0.0798 - val_loss: 0.1625\n",
            "Epoch 13/500\n",
            "10/10 [==============================] - 0s 6ms/step - loss: 0.0636 - val_loss: 0.1569\n",
            "Epoch 14/500\n",
            "10/10 [==============================] - 0s 6ms/step - loss: 0.0806 - val_loss: 0.1592\n",
            "Epoch 15/500\n",
            "10/10 [==============================] - 0s 6ms/step - loss: 0.0970 - val_loss: 0.1435\n",
            "Epoch 16/500\n",
            "10/10 [==============================] - 0s 6ms/step - loss: 0.0748 - val_loss: 0.1576\n",
            "Epoch 17/500\n",
            "10/10 [==============================] - 0s 6ms/step - loss: 0.0729 - val_loss: 0.1499\n",
            "Epoch 18/500\n",
            "10/10 [==============================] - 0s 7ms/step - loss: 0.0783 - val_loss: 0.1378\n",
            "Epoch 19/500\n",
            "10/10 [==============================] - 0s 7ms/step - loss: 0.0580 - val_loss: 0.1353\n",
            "Epoch 20/500\n",
            "10/10 [==============================] - 0s 6ms/step - loss: 0.0695 - val_loss: 0.1332\n",
            "Epoch 21/500\n",
            "10/10 [==============================] - 0s 6ms/step - loss: 0.0515 - val_loss: 0.1299\n",
            "Epoch 22/500\n",
            "10/10 [==============================] - 0s 7ms/step - loss: 0.0525 - val_loss: 0.1338\n",
            "Epoch 23/500\n",
            "10/10 [==============================] - 0s 6ms/step - loss: 0.0506 - val_loss: 0.1304\n",
            "Epoch 24/500\n",
            "10/10 [==============================] - 0s 5ms/step - loss: 0.0466 - val_loss: 0.1268\n",
            "Epoch 25/500\n",
            "10/10 [==============================] - 0s 6ms/step - loss: 0.0405 - val_loss: 0.1291\n",
            "Epoch 26/500\n",
            "10/10 [==============================] - 0s 6ms/step - loss: 0.0519 - val_loss: 0.1223\n",
            "Epoch 27/500\n",
            "10/10 [==============================] - 0s 6ms/step - loss: 0.0429 - val_loss: 0.1248\n",
            "Epoch 28/500\n",
            "10/10 [==============================] - 0s 7ms/step - loss: 0.0468 - val_loss: 0.1291\n",
            "Epoch 29/500\n",
            "10/10 [==============================] - 0s 6ms/step - loss: 0.0429 - val_loss: 0.1234\n",
            "Epoch 30/500\n",
            "10/10 [==============================] - 0s 6ms/step - loss: 0.0322 - val_loss: 0.1190\n",
            "Epoch 31/500\n",
            "10/10 [==============================] - 0s 7ms/step - loss: 0.0468 - val_loss: 0.1220\n",
            "Epoch 32/500\n",
            "10/10 [==============================] - 0s 6ms/step - loss: 0.0350 - val_loss: 0.1239\n",
            "Epoch 33/500\n",
            "10/10 [==============================] - 0s 6ms/step - loss: 0.0427 - val_loss: 0.1174\n",
            "Epoch 34/500\n",
            "10/10 [==============================] - 0s 6ms/step - loss: 0.0353 - val_loss: 0.1257\n",
            "Epoch 35/500\n",
            "10/10 [==============================] - 0s 6ms/step - loss: 0.0416 - val_loss: 0.1238\n",
            "Epoch 36/500\n",
            "10/10 [==============================] - 0s 6ms/step - loss: 0.0408 - val_loss: 0.1188\n",
            "Epoch 37/500\n",
            "10/10 [==============================] - 0s 6ms/step - loss: 0.0336 - val_loss: 0.1195\n",
            "Epoch 38/500\n",
            "10/10 [==============================] - 0s 7ms/step - loss: 0.0315 - val_loss: 0.1175\n"
          ],
          "name": "stdout"
        }
      ]
    },
    {
      "cell_type": "code",
      "metadata": {
        "colab": {
          "base_uri": "https://localhost:8080/",
          "height": 279
        },
        "id": "CspYNASv_0yT",
        "outputId": "43a1f7ab-11e9-4fdc-b614-858f91bff92e"
      },
      "source": [
        "import matplotlib.pyplot as plt\n",
        "\n",
        "plt.plot(history.history['loss'], 'b-', label='train_loss')\n",
        "plt.plot(history.history['val_loss'], 'r--', label='val_loss')\n",
        "plt.xlabel('Epoch')\n",
        "#legend는 범례 -> 아무것도 설정 안하고 그냥 하면 최적으로 알아서 그림\n",
        "plt.legend()\n",
        "plt.show()"
      ],
      "execution_count": 19,
      "outputs": [
        {
          "output_type": "display_data",
          "data": {
            "image/png": "[encoded data removed]",
            "text/plain": [
              "<Figure size 432x288 with 1 Axes>"
            ]
          },
          "metadata": {
            "tags": [],
            "needs_background": "light"
          }
        }
      ]
    },
    {
      "cell_type": "code",
      "metadata": {
        "colab": {
          "base_uri": "https://localhost:8080/"
        },
        "id": "4J5nbt_6_75S",
        "outputId": "387a21f1-364c-4f79-9a44-6da38d91d2fb"
      },
      "source": [
        "model.evaluate(test_X, test_Y)\n",
        "#앞에 결과는 상대적으로 낮은 수치가 나왔다."
      ],
      "execution_count": 20,
      "outputs": [
        {
          "output_type": "stream",
          "text": [
            "4/4 [==============================] - 0s 3ms/step - loss: 0.2378\n"
          ],
          "name": "stdout"
        },
        {
          "output_type": "execute_result",
          "data": {
            "text/plain": [
              "0.2378174215555191"
            ]
          },
          "metadata": {
            "tags": []
          },
          "execution_count": 20
        }
      ]
    },
    {
      "cell_type": "code",
      "metadata": {
        "id": "SDXofJwWADVd"
      },
      "source": [
        "# 조기 중단을 수행한 모델이 학습이 더 잘 되었다."
      ],
      "execution_count": null,
      "outputs": []
    }
  ]
}